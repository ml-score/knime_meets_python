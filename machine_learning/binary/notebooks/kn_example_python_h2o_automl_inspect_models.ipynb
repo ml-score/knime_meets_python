{
 "cells": [
  {
   "cell_type": "markdown",
   "id": "3e6e5771",
   "metadata": {},
   "source": [
    "### Inspect H2O.ai AutoML models\n",
    "\n",
    "You can inspect the H2O.ai models you have created and collected and choose the best one to be inspected and loaded and re-used. Just in case you loose track of all the models you have created ....\n",
    "\n",
    "\n",
    "<img src=\"../KNIME_loves_h2o.png\" width=\"600\">\n",
    "\n",
    "\n",
    "##### KNIME workflow\n",
    "https://hub.knime.com/-/spaces/-/latest/~GABT_OgeoWxWJW9P/\n",
    "\n",
    "\n",
    "##### GitHub repository\n",
    "https://github.com/ml-score/knime_meets_python/tree/main/machine_learning\n"
   ]
  },
  {
   "cell_type": "code",
   "execution_count": 1,
   "id": "e9c5e9e7",
   "metadata": {},
   "outputs": [],
   "source": [
    "import glob\n",
    "import json\n",
    "\n",
    "import numpy as np\n",
    "import pandas as pd\n",
    "import pyarrow.parquet as pq"
   ]
  },
  {
   "cell_type": "code",
   "execution_count": 2,
   "id": "2f01f725",
   "metadata": {},
   "outputs": [],
   "source": [
    "from sklearn.model_selection import train_test_split\n",
    "from sklearn.metrics import roc_auc_score, auc, average_precision_score, precision_recall_curve"
   ]
  },
  {
   "cell_type": "code",
   "execution_count": 3,
   "id": "ef95d50d",
   "metadata": {},
   "outputs": [
    {
     "name": "stdout",
     "output_type": "stream",
     "text": [
      "setenv JAVA_HOME /Applications/KNIME 4.7.1.app/Contents/Eclipse/plugins/org.knime.binary.jre.macosx.aarch64_17.0.5.20230320/jre/Contents/Home\n"
     ]
    }
   ],
   "source": [
    "# provide a software like h2o with a java path using KNIME's own java version\n",
    "# variable java.home from KNIME\n",
    "\n",
    "# https://hub.knime.com/-/spaces/-/latest/~SGv1Cosah8BXabfa/\n",
    "\n",
    "# KNIME Snippets (2): Unearthing Hidden Node Gems — Managing Missing Values, Row Numbers and some Quick Java and Paths\n",
    "# https://medium.com/p/3c3c7acb019f\n",
    "\n",
    "import os;\n",
    "\n",
    "# your own Java path might look different obviously :-) - check the link and the Medium article about how to find it\n",
    "\n",
    "# os.environ[\"JAVA_HOME\"] = \"C:\\\\Users\\\\x123456789\\\\software\\\\knime_4.6.1\\\\plugins\\\\org.knime.binary.jre.win32.x86_64_17.0.3.20220621\\\\jre\"\n",
    "\n",
    "os.environ[\"JAVA_HOME\"] = \"/Applications/KNIME 4.7.1.app/Contents/Eclipse/plugins/org.knime.binary.jre.macosx.aarch64_17.0.5.20230320/jre/Contents/Home\"\n",
    "\n",
    "\n",
    "print(\"setenv JAVA_HOME\", os.environ[\"JAVA_HOME\"])"
   ]
  },
  {
   "cell_type": "code",
   "execution_count": 4,
   "id": "83b5750c",
   "metadata": {},
   "outputs": [
    {
     "name": "stdout",
     "output_type": "stream",
     "text": [
      "Checking whether there is an H2O instance running at http://localhost:54321. connected.\n"
     ]
    },
    {
     "data": {
      "text/html": [
       "\n",
       "<style>\n",
       "\n",
       "#h2o-table-1.h2o-container {\n",
       "  overflow-x: auto;\n",
       "}\n",
       "#h2o-table-1 .h2o-table {\n",
       "  /* width: 100%; */\n",
       "  margin-top: 1em;\n",
       "  margin-bottom: 1em;\n",
       "}\n",
       "#h2o-table-1 .h2o-table caption {\n",
       "  white-space: nowrap;\n",
       "  caption-side: top;\n",
       "  text-align: left;\n",
       "  /* margin-left: 1em; */\n",
       "  margin: 0;\n",
       "  font-size: larger;\n",
       "}\n",
       "#h2o-table-1 .h2o-table thead {\n",
       "  white-space: nowrap; \n",
       "  position: sticky;\n",
       "  top: 0;\n",
       "  box-shadow: 0 -1px inset;\n",
       "}\n",
       "#h2o-table-1 .h2o-table tbody {\n",
       "  overflow: auto;\n",
       "}\n",
       "#h2o-table-1 .h2o-table th,\n",
       "#h2o-table-1 .h2o-table td {\n",
       "  text-align: right;\n",
       "  /* border: 1px solid; */\n",
       "}\n",
       "#h2o-table-1 .h2o-table tr:nth-child(even) {\n",
       "  /* background: #F5F5F5 */\n",
       "}\n",
       "\n",
       "</style>      \n",
       "<div id=\"h2o-table-1\" class=\"h2o-container\">\n",
       "  <table class=\"h2o-table\">\n",
       "    <caption></caption>\n",
       "    <thead></thead>\n",
       "    <tbody><tr><td>H2O_cluster_uptime:</td>\n",
       "<td>34 mins 18 secs</td></tr>\n",
       "<tr><td>H2O_cluster_timezone:</td>\n",
       "<td>Europe/Berlin</td></tr>\n",
       "<tr><td>H2O_data_parsing_timezone:</td>\n",
       "<td>UTC</td></tr>\n",
       "<tr><td>H2O_cluster_version:</td>\n",
       "<td>3.40.0.4</td></tr>\n",
       "<tr><td>H2O_cluster_version_age:</td>\n",
       "<td>1 month and 5 days</td></tr>\n",
       "<tr><td>H2O_cluster_name:</td>\n",
       "<td>H2O_from_python_m_lauber_bsubix</td></tr>\n",
       "<tr><td>H2O_cluster_total_nodes:</td>\n",
       "<td>1</td></tr>\n",
       "<tr><td>H2O_cluster_free_memory:</td>\n",
       "<td>7.868 Gb</td></tr>\n",
       "<tr><td>H2O_cluster_total_cores:</td>\n",
       "<td>10</td></tr>\n",
       "<tr><td>H2O_cluster_allowed_cores:</td>\n",
       "<td>10</td></tr>\n",
       "<tr><td>H2O_cluster_status:</td>\n",
       "<td>locked, healthy</td></tr>\n",
       "<tr><td>H2O_connection_url:</td>\n",
       "<td>http://localhost:54321</td></tr>\n",
       "<tr><td>H2O_connection_proxy:</td>\n",
       "<td>{\"http\": null, \"https\": null}</td></tr>\n",
       "<tr><td>H2O_internal_security:</td>\n",
       "<td>False</td></tr>\n",
       "<tr><td>Python_version:</td>\n",
       "<td>3.9.15 final</td></tr></tbody>\n",
       "  </table>\n",
       "</div>\n"
      ],
      "text/plain": [
       "--------------------------  -------------------------------\n",
       "H2O_cluster_uptime:         34 mins 18 secs\n",
       "H2O_cluster_timezone:       Europe/Berlin\n",
       "H2O_data_parsing_timezone:  UTC\n",
       "H2O_cluster_version:        3.40.0.4\n",
       "H2O_cluster_version_age:    1 month and 5 days\n",
       "H2O_cluster_name:           H2O_from_python_m_lauber_bsubix\n",
       "H2O_cluster_total_nodes:    1\n",
       "H2O_cluster_free_memory:    7.868 Gb\n",
       "H2O_cluster_total_cores:    10\n",
       "H2O_cluster_allowed_cores:  10\n",
       "H2O_cluster_status:         locked, healthy\n",
       "H2O_connection_url:         http://localhost:54321\n",
       "H2O_connection_proxy:       {\"http\": null, \"https\": null}\n",
       "H2O_internal_security:      False\n",
       "Python_version:             3.9.15 final\n",
       "--------------------------  -------------------------------"
      ]
     },
     "metadata": {},
     "output_type": "display_data"
    }
   ],
   "source": [
    "# initiate h2o\n",
    "# pip uninstall h2o\n",
    "# if it is already running it will cconnect to the running cluster\n",
    "# # pip install -f http://h2o-release.s3.amazonaws.com/h2o/latest_stable_Py.html h2o\n",
    "\n",
    "# conda install -c h2oai h2o\n",
    "\n",
    "import h2o\n",
    "\n",
    "from h2o.automl import H2OAutoML\n",
    "\n",
    "h2o.init()\n",
    "\n",
    "# under Windows there might be a problem with the progress bar - so you could just turn it off\n",
    "# https://forum.knime.com/t/python-script-and-h2o-data-frames-error-under-windows/21099/4?u=mlauber71\n",
    "# h2o.no_progress()"
   ]
  },
  {
   "cell_type": "code",
   "execution_count": 5,
   "id": "fdd32734",
   "metadata": {},
   "outputs": [],
   "source": [
    "# if you do not want to store the files in the working directory\n",
    "var_path_data = \"../\"\n",
    "var_path_model = \"../model/\""
   ]
  },
  {
   "cell_type": "code",
   "execution_count": 6,
   "id": "d62ec900",
   "metadata": {},
   "outputs": [],
   "source": [
    "data_list = []\n",
    "\n",
    "# you obviously can adapt the search rules\n",
    "for filename in glob.glob(f\"{var_path_model}/H2O_AutoML_Classification*.json\"):\n",
    "    with open(filename, \"r\") as f:\n",
    "        data = json.load(f)\n",
    "        if \"Test_AUCPR\" in data:\n",
    "            var_model_name = data[\"var_model_name_full\"]\n",
    "            test_aucpr = float(data[\"Test_AUCPR\"])\n",
    "            test_auc = float(data[\"Test_AUC\"])\n",
    "            data_list.append({\"var_model_name_full\": var_model_name, \"Test_AUCPR\": test_aucpr, \"Test_AUC\": test_auc})\n",
    "\n",
    "df = pd.DataFrame(data_list)\n",
    "df = df.sort_values(by=\"Test_AUCPR\", ascending=False)"
   ]
  },
  {
   "cell_type": "code",
   "execution_count": 7,
   "id": "5ec5b414",
   "metadata": {},
   "outputs": [
    {
     "data": {
      "text/html": [
       "<div>\n",
       "<style scoped>\n",
       "    .dataframe tbody tr th:only-of-type {\n",
       "        vertical-align: middle;\n",
       "    }\n",
       "\n",
       "    .dataframe tbody tr th {\n",
       "        vertical-align: top;\n",
       "    }\n",
       "\n",
       "    .dataframe thead th {\n",
       "        text-align: right;\n",
       "    }\n",
       "</style>\n",
       "<table border=\"1\" class=\"dataframe\">\n",
       "  <thead>\n",
       "    <tr style=\"text-align: right;\">\n",
       "      <th></th>\n",
       "      <th>var_model_name_full</th>\n",
       "      <th>Test_AUCPR</th>\n",
       "      <th>Test_AUC</th>\n",
       "    </tr>\n",
       "  </thead>\n",
       "  <tbody>\n",
       "    <tr>\n",
       "      <th>0</th>\n",
       "      <td>H2O_AutoML_Classification_20230224_2014h_jupyter</td>\n",
       "      <td>0.82430</td>\n",
       "      <td>0.92864</td>\n",
       "    </tr>\n",
       "    <tr>\n",
       "      <th>2</th>\n",
       "      <td>H2O_AutoML_Classification_20230319_1835h_jupyter</td>\n",
       "      <td>0.82430</td>\n",
       "      <td>0.92864</td>\n",
       "    </tr>\n",
       "    <tr>\n",
       "      <th>1</th>\n",
       "      <td>H2O_AutoML_Classification_20230603_1116h_jupyter</td>\n",
       "      <td>0.82083</td>\n",
       "      <td>0.92714</td>\n",
       "    </tr>\n",
       "  </tbody>\n",
       "</table>\n",
       "</div>"
      ],
      "text/plain": [
       "                                var_model_name_full  Test_AUCPR  Test_AUC\n",
       "0  H2O_AutoML_Classification_20230224_2014h_jupyter     0.82430   0.92864\n",
       "2  H2O_AutoML_Classification_20230319_1835h_jupyter     0.82430   0.92864\n",
       "1  H2O_AutoML_Classification_20230603_1116h_jupyter     0.82083   0.92714"
      ]
     },
     "execution_count": 7,
     "metadata": {},
     "output_type": "execute_result"
    }
   ],
   "source": [
    "df.head(10)"
   ]
  },
  {
   "cell_type": "code",
   "execution_count": 8,
   "id": "b428e050",
   "metadata": {},
   "outputs": [
    {
     "name": "stdout",
     "output_type": "stream",
     "text": [
      "Highest AUCPR: 0.8243, Model name: H2O_AutoML_Classification_20230224_2014h_jupyter\n"
     ]
    }
   ],
   "source": [
    "max_aucpr = df[\"Test_AUCPR\"].max()\n",
    "var_model_name_full = df.loc[df[\"Test_AUCPR\"] == max_aucpr, \"var_model_name_full\"].iloc[0]\n",
    "\n",
    "print(f\"Highest AUCPR: {max_aucpr}, Model name: {var_model_name_full}\")"
   ]
  },
  {
   "cell_type": "markdown",
   "id": "83fa4764",
   "metadata": {},
   "source": [
    "## Apply the H2O.ai model with all the settings"
   ]
  },
  {
   "cell_type": "code",
   "execution_count": null,
   "id": "afa36194",
   "metadata": {},
   "outputs": [],
   "source": [
    "saved_mojo_model = h2o.import_mojo(var_path_model + var_model_name_full + \"_model_stored.zip\")"
   ]
  },
  {
   "cell_type": "code",
   "execution_count": null,
   "id": "8f07d764",
   "metadata": {},
   "outputs": [],
   "source": [
    "saved_mojo_model"
   ]
  },
  {
   "cell_type": "code",
   "execution_count": null,
   "id": "5d9b47d2",
   "metadata": {},
   "outputs": [],
   "source": [
    "# extract important tables from model to store later\n",
    "feature_imp = saved_mojo_model._model_json['output']['variable_importances'].as_data_frame()"
   ]
  },
  {
   "cell_type": "code",
   "execution_count": null,
   "id": "f4345213",
   "metadata": {},
   "outputs": [],
   "source": [
    "feature_imp.head(25)"
   ]
  },
  {
   "cell_type": "code",
   "execution_count": null,
   "id": "bedf8d48",
   "metadata": {},
   "outputs": [],
   "source": [
    "gains_lift_table = saved_mojo_model.gains_lift()\n",
    "avg_response_rate_df = gains_lift_table.as_data_frame()\n",
    "avg_response_rate_df.head(25)"
   ]
  },
  {
   "cell_type": "code",
   "execution_count": null,
   "id": "a42592b1",
   "metadata": {},
   "outputs": [],
   "source": [
    "avg_response_rate_df.to_parquet(var_path_model + var_model_name_full + \"_gains_lift_table.parquet\", compression='gzip')\n",
    "avg_response_rate_df.to_excel(var_path_model + var_model_name_full + \"_gains_lift_table.xlsx\", index=False)"
   ]
  },
  {
   "cell_type": "code",
   "execution_count": null,
   "id": "971c70b3",
   "metadata": {},
   "outputs": [],
   "source": [
    "# Read the JSON file back into a Python dictionary\n",
    "with open(var_path_model + var_model_name_full + \"_variable_list.json\", \"r\") as f:\n",
    "    loaded_dict = json.load(f)\n",
    "\n",
    "# fill the list of categorical columns\n",
    "new_cat_cols = loaded_dict['cat_cols']\n",
    "new_features = loaded_dict['features']"
   ]
  },
  {
   "cell_type": "code",
   "execution_count": null,
   "id": "f4120fba",
   "metadata": {},
   "outputs": [],
   "source": [
    "data_to_apply = pq.read_table(var_path_data + \"test.parquet\").to_pandas()"
   ]
  },
  {
   "cell_type": "code",
   "execution_count": null,
   "id": "e748f6b7",
   "metadata": {},
   "outputs": [],
   "source": [
    "df_apply = h2o.H2OFrame(data_to_apply[new_features].copy())"
   ]
  },
  {
   "cell_type": "code",
   "execution_count": null,
   "id": "78ff529e",
   "metadata": {},
   "outputs": [],
   "source": [
    "shap_plot = saved_mojo_model.shap_summary_plot(df_apply)"
   ]
  },
  {
   "cell_type": "code",
   "execution_count": null,
   "id": "069b38e5",
   "metadata": {},
   "outputs": [],
   "source": [
    "# saved_mojo_model.explain(df_apply)"
   ]
  },
  {
   "cell_type": "code",
   "execution_count": null,
   "id": "e644c9ca",
   "metadata": {},
   "outputs": [],
   "source": [
    "# exm = saved_mojo_model.explain(df_apply)"
   ]
  },
  {
   "cell_type": "code",
   "execution_count": null,
   "id": "7a56a032",
   "metadata": {},
   "outputs": [],
   "source": [
    "# the prediction on the validation dataset will be brought back to KNIME\n",
    "probabilities_df = saved_mojo_model.predict(df_apply).as_data_frame()"
   ]
  },
  {
   "cell_type": "code",
   "execution_count": null,
   "id": "0fc95c31",
   "metadata": {},
   "outputs": [],
   "source": [
    "probabilities_df.head()"
   ]
  },
  {
   "cell_type": "code",
   "execution_count": null,
   "id": "2018a82b",
   "metadata": {},
   "outputs": [],
   "source": [
    "result = pd.concat([df_apply.as_data_frame(), probabilities_df], axis=1)"
   ]
  },
  {
   "cell_type": "code",
   "execution_count": null,
   "id": "5d3a2307",
   "metadata": {},
   "outputs": [],
   "source": [
    "result.head()"
   ]
  },
  {
   "cell_type": "code",
   "execution_count": null,
   "id": "13ed9d08",
   "metadata": {},
   "outputs": [],
   "source": [
    "# from sklearn.metrics import average_precision_score\n",
    "aucpr = average_precision_score(result['Target'], result['p1'], average='weighted', pos_label=1)\n",
    "print(f'Test AUCPR: {aucpr:.4f}')"
   ]
  },
  {
   "cell_type": "code",
   "execution_count": null,
   "id": "37beab72",
   "metadata": {},
   "outputs": [],
   "source": [
    "# evaluate the best model on the test data\n",
    "auc_pred = roc_auc_score(result['Target'], result['p1'], average='weighted')\n",
    "print(f'Test AUC: {auc_pred:.4f}')"
   ]
  },
  {
   "cell_type": "code",
   "execution_count": null,
   "id": "94b17a05",
   "metadata": {},
   "outputs": [],
   "source": [
    "import numpy as np\n",
    "import pandas as pd\n",
    "from sklearn.metrics import precision_recall_curve\n",
    "import matplotlib.pyplot as plt\n",
    "\n",
    "y_true = result[\"Target\"].astype(int).values\n",
    "y_score = result[\"p1\"].values\n",
    "\n",
    "precision, recall, thresholds = precision_recall_curve(y_true, y_score)\n",
    "auc_pr = np.trapz(precision, recall)\n",
    "\n",
    "plt.tight_layout()\n",
    "plt.gcf().set_size_inches(10.24, 7.68)\n",
    "plt.step(recall, precision, color='b', alpha=0.2, where='post')\n",
    "plt.fill_between(recall, precision, step='post', alpha=0.2, color='b')\n",
    "plt.xlabel('Recall - ' + var_model_name_full)\n",
    "plt.ylabel('Precision')\n",
    "plt.ylim([0.0, 1.05])\n",
    "plt.xlim([0.0, 1.0])\n",
    "plt.title('Precision-Recall curve: AUCPR={0:0.4f}'.format(auc_pr))\n",
    "plt.savefig(var_path_model + var_model_name_full + \"_aucpr_plot.png\")\n",
    "plt.show()"
   ]
  },
  {
   "cell_type": "code",
   "execution_count": null,
   "id": "b093c7fe",
   "metadata": {},
   "outputs": [],
   "source": [
    "import numpy as np\n",
    "import pandas as pd\n",
    "from sklearn.metrics import roc_curve, auc\n",
    "import matplotlib.pyplot as plt\n",
    "\n",
    "y_true = result[\"Target\"].astype(int).values\n",
    "y_score = result[\"p1\"].values\n",
    "\n",
    "fpr, tpr, thresholds = roc_curve(y_true, y_score)\n",
    "auc_roc = auc(fpr, tpr)\n",
    "\n",
    "plt.tight_layout()\n",
    "plt.gcf().set_size_inches(10.24, 7.68)\n",
    "plt.plot(fpr, tpr, color='b', lw=2, alpha=0.8)\n",
    "plt.plot([0, 1], [0, 1], linestyle='--', lw=2, color='r', alpha=0.8)\n",
    "plt.xlabel('False Positive Rate - ' + var_model_name_full)\n",
    "plt.ylabel('True Positive Rate')\n",
    "plt.ylim([0.0, 1.05])\n",
    "plt.xlim([0.0, 1.0])\n",
    "plt.title('Receiver Operating Characteristic curve: AUC={0:0.4f}'.format(auc_roc))\n",
    "plt.savefig(var_path_model + var_model_name_full + \"_auc_plot.png\")\n",
    "plt.show()"
   ]
  },
  {
   "cell_type": "code",
   "execution_count": null,
   "id": "484017d8",
   "metadata": {},
   "outputs": [],
   "source": []
  }
 ],
 "metadata": {
  "kernelspec": {
   "display_name": "Python 3 (ipykernel)",
   "language": "python",
   "name": "python3"
  },
  "language_info": {
   "codemirror_mode": {
    "name": "ipython",
    "version": 3
   },
   "file_extension": ".py",
   "mimetype": "text/x-python",
   "name": "python",
   "nbconvert_exporter": "python",
   "pygments_lexer": "ipython3",
   "version": "3.9.15"
  }
 },
 "nbformat": 4,
 "nbformat_minor": 5
}
