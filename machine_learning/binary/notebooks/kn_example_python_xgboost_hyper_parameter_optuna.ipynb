{
 "cells": [
  {
   "cell_type": "markdown",
   "id": "e9ebb351",
   "metadata": {},
   "source": [
    "### Use Python XGBoost and Optuna hyper parameter tuning to build model and deploy with KNIME Python nodes\n",
    "\n",
    "\n",
    "<img src=\"../KNIME_loves_xgboost_optuna.png\" width=\"600\">\n",
    "\n",
    "\n",
    "##### KNIME workflow\n",
    "https://hub.knime.com/-/spaces/-/latest/~GABT_OgeoWxWJW9P/\n",
    "\n",
    "\n",
    "##### GitHub: A small collection of Jupyter Notebooks to solve CLASSIFICATION tasks\n",
    "\n",
    "https://github.com/ml-score/knime_meets_python/tree/main/machine_learning/binary\n",
    "\n",
    "##### MEDIUM Blog: KNIME, XGBoost and Optuna for Hyper Parameter Optimization\n",
    "\n",
    "https://medium.com/p/dcf0efdc8ddf\n",
    "\n",
    "##### Medium Blog: KNIME — Machine Learning and Artificial Intelligence— A Collection\n",
    "\n",
    "https://medium.com/p/12e0f7d83b50\n",
    "\n",
    "##### Medium Blog: About Machine-Learning — How it Fails and Succeeds\n",
    "\n",
    "https://medium.com/p/9f3ab7cb9b00\n",
    "\n",
    "###### Optuna\n",
    "\n",
    "https://optuna.readthedocs.io/en/stable/index.html\n",
    "\n",
    "###### additional links and texts\n",
    "\n",
    "https://lightgbm.readthedocs.io/en/latest/Parameters-Tuning.html#for-better-accuracy\n",
    "\n",
    "https://stackoverflow.com/questions/67080149/xgboost-error-when-categorical-type-is-supplied-dmatrix-parameter-enable-cat\n",
    "\n",
    "\n",
    "https://towardsdatascience.com/how-to-beat-the-heck-out-of-xgboost-with-lightgbm-comprehensive-tutorial-5eba52195997\n",
    "\n",
    "https://towardsdatascience.com/kagglers-guide-to-lightgbm-hyperparameter-tuning-with-optuna-in-2021-ed048d9838b5\n",
    "\n",
    "\n",
    "https://towardsdatascience.com/a-conceptual-explanation-of-bayesian-model-based-hyperparameter-optimization-for-machine-learning-b8172278050f\n",
    "\n",
    "some parameters have been discussed with ChatGPT ...."
   ]
  },
  {
   "cell_type": "code",
   "execution_count": 1,
   "id": "80e8bd4f",
   "metadata": {
    "scrolled": true
   },
   "outputs": [],
   "source": [
    "import numpy as np\n",
    "import pandas as pd\n",
    "import pyarrow.parquet as pq\n",
    "import json\n",
    "import pickle\n",
    "import logging"
   ]
  },
  {
   "cell_type": "code",
   "execution_count": 2,
   "id": "7f095555",
   "metadata": {
    "scrolled": true
   },
   "outputs": [],
   "source": [
    "import xgboost as xgb\n",
    "\n",
    "from sklearn.model_selection import train_test_split\n",
    "from sklearn.metrics import roc_auc_score, auc, average_precision_score, precision_recall_curve\n",
    "\n",
    "import optuna\n",
    "from optuna.visualization import plot_optimization_history, plot_param_importances\n",
    "import matplotlib.pyplot as plt\n",
    "import plotly\n",
    "import matplotlib\n",
    "import kaleido"
   ]
  },
  {
   "cell_type": "code",
   "execution_count": 3,
   "id": "77fd127f",
   "metadata": {},
   "outputs": [
    {
     "name": "stdout",
     "output_type": "stream",
     "text": [
      "var_timestamp_day:  20240229\n",
      "var_timestamp_time:  1512h\n",
      "var_model_name_full:  XGBoost_Optuna_Classification_20240229_1512h_jupyter\n"
     ]
    }
   ],
   "source": [
    "# http://strftime.org'\n",
    "import time\n",
    "var_timestamp_day = \"{}\".format(time.strftime(\"%Y%m%d\"))\n",
    "# flow_variables['var_timestamp_day'] = var_timestamp_day\n",
    "print(\"var_timestamp_day: \", var_timestamp_day)\n",
    "\n",
    "var_timestamp_time = \"{}h\".format(time.strftime(\"%H%M\"))\n",
    "# flow_variables['var_timestamp_time'] = var_timestamp_time\n",
    "print(\"var_timestamp_time: \", var_timestamp_time)\n",
    "\n",
    "# _edit: if you want to have another model name\n",
    "var_model_name = \"XGBoost_Optuna_Classification\"\n",
    "# flow_variables['var_model_name'] = var_model_name\n",
    "\n",
    "var_model_name_full = var_model_name + \"_\" + var_timestamp_day  + \"_\" + var_timestamp_time + \"_jupyter\"\n",
    "# flow_variables['var_model_name_full'] = var_model_name_full\n",
    "print(\"var_model_name_full: \", var_model_name_full)\n",
    "\n",
    "# if you do not want to store the files in the working directory\n",
    "var_path_data = \"../\"\n",
    "var_path_model = \"../model/\""
   ]
  },
  {
   "cell_type": "markdown",
   "id": "68791ce3",
   "metadata": {},
   "source": [
    "The data used has beed adapted from:\n",
    "\n",
    "**Census Income Data Set**\n",
    "\n",
    "Abstract: Predict whether income exceeds $50K/yr based on census data. Also known as \"Adult\" dataset.\n",
    "\n",
    "Extract and prepare the Census Income Files for usage in KNIME\n",
    "\n",
    "https://archive.ics.uci.edu/ml/datasets/census+income"
   ]
  },
  {
   "cell_type": "code",
   "execution_count": 4,
   "id": "22a6c436",
   "metadata": {
    "scrolled": true
   },
   "outputs": [],
   "source": [
    "data      = pq.read_table(var_path_data + \"train.parquet\").to_pandas()\n",
    "data_test = pq.read_table(var_path_data + \"test.parquet\").to_pandas()"
   ]
  },
  {
   "cell_type": "code",
   "execution_count": 5,
   "id": "d085dd1d",
   "metadata": {
    "scrolled": true
   },
   "outputs": [],
   "source": [
    "data = data.reset_index(drop=True)"
   ]
  },
  {
   "cell_type": "code",
   "execution_count": 6,
   "id": "dff52bbc",
   "metadata": {
    "scrolled": true
   },
   "outputs": [],
   "source": [
    "data_test = data_test.reset_index(drop=True)"
   ]
  },
  {
   "cell_type": "code",
   "execution_count": 7,
   "id": "6e7f623d",
   "metadata": {
    "scrolled": true
   },
   "outputs": [
    {
     "name": "stdout",
     "output_type": "stream",
     "text": [
      "data shape:          (34189, 16)\n",
      "data[features] shape: (34189, 14)\n",
      "categorical columns: ['workclass', 'education', 'marital-status', 'occupation', 'relationship', 'race', 'sex', 'native-country']\n",
      "numerical columns: ['age', 'fnlwgt', 'education-num', 'capital-gain', 'capital-loss', 'hours-per-week']\n",
      "feature columns: ['age', 'workclass', 'fnlwgt', 'education', 'education-num', 'marital-status', 'occupation', 'relationship', 'race', 'sex', 'capital-gain', 'capital-loss', 'hours-per-week', 'native-country']\n",
      "rest columns: ['age', 'fnlwgt', 'education-num', 'capital-gain', 'capital-loss', 'hours-per-week', 'Target', 'row_id']\n"
     ]
    }
   ],
   "source": [
    "excluded_features = ['row_id']\n",
    "label = ['Target']\n",
    "# features = [feat for feat in data.columns if feat not in excluded_features and not feat==label]\n",
    "features = [feat for feat in data.columns if feat not in excluded_features and feat not in label]\n",
    "\n",
    "num_cols = data[features].select_dtypes(include='number').columns.tolist()\n",
    "cat_cols = data[features].select_dtypes(exclude='number').columns.tolist()\n",
    "\n",
    "rest_cols = [feat for feat in data.columns if feat not in cat_cols]\n",
    "\n",
    "print(f'''{\"data shape:\":20} {data.shape}\n",
    "{\"data[features] shape:\":20} {data[features].shape}\n",
    "categorical columns: {cat_cols}\n",
    "numerical columns: {num_cols}\n",
    "feature columns: {features}\n",
    "rest columns: {rest_cols}''')\n",
    "\n",
    "# THX David Gutmann "
   ]
  },
  {
   "cell_type": "code",
   "execution_count": 8,
   "id": "d7606646",
   "metadata": {
    "scrolled": true
   },
   "outputs": [
    {
     "name": "stdout",
     "output_type": "stream",
     "text": [
      "age                int32\n",
      "workclass         object\n",
      "fnlwgt             int32\n",
      "education         object\n",
      "education-num      int32\n",
      "marital-status    object\n",
      "occupation        object\n",
      "relationship      object\n",
      "race              object\n",
      "sex               object\n",
      "capital-gain       int32\n",
      "capital-loss       int32\n",
      "hours-per-week     int32\n",
      "native-country    object\n",
      "Target            object\n",
      "row_id            object\n",
      "dtype: object\n"
     ]
    }
   ],
   "source": [
    "print(data.dtypes)"
   ]
  },
  {
   "cell_type": "code",
   "execution_count": 9,
   "id": "89b8630c",
   "metadata": {
    "scrolled": true
   },
   "outputs": [],
   "source": [
    "data[cat_cols] = data[cat_cols].astype('category')"
   ]
  },
  {
   "cell_type": "code",
   "execution_count": 10,
   "id": "73e7647c",
   "metadata": {
    "scrolled": true
   },
   "outputs": [],
   "source": [
    "data[label] = data[label].astype('int32')"
   ]
  },
  {
   "cell_type": "code",
   "execution_count": 11,
   "id": "422ab94d",
   "metadata": {
    "scrolled": true
   },
   "outputs": [
    {
     "name": "stdout",
     "output_type": "stream",
     "text": [
      "age                  int32\n",
      "workclass         category\n",
      "fnlwgt               int32\n",
      "education         category\n",
      "education-num        int32\n",
      "marital-status    category\n",
      "occupation        category\n",
      "relationship      category\n",
      "race              category\n",
      "sex               category\n",
      "capital-gain         int32\n",
      "capital-loss         int32\n",
      "hours-per-week       int32\n",
      "native-country    category\n",
      "Target               int32\n",
      "row_id              object\n",
      "dtype: object\n"
     ]
    }
   ],
   "source": [
    "print(data.dtypes)"
   ]
  },
  {
   "cell_type": "code",
   "execution_count": 12,
   "id": "916a4aec",
   "metadata": {
    "scrolled": true
   },
   "outputs": [],
   "source": [
    "# split training data into X and y\n",
    "X = data[features]\n",
    "y = data[label]"
   ]
  },
  {
   "cell_type": "code",
   "execution_count": 13,
   "id": "e7ec09dc",
   "metadata": {
    "scrolled": true
   },
   "outputs": [
    {
     "data": {
      "text/html": [
       "<div>\n",
       "<style scoped>\n",
       "    .dataframe tbody tr th:only-of-type {\n",
       "        vertical-align: middle;\n",
       "    }\n",
       "\n",
       "    .dataframe tbody tr th {\n",
       "        vertical-align: top;\n",
       "    }\n",
       "\n",
       "    .dataframe thead th {\n",
       "        text-align: right;\n",
       "    }\n",
       "</style>\n",
       "<table border=\"1\" class=\"dataframe\">\n",
       "  <thead>\n",
       "    <tr style=\"text-align: right;\">\n",
       "      <th></th>\n",
       "      <th>age</th>\n",
       "      <th>workclass</th>\n",
       "      <th>fnlwgt</th>\n",
       "      <th>education</th>\n",
       "      <th>education-num</th>\n",
       "      <th>marital-status</th>\n",
       "      <th>occupation</th>\n",
       "      <th>relationship</th>\n",
       "      <th>race</th>\n",
       "      <th>sex</th>\n",
       "      <th>capital-gain</th>\n",
       "      <th>capital-loss</th>\n",
       "      <th>hours-per-week</th>\n",
       "      <th>native-country</th>\n",
       "    </tr>\n",
       "  </thead>\n",
       "  <tbody>\n",
       "    <tr>\n",
       "      <th>0</th>\n",
       "      <td>39</td>\n",
       "      <td>State-gov</td>\n",
       "      <td>77516</td>\n",
       "      <td>Bachelors</td>\n",
       "      <td>13</td>\n",
       "      <td>Never-married</td>\n",
       "      <td>Adm-clerical</td>\n",
       "      <td>Not-in-family</td>\n",
       "      <td>White</td>\n",
       "      <td>Male</td>\n",
       "      <td>2174</td>\n",
       "      <td>0</td>\n",
       "      <td>40</td>\n",
       "      <td>United-States</td>\n",
       "    </tr>\n",
       "    <tr>\n",
       "      <th>1</th>\n",
       "      <td>38</td>\n",
       "      <td>Private</td>\n",
       "      <td>215646</td>\n",
       "      <td>HS-grad</td>\n",
       "      <td>9</td>\n",
       "      <td>Divorced</td>\n",
       "      <td>Handlers-cleaners</td>\n",
       "      <td>Not-in-family</td>\n",
       "      <td>White</td>\n",
       "      <td>Male</td>\n",
       "      <td>0</td>\n",
       "      <td>0</td>\n",
       "      <td>40</td>\n",
       "      <td>United-States</td>\n",
       "    </tr>\n",
       "    <tr>\n",
       "      <th>2</th>\n",
       "      <td>53</td>\n",
       "      <td>Private</td>\n",
       "      <td>234721</td>\n",
       "      <td>11th</td>\n",
       "      <td>7</td>\n",
       "      <td>Married-civ-spouse</td>\n",
       "      <td>Handlers-cleaners</td>\n",
       "      <td>Husband</td>\n",
       "      <td>Black</td>\n",
       "      <td>Male</td>\n",
       "      <td>0</td>\n",
       "      <td>0</td>\n",
       "      <td>40</td>\n",
       "      <td>United-States</td>\n",
       "    </tr>\n",
       "    <tr>\n",
       "      <th>3</th>\n",
       "      <td>37</td>\n",
       "      <td>Private</td>\n",
       "      <td>284582</td>\n",
       "      <td>Masters</td>\n",
       "      <td>14</td>\n",
       "      <td>Married-civ-spouse</td>\n",
       "      <td>Exec-managerial</td>\n",
       "      <td>Wife</td>\n",
       "      <td>White</td>\n",
       "      <td>Female</td>\n",
       "      <td>0</td>\n",
       "      <td>0</td>\n",
       "      <td>40</td>\n",
       "      <td>United-States</td>\n",
       "    </tr>\n",
       "    <tr>\n",
       "      <th>4</th>\n",
       "      <td>49</td>\n",
       "      <td>Private</td>\n",
       "      <td>160187</td>\n",
       "      <td>9th</td>\n",
       "      <td>5</td>\n",
       "      <td>Married-spouse-absent</td>\n",
       "      <td>Other-service</td>\n",
       "      <td>Not-in-family</td>\n",
       "      <td>Black</td>\n",
       "      <td>Female</td>\n",
       "      <td>0</td>\n",
       "      <td>0</td>\n",
       "      <td>16</td>\n",
       "      <td>Jamaica</td>\n",
       "    </tr>\n",
       "  </tbody>\n",
       "</table>\n",
       "</div>"
      ],
      "text/plain": [
       "   age  workclass  fnlwgt  education  education-num         marital-status  \\\n",
       "0   39  State-gov   77516  Bachelors             13          Never-married   \n",
       "1   38    Private  215646    HS-grad              9               Divorced   \n",
       "2   53    Private  234721       11th              7     Married-civ-spouse   \n",
       "3   37    Private  284582    Masters             14     Married-civ-spouse   \n",
       "4   49    Private  160187        9th              5  Married-spouse-absent   \n",
       "\n",
       "          occupation   relationship   race     sex  capital-gain  \\\n",
       "0       Adm-clerical  Not-in-family  White    Male          2174   \n",
       "1  Handlers-cleaners  Not-in-family  White    Male             0   \n",
       "2  Handlers-cleaners        Husband  Black    Male             0   \n",
       "3    Exec-managerial           Wife  White  Female             0   \n",
       "4      Other-service  Not-in-family  Black  Female             0   \n",
       "\n",
       "   capital-loss  hours-per-week native-country  \n",
       "0             0              40  United-States  \n",
       "1             0              40  United-States  \n",
       "2             0              40  United-States  \n",
       "3             0              40  United-States  \n",
       "4             0              16        Jamaica  "
      ]
     },
     "execution_count": 13,
     "metadata": {},
     "output_type": "execute_result"
    }
   ],
   "source": [
    "X.head()"
   ]
  },
  {
   "cell_type": "code",
   "execution_count": 14,
   "id": "b9691695",
   "metadata": {
    "scrolled": true
   },
   "outputs": [],
   "source": [
    "# split data into train and test sets\n",
    "seed = 7\n",
    "test_size = 0.33\n",
    "X_train, X_test, y_train, y_test = train_test_split(X, y, test_size=test_size, random_state=seed)"
   ]
  },
  {
   "cell_type": "code",
   "execution_count": 15,
   "id": "9816d37d",
   "metadata": {},
   "outputs": [],
   "source": [
    "D_train = xgb.DMatrix(X_train, label=y_train, enable_categorical=True)\n",
    "D_test = xgb.DMatrix(X_test, label=y_test, enable_categorical=True)"
   ]
  },
  {
   "cell_type": "code",
   "execution_count": 16,
   "id": "09291ea5",
   "metadata": {
    "scrolled": true
   },
   "outputs": [],
   "source": [
    "# y_train = np.ravel(y_train)\n",
    "# y_test = np.ravel(y_test)"
   ]
  },
  {
   "cell_type": "code",
   "execution_count": 17,
   "id": "7a57b278",
   "metadata": {},
   "outputs": [],
   "source": [
    "# number of iterations\n",
    "var_n_boost_round = 200\n",
    "\n",
    "def objective(trial):\n",
    "    param = {\n",
    "        'eta': trial.suggest_float('eta', 0.01, 0.3),                  # Step size shrinkage used in update to prevents overfitting.\n",
    "        'max_depth': trial.suggest_int('max_depth', 6, 15),                 # Maximum depth of a tree. Larger values can lead to overfitting.\n",
    "        'subsample': trial.suggest_float('subsample', 0.1, 1.0),           # Subsample ratio of the training instances. Lower values can prevent overfitting.\n",
    "        'colsample_bytree': trial.suggest_float('colsample_bytree', 0.1, 1.0),  # Subsample ratio of columns when constructing each tree. Lower values can prevent overfitting.\n",
    "        'gamma': trial.suggest_float('gamma', 1e-8, 1.0),               # Minimum loss reduction required to make a further partition on a leaf node of the tree.\n",
    "        'alpha': trial.suggest_float('alpha', 1e-8, 1.0),               # L1 regularization term on weights. Can help with sparsity of the model.\n",
    "        'lambda': trial.suggest_float('lambda', 1e-8, 1.0),             # L2 regularization term on weights. Can help with overfitting.\n",
    "        'min_child_weight': trial.suggest_int('min_child_weight', 1, 10),     # Minimum sum of instance weight (hessian) needed in a child. Can help with overfitting.\n",
    "        'max_delta_step': trial.suggest_int('max_delta_step', 0, 10),         # Maximum delta step we allow each tree's weight estimation to be. Can help with convergence speed.\n",
    "        'scale_pos_weight': trial.suggest_float('scale_pos_weight', 0.1, 10),  # Control the balance of positive and negative weights, for imbalanced datasets.\n",
    "        'tree_method': trial.suggest_categorical('tree_method', ['auto', 'exact', 'approx', 'hist']),  # Algorithm used to construct trees. , 'gpu_hist' excluded\n",
    "        'learning_rate': trial.suggest_float('learning_rate', 0.01, 0.2),  # Step size shrinkage used in update to prevents overfitting.\n",
    "        'objective': 'binary:logistic',                                      # Objective function to optimize. In this case, binary logistic regression.\n",
    "        'eval_metric': 'aucpr' ,                                            # Metric to evaluate the model during training. In this case, AUC-PR.\n",
    "        'min_split_loss': trial.suggest_float('min_split_loss', 1e-8, 1.0), # minimum loss reduction required to make a split in the tree. It can be used to control the complexity of the tree\n",
    "        'max_bin': trial.suggest_int('max_bin', 64, 512) , # maximum number of bins to use for continuous features. \n",
    "        # 'early_stopping_rounds': trial.suggest_int('early_stopping_rounds', 25, 50),\n",
    "        # 'booster': trial.suggest_categorical('booster', ['gbtree', 'gblinear']),\n",
    "        # 'sample_type': trial.suggest_categorical('sample_type', ['uniform', 'weighted', 'weighted_unique']),\n",
    "        # 'normalize_type': trial.suggest_categorical('normalize_type', ['tree', 'forest', 'none'])\n",
    "        'seed': 42,  # The random seed.\n",
    "        'n_jobs': -1  # Number of CPU threads to use for parallel execution, -1 means use all available CPU threads\n",
    "    }\n",
    "\n",
    "    # Train model with the given hyperparameters\n",
    "    model = xgb.train(param, D_train, num_boost_round=var_n_boost_round, evals=[(D_test, 'val')], early_stopping_rounds=25, verbose_eval=50)\n",
    "    \n",
    "    # Predict and calculate AUCPR score on validation set\n",
    "    y_val_pred = model.predict(D_test)\n",
    "    score = average_precision_score(y_test, y_val_pred)\n",
    "\n",
    "    return score"
   ]
  },
  {
   "cell_type": "code",
   "execution_count": null,
   "id": "7bf091fe",
   "metadata": {},
   "outputs": [],
   "source": [
    "var_n_trials = var_n_boost_round\n",
    "\n",
    "# Create Optuna study and optimize the objective function\n",
    "study = optuna.create_study(direction='maximize')\n",
    "study.optimize(objective, n_trials=var_n_trials)\n",
    "\n",
    "# Get the best hyperparameters and best AUCPR score\n",
    "\n",
    "best_params = study.best_params\n",
    "best_score = study.best_value\n"
   ]
  },
  {
   "cell_type": "code",
   "execution_count": 19,
   "id": "91730f36",
   "metadata": {},
   "outputs": [],
   "source": [
    "# Train the best model with all the training data and the best hyperparameters\n",
    "best_trial = study.best_trial\n",
    "best_params = best_trial.params\n",
    "\n",
    "best_model = xgb.train(best_params, D_train, num_boost_round=var_n_boost_round)"
   ]
  },
  {
   "cell_type": "code",
   "execution_count": 20,
   "id": "7c7a6db7",
   "metadata": {},
   "outputs": [
    {
     "name": "stdout",
     "output_type": "stream",
     "text": [
      "{'eta': 0.17616110512830244, 'max_depth': 6, 'subsample': 0.9571868327858818, 'colsample_bytree': 0.5526524407155117, 'gamma': 0.9112759124175487, 'alpha': 0.6447401146069125, 'lambda': 0.44918282149520355, 'min_child_weight': 4, 'max_delta_step': 8, 'scale_pos_weight': 3.297826971756204, 'tree_method': 'auto', 'learning_rate': 0.09453604107997385, 'min_split_loss': 0.9313015979116135, 'max_bin': 172}\n"
     ]
    }
   ],
   "source": [
    "# show the best parameters\n",
    "print(best_params)"
   ]
  },
  {
   "cell_type": "code",
   "execution_count": 21,
   "id": "1d9ab1d6",
   "metadata": {},
   "outputs": [
    {
     "name": "stdout",
     "output_type": "stream",
     "text": [
      "Test AUC: 0.9286\n",
      "Test AUCPR: 0.8246\n"
     ]
    }
   ],
   "source": [
    "# evaluate the best model on the test data\n",
    "\n",
    "y_pred = best_model.predict(D_test)\n",
    "test_score = average_precision_score(y_test, y_pred)\n",
    "\n",
    "# evaluate the initial values based on the (internal Test data)\n",
    "auc_pred = roc_auc_score(y_test, y_pred, average='weighted')\n",
    "print(f'Test AUC: {auc_pred:.4f}')\n",
    "\n",
    "aucpr = average_precision_score(y_test, y_pred, average='weighted', pos_label=1)\n",
    "print(f'Test AUCPR: {aucpr:.4f}')\n"
   ]
  },
  {
   "cell_type": "code",
   "execution_count": 22,
   "id": "858454e5",
   "metadata": {
    "scrolled": true
   },
   "outputs": [],
   "source": [
    "import pickle\n",
    "# set the path for the pickel file\n",
    "path_model = var_path_model + var_model_name_full + \"_model_stored.pkl\"\n",
    "path_model_json = var_path_model + var_model_name_full + \"_model_stored.json\"\n",
    "# Save object as pickle file\n",
    "pickle.dump(best_model, open(path_model, 'wb'), pickle.HIGHEST_PROTOCOL)\n",
    "\n",
    "best_model.save_model(path_model_json)"
   ]
  },
  {
   "cell_type": "code",
   "execution_count": 23,
   "id": "1b08c26c",
   "metadata": {},
   "outputs": [],
   "source": [
    "# Path for Image\n",
    "var_path_opt_history_png = var_path_model + var_model_name_full + \"_opt_history.png\"\n",
    "\n",
    "# Plot the optimization history and save to a file\n",
    "fig = plot_optimization_history(study)\n",
    "fig.write_image(var_path_opt_history_png)    \n",
    "\n",
    "# Plot the hyperparameter importances - this pictures might get large so maybe look at them in the PNG file\n",
    "# plot_optimization_history(study)"
   ]
  },
  {
   "cell_type": "code",
   "execution_count": 24,
   "id": "f02b99e5",
   "metadata": {},
   "outputs": [],
   "source": [
    "# Path for Image\n",
    "var_path_param_importances_png = var_path_model + var_model_name_full + \"_param_importances.png\"\n",
    "\n",
    "# Plot the hyperparameter importances and save to a file\n",
    "fig_para = plot_param_importances(study)\n",
    "fig_para.write_image(var_path_param_importances_png)\n",
    "\n",
    "# Plot the hyperparameter importances - this pictures might get large so maybe look at them in the PNG file\n",
    "# plot_param_importances(study)"
   ]
  },
  {
   "cell_type": "code",
   "execution_count": 25,
   "id": "90e278e1",
   "metadata": {},
   "outputs": [],
   "source": [
    "# Get feature importance based on weight\n",
    "importance_type = 'weight'\n",
    "scores_weight = best_model.get_score(importance_type=importance_type)\n",
    "\n",
    "# Get feature importance based on gain\n",
    "importance_type = 'gain'\n",
    "scores_gain = best_model.get_score(importance_type=importance_type)\n",
    "\n",
    "# Get feature importance based on cover\n",
    "importance_type = 'cover'\n",
    "scores_cover = best_model.get_score(importance_type=importance_type)\n",
    "\n",
    "# Create a pandas dataframe with feature importance information\n",
    "feature_imp = pd.DataFrame({'Feature': list(scores_weight.keys()),\n",
    "                   'Weight': list(scores_weight.values()),\n",
    "                   'Gain': list(scores_gain.values()),\n",
    "                   'Cover': list(scores_cover.values())})"
   ]
  },
  {
   "cell_type": "markdown",
   "id": "8e6264a6",
   "metadata": {},
   "source": [
    "ChatGPT says: In a machine learning model that uses decision trees, feature importance measures help us to understand which features have the greatest impact on the model's predictions. Here are explanations of the three feature importance measures used in the code you provided:\n",
    "\n",
    "**Weight**: The weight of a feature is the number of times it is used to split the data across all trees in the ensemble model. Features with higher weight values are more important because they are used more frequently to make decisions and split the data.\n",
    "\n",
    "**Gain**: The gain of a feature measures the improvement in the model's performance that results from splitting the data based on that feature. Specifically, the gain of a feature is calculated by summing the reduction in impurity (e.g., entropy or Gini index) that results from splitting the data on that feature over all trees in the ensemble. Features with higher gain values are more important because they contribute more to the model's ability to distinguish between classes.\n",
    "\n",
    "**Cover**: The cover of a feature is the average number of samples that pass through the splits that use that feature. Features with higher cover values are more important because they have a greater influence on the model's predictions by affecting a larger number of samples.\n",
    "\n",
    "By considering all three feature importance measures, the code you provided is able to obtain a more comprehensive ranking of feature importance that takes into account different aspects of the decision-making process in the model."
   ]
  },
  {
   "cell_type": "code",
   "execution_count": 26,
   "id": "eb093ae6",
   "metadata": {},
   "outputs": [],
   "source": [
    "# Calculate the average importance rank across all methods\n",
    "feature_imp['Feature_Rank'] = feature_imp[['Weight', 'Gain', 'Cover']].rank(method='min', ascending=False).mean(axis=1)\n",
    "\n",
    "feature_imp = feature_imp.sort_values(by='Feature_Rank', ascending=True, na_position='last')\n",
    "\n",
    "feature_imp = feature_imp.reset_index(drop=True)\n",
    "feature_imp['Feature_Rank'] = feature_imp.index\n"
   ]
  },
  {
   "cell_type": "code",
   "execution_count": 27,
   "id": "9a44784d",
   "metadata": {
    "scrolled": true
   },
   "outputs": [
    {
     "data": {
      "text/html": [
       "<div>\n",
       "<style scoped>\n",
       "    .dataframe tbody tr th:only-of-type {\n",
       "        vertical-align: middle;\n",
       "    }\n",
       "\n",
       "    .dataframe tbody tr th {\n",
       "        vertical-align: top;\n",
       "    }\n",
       "\n",
       "    .dataframe thead th {\n",
       "        text-align: right;\n",
       "    }\n",
       "</style>\n",
       "<table border=\"1\" class=\"dataframe\">\n",
       "  <thead>\n",
       "    <tr style=\"text-align: right;\">\n",
       "      <th></th>\n",
       "      <th>Feature</th>\n",
       "      <th>Weight</th>\n",
       "      <th>Gain</th>\n",
       "      <th>Cover</th>\n",
       "      <th>Feature_Rank</th>\n",
       "    </tr>\n",
       "  </thead>\n",
       "  <tbody>\n",
       "    <tr>\n",
       "      <th>0</th>\n",
       "      <td>capital-gain</td>\n",
       "      <td>198.0</td>\n",
       "      <td>18.213285</td>\n",
       "      <td>10937.288086</td>\n",
       "      <td>0</td>\n",
       "    </tr>\n",
       "    <tr>\n",
       "      <th>1</th>\n",
       "      <td>relationship</td>\n",
       "      <td>121.0</td>\n",
       "      <td>91.821426</td>\n",
       "      <td>7556.188965</td>\n",
       "      <td>1</td>\n",
       "    </tr>\n",
       "    <tr>\n",
       "      <th>2</th>\n",
       "      <td>capital-loss</td>\n",
       "      <td>184.0</td>\n",
       "      <td>6.612420</td>\n",
       "      <td>8737.606445</td>\n",
       "      <td>2</td>\n",
       "    </tr>\n",
       "    <tr>\n",
       "      <th>3</th>\n",
       "      <td>marital-status</td>\n",
       "      <td>61.0</td>\n",
       "      <td>39.112305</td>\n",
       "      <td>8590.962891</td>\n",
       "      <td>3</td>\n",
       "    </tr>\n",
       "    <tr>\n",
       "      <th>4</th>\n",
       "      <td>occupation</td>\n",
       "      <td>166.0</td>\n",
       "      <td>18.559837</td>\n",
       "      <td>6253.070312</td>\n",
       "      <td>4</td>\n",
       "    </tr>\n",
       "    <tr>\n",
       "      <th>5</th>\n",
       "      <td>age</td>\n",
       "      <td>232.0</td>\n",
       "      <td>6.795807</td>\n",
       "      <td>5761.212891</td>\n",
       "      <td>5</td>\n",
       "    </tr>\n",
       "    <tr>\n",
       "      <th>6</th>\n",
       "      <td>education</td>\n",
       "      <td>206.0</td>\n",
       "      <td>9.295412</td>\n",
       "      <td>4450.590332</td>\n",
       "      <td>6</td>\n",
       "    </tr>\n",
       "    <tr>\n",
       "      <th>7</th>\n",
       "      <td>hours-per-week</td>\n",
       "      <td>152.0</td>\n",
       "      <td>8.157489</td>\n",
       "      <td>6141.553223</td>\n",
       "      <td>7</td>\n",
       "    </tr>\n",
       "    <tr>\n",
       "      <th>8</th>\n",
       "      <td>workclass</td>\n",
       "      <td>82.0</td>\n",
       "      <td>3.159268</td>\n",
       "      <td>7860.384277</td>\n",
       "      <td>8</td>\n",
       "    </tr>\n",
       "    <tr>\n",
       "      <th>9</th>\n",
       "      <td>education-num</td>\n",
       "      <td>76.0</td>\n",
       "      <td>11.854984</td>\n",
       "      <td>4560.734863</td>\n",
       "      <td>9</td>\n",
       "    </tr>\n",
       "    <tr>\n",
       "      <th>10</th>\n",
       "      <td>native-country</td>\n",
       "      <td>138.0</td>\n",
       "      <td>2.546915</td>\n",
       "      <td>7330.816406</td>\n",
       "      <td>10</td>\n",
       "    </tr>\n",
       "    <tr>\n",
       "      <th>11</th>\n",
       "      <td>race</td>\n",
       "      <td>37.0</td>\n",
       "      <td>2.203457</td>\n",
       "      <td>8433.830078</td>\n",
       "      <td>11</td>\n",
       "    </tr>\n",
       "    <tr>\n",
       "      <th>12</th>\n",
       "      <td>fnlwgt</td>\n",
       "      <td>174.0</td>\n",
       "      <td>1.915417</td>\n",
       "      <td>3036.124268</td>\n",
       "      <td>12</td>\n",
       "    </tr>\n",
       "    <tr>\n",
       "      <th>13</th>\n",
       "      <td>sex</td>\n",
       "      <td>30.0</td>\n",
       "      <td>7.773542</td>\n",
       "      <td>3731.684814</td>\n",
       "      <td>13</td>\n",
       "    </tr>\n",
       "  </tbody>\n",
       "</table>\n",
       "</div>"
      ],
      "text/plain": [
       "           Feature  Weight       Gain         Cover  Feature_Rank\n",
       "0     capital-gain   198.0  18.213285  10937.288086             0\n",
       "1     relationship   121.0  91.821426   7556.188965             1\n",
       "2     capital-loss   184.0   6.612420   8737.606445             2\n",
       "3   marital-status    61.0  39.112305   8590.962891             3\n",
       "4       occupation   166.0  18.559837   6253.070312             4\n",
       "5              age   232.0   6.795807   5761.212891             5\n",
       "6        education   206.0   9.295412   4450.590332             6\n",
       "7   hours-per-week   152.0   8.157489   6141.553223             7\n",
       "8        workclass    82.0   3.159268   7860.384277             8\n",
       "9    education-num    76.0  11.854984   4560.734863             9\n",
       "10  native-country   138.0   2.546915   7330.816406            10\n",
       "11            race    37.0   2.203457   8433.830078            11\n",
       "12          fnlwgt   174.0   1.915417   3036.124268            12\n",
       "13             sex    30.0   7.773542   3731.684814            13"
      ]
     },
     "execution_count": 27,
     "metadata": {},
     "output_type": "execute_result"
    }
   ],
   "source": [
    "feature_imp.head(25)"
   ]
  },
  {
   "cell_type": "code",
   "execution_count": 28,
   "id": "3ec7ba0b",
   "metadata": {},
   "outputs": [],
   "source": [
    "feature_imp.to_parquet(var_path_model + var_model_name_full + \"_feature_importance.parquet\", compression='gzip')"
   ]
  },
  {
   "cell_type": "code",
   "execution_count": 29,
   "id": "0d004e1f",
   "metadata": {
    "scrolled": true
   },
   "outputs": [
    {
     "data": {
      "text/plain": [
       "numpy.ndarray"
      ]
     },
     "execution_count": 29,
     "metadata": {},
     "output_type": "execute_result"
    }
   ],
   "source": [
    "type(y_pred)"
   ]
  },
  {
   "cell_type": "code",
   "execution_count": 30,
   "id": "873e723f",
   "metadata": {
    "scrolled": true
   },
   "outputs": [],
   "source": [
    "# store the variales list as dictionary in a JSON file to read back later\n",
    "\n",
    "v_variable_list = {\n",
    "    \"var_model_name\": var_model_name,\n",
    "    \"var_model_name_full\": var_model_name_full,\n",
    "    \"num_cols\": num_cols,\n",
    "    \"cat_cols\": cat_cols,\n",
    "    \"rest_cols\": rest_cols,\n",
    "    \"label\": label,\n",
    "    \"features\": features,\n",
    "    \"excluded_features\": excluded_features,\n",
    "    \"Test_AUC\": f'{auc_pred:.5f}',\n",
    "    \"Test_AUCPR\": f'{aucpr:.5f}'\n",
    "}"
   ]
  },
  {
   "cell_type": "code",
   "execution_count": 31,
   "id": "802c0b03",
   "metadata": {},
   "outputs": [
    {
     "name": "stdout",
     "output_type": "stream",
     "text": [
      "{'var_model_name': 'XGBoost_Optuna_Classification', 'var_model_name_full': 'XGBoost_Optuna_Classification_20240229_1512h_jupyter', 'num_cols': ['age', 'fnlwgt', 'education-num', 'capital-gain', 'capital-loss', 'hours-per-week'], 'cat_cols': ['workclass', 'education', 'marital-status', 'occupation', 'relationship', 'race', 'sex', 'native-country'], 'rest_cols': ['age', 'fnlwgt', 'education-num', 'capital-gain', 'capital-loss', 'hours-per-week', 'Target', 'row_id'], 'label': ['Target'], 'features': ['age', 'workclass', 'fnlwgt', 'education', 'education-num', 'marital-status', 'occupation', 'relationship', 'race', 'sex', 'capital-gain', 'capital-loss', 'hours-per-week', 'native-country'], 'excluded_features': ['row_id'], 'Test_AUC': '0.92856', 'Test_AUCPR': '0.82463'}\n"
     ]
    }
   ],
   "source": [
    "print(v_variable_list)"
   ]
  },
  {
   "cell_type": "code",
   "execution_count": 32,
   "id": "fdbce94d",
   "metadata": {
    "scrolled": true
   },
   "outputs": [
    {
     "data": {
      "text/plain": [
       "dict"
      ]
     },
     "execution_count": 32,
     "metadata": {},
     "output_type": "execute_result"
    }
   ],
   "source": [
    "type(v_variable_list)"
   ]
  },
  {
   "cell_type": "code",
   "execution_count": 33,
   "id": "51902450",
   "metadata": {
    "scrolled": true
   },
   "outputs": [],
   "source": [
    "# Write the dictionary to a JSON file\n",
    "with open(var_path_model + var_model_name_full + \"_variable_list.json\", \"w\") as f:\n",
    "    json.dump(v_variable_list, f)"
   ]
  },
  {
   "cell_type": "code",
   "execution_count": 34,
   "id": "d0206df0",
   "metadata": {},
   "outputs": [
    {
     "name": "stdout",
     "output_type": "stream",
     "text": [
      "{'eta': 0.17616110512830244, 'max_depth': 6, 'subsample': 0.9571868327858818, 'colsample_bytree': 0.5526524407155117, 'gamma': 0.9112759124175487, 'alpha': 0.6447401146069125, 'lambda': 0.44918282149520355, 'min_child_weight': 4, 'max_delta_step': 8, 'scale_pos_weight': 3.297826971756204, 'tree_method': 'auto', 'learning_rate': 0.09453604107997385, 'min_split_loss': 0.9313015979116135, 'max_bin': 172}\n"
     ]
    }
   ],
   "source": [
    "# show the best parameters\n",
    "print(best_params)"
   ]
  },
  {
   "cell_type": "code",
   "execution_count": 35,
   "id": "6823b9a4",
   "metadata": {},
   "outputs": [],
   "source": [
    "with open(var_path_model + var_model_name_full + \"_model_parameters.txt\", \"w\") as file:\n",
    "    print(best_params, file=file)"
   ]
  },
  {
   "cell_type": "code",
   "execution_count": 36,
   "id": "85a0d5e0",
   "metadata": {},
   "outputs": [],
   "source": [
    "df_best_parameters = pd.read_csv(var_path_model + var_model_name_full + \"_model_parameters.txt\", sep = \"@\",header = None, names=[\"xgboost_parameters\"])"
   ]
  },
  {
   "cell_type": "code",
   "execution_count": 37,
   "id": "1550e077",
   "metadata": {},
   "outputs": [
    {
     "data": {
      "text/html": [
       "<div>\n",
       "<style scoped>\n",
       "    .dataframe tbody tr th:only-of-type {\n",
       "        vertical-align: middle;\n",
       "    }\n",
       "\n",
       "    .dataframe tbody tr th {\n",
       "        vertical-align: top;\n",
       "    }\n",
       "\n",
       "    .dataframe thead th {\n",
       "        text-align: right;\n",
       "    }\n",
       "</style>\n",
       "<table border=\"1\" class=\"dataframe\">\n",
       "  <thead>\n",
       "    <tr style=\"text-align: right;\">\n",
       "      <th></th>\n",
       "      <th>xgboost_parameters</th>\n",
       "    </tr>\n",
       "  </thead>\n",
       "  <tbody>\n",
       "    <tr>\n",
       "      <th>0</th>\n",
       "      <td>{'eta': 0.17616110512830244, 'max_depth': 6, '...</td>\n",
       "    </tr>\n",
       "  </tbody>\n",
       "</table>\n",
       "</div>"
      ],
      "text/plain": [
       "                                  xgboost_parameters\n",
       "0  {'eta': 0.17616110512830244, 'max_depth': 6, '..."
      ]
     },
     "execution_count": 37,
     "metadata": {},
     "output_type": "execute_result"
    }
   ],
   "source": [
    "df_best_parameters.head()"
   ]
  },
  {
   "cell_type": "markdown",
   "id": "1840771a",
   "metadata": {},
   "source": [
    "## Apply the XGBoost model with all the settings"
   ]
  },
  {
   "cell_type": "code",
   "execution_count": 38,
   "id": "27f52ff0",
   "metadata": {
    "scrolled": true
   },
   "outputs": [],
   "source": [
    "# Load XGBoost model from the JSON file\n",
    "path_apply_model = var_path_model + var_model_name_full + \"_model_stored.json\"\n",
    "\n",
    "xgboost_apply = xgb.Booster()\n",
    "xgboost_apply.load_model(path_apply_model)"
   ]
  },
  {
   "cell_type": "code",
   "execution_count": 39,
   "id": "96fb22dd",
   "metadata": {},
   "outputs": [],
   "source": [
    "import json\n",
    "\n",
    "# Read the JSON file back into a Python dictionary\n",
    "with open(var_path_model + var_model_name_full + \"_variable_list.json\", \"r\") as f:\n",
    "    loaded_dict = json.load(f)\n",
    "\n",
    "# fill the list of categorical columns\n",
    "new_cat_cols = loaded_dict['cat_cols']\n",
    "new_features = loaded_dict['features']"
   ]
  },
  {
   "cell_type": "code",
   "execution_count": 40,
   "id": "3941a371",
   "metadata": {},
   "outputs": [
    {
     "name": "stdout",
     "output_type": "stream",
     "text": [
      "['workclass', 'education', 'marital-status', 'occupation', 'relationship', 'race', 'sex', 'native-country']\n"
     ]
    }
   ],
   "source": [
    "print(new_cat_cols)"
   ]
  },
  {
   "cell_type": "code",
   "execution_count": 41,
   "id": "636830e2",
   "metadata": {
    "scrolled": true
   },
   "outputs": [],
   "source": [
    "df_test_apply = data_test[new_features].copy()\n",
    "df_test_apply[new_cat_cols] = df_test_apply[new_cat_cols].astype('category')"
   ]
  },
  {
   "cell_type": "code",
   "execution_count": 42,
   "id": "65c8e890",
   "metadata": {},
   "outputs": [],
   "source": [
    "# Create DMatrix for new data\n",
    "D_new = xgb.DMatrix(df_test_apply, enable_categorical=True)"
   ]
  },
  {
   "cell_type": "code",
   "execution_count": 43,
   "id": "02c00066",
   "metadata": {
    "scrolled": true
   },
   "outputs": [],
   "source": [
    "# Get the predicted probabilities for each class\n",
    "probabilities = xgboost_apply.predict(D_new)\n",
    "# prediction = clf_apply.predict(df_test_apply)"
   ]
  },
  {
   "cell_type": "code",
   "execution_count": 44,
   "id": "eaca9659",
   "metadata": {
    "scrolled": true
   },
   "outputs": [],
   "source": [
    "probabilities_df = pd.DataFrame(probabilities, columns = ['P1'])\n",
    "# prediction_df = pd.DataFrame(prediction, columns = ['Target_pred'])"
   ]
  },
  {
   "cell_type": "code",
   "execution_count": 45,
   "id": "319944ca",
   "metadata": {},
   "outputs": [
    {
     "data": {
      "text/html": [
       "<div>\n",
       "<style scoped>\n",
       "    .dataframe tbody tr th:only-of-type {\n",
       "        vertical-align: middle;\n",
       "    }\n",
       "\n",
       "    .dataframe tbody tr th {\n",
       "        vertical-align: top;\n",
       "    }\n",
       "\n",
       "    .dataframe thead th {\n",
       "        text-align: right;\n",
       "    }\n",
       "</style>\n",
       "<table border=\"1\" class=\"dataframe\">\n",
       "  <thead>\n",
       "    <tr style=\"text-align: right;\">\n",
       "      <th></th>\n",
       "      <th>P1</th>\n",
       "    </tr>\n",
       "  </thead>\n",
       "  <tbody>\n",
       "    <tr>\n",
       "      <th>0</th>\n",
       "      <td>0.465216</td>\n",
       "    </tr>\n",
       "    <tr>\n",
       "      <th>1</th>\n",
       "      <td>0.772391</td>\n",
       "    </tr>\n",
       "    <tr>\n",
       "      <th>2</th>\n",
       "      <td>0.656650</td>\n",
       "    </tr>\n",
       "    <tr>\n",
       "      <th>3</th>\n",
       "      <td>0.198492</td>\n",
       "    </tr>\n",
       "    <tr>\n",
       "      <th>4</th>\n",
       "      <td>-0.106940</td>\n",
       "    </tr>\n",
       "  </tbody>\n",
       "</table>\n",
       "</div>"
      ],
      "text/plain": [
       "         P1\n",
       "0  0.465216\n",
       "1  0.772391\n",
       "2  0.656650\n",
       "3  0.198492\n",
       "4 -0.106940"
      ]
     },
     "execution_count": 45,
     "metadata": {},
     "output_type": "execute_result"
    }
   ],
   "source": [
    "probabilities_df.head()"
   ]
  },
  {
   "cell_type": "code",
   "execution_count": 46,
   "id": "dab9064a",
   "metadata": {
    "scrolled": true
   },
   "outputs": [],
   "source": [
    "# Join the original target column with the predicted probabilities\n",
    "result = pd.concat([data_test, probabilities_df], axis=1)"
   ]
  },
  {
   "cell_type": "code",
   "execution_count": 47,
   "id": "dd897cf7",
   "metadata": {},
   "outputs": [
    {
     "data": {
      "text/html": [
       "<div>\n",
       "<style scoped>\n",
       "    .dataframe tbody tr th:only-of-type {\n",
       "        vertical-align: middle;\n",
       "    }\n",
       "\n",
       "    .dataframe tbody tr th {\n",
       "        vertical-align: top;\n",
       "    }\n",
       "\n",
       "    .dataframe thead th {\n",
       "        text-align: right;\n",
       "    }\n",
       "</style>\n",
       "<table border=\"1\" class=\"dataframe\">\n",
       "  <thead>\n",
       "    <tr style=\"text-align: right;\">\n",
       "      <th></th>\n",
       "      <th>age</th>\n",
       "      <th>workclass</th>\n",
       "      <th>fnlwgt</th>\n",
       "      <th>education</th>\n",
       "      <th>education-num</th>\n",
       "      <th>marital-status</th>\n",
       "      <th>occupation</th>\n",
       "      <th>relationship</th>\n",
       "      <th>race</th>\n",
       "      <th>sex</th>\n",
       "      <th>capital-gain</th>\n",
       "      <th>capital-loss</th>\n",
       "      <th>hours-per-week</th>\n",
       "      <th>native-country</th>\n",
       "      <th>Target</th>\n",
       "      <th>row_id</th>\n",
       "      <th>P1</th>\n",
       "    </tr>\n",
       "  </thead>\n",
       "  <tbody>\n",
       "    <tr>\n",
       "      <th>0</th>\n",
       "      <td>50</td>\n",
       "      <td>Self-emp-not-inc</td>\n",
       "      <td>83311</td>\n",
       "      <td>Bachelors</td>\n",
       "      <td>13</td>\n",
       "      <td>Married-civ-spouse</td>\n",
       "      <td>Exec-managerial</td>\n",
       "      <td>Husband</td>\n",
       "      <td>White</td>\n",
       "      <td>Male</td>\n",
       "      <td>0</td>\n",
       "      <td>0</td>\n",
       "      <td>13</td>\n",
       "      <td>United-States</td>\n",
       "      <td>0</td>\n",
       "      <td>Row0</td>\n",
       "      <td>0.465216</td>\n",
       "    </tr>\n",
       "    <tr>\n",
       "      <th>1</th>\n",
       "      <td>28</td>\n",
       "      <td>Private</td>\n",
       "      <td>338409</td>\n",
       "      <td>Bachelors</td>\n",
       "      <td>13</td>\n",
       "      <td>Married-civ-spouse</td>\n",
       "      <td>Prof-specialty</td>\n",
       "      <td>Wife</td>\n",
       "      <td>Black</td>\n",
       "      <td>Female</td>\n",
       "      <td>0</td>\n",
       "      <td>0</td>\n",
       "      <td>40</td>\n",
       "      <td>Cuba</td>\n",
       "      <td>0</td>\n",
       "      <td>Row1</td>\n",
       "      <td>0.772391</td>\n",
       "    </tr>\n",
       "    <tr>\n",
       "      <th>2</th>\n",
       "      <td>37</td>\n",
       "      <td>Private</td>\n",
       "      <td>280464</td>\n",
       "      <td>Some-college</td>\n",
       "      <td>10</td>\n",
       "      <td>Married-civ-spouse</td>\n",
       "      <td>Exec-managerial</td>\n",
       "      <td>Husband</td>\n",
       "      <td>Black</td>\n",
       "      <td>Male</td>\n",
       "      <td>0</td>\n",
       "      <td>0</td>\n",
       "      <td>80</td>\n",
       "      <td>United-States</td>\n",
       "      <td>1</td>\n",
       "      <td>Row2</td>\n",
       "      <td>0.656650</td>\n",
       "    </tr>\n",
       "    <tr>\n",
       "      <th>3</th>\n",
       "      <td>32</td>\n",
       "      <td>Private</td>\n",
       "      <td>205019</td>\n",
       "      <td>Assoc-acdm</td>\n",
       "      <td>12</td>\n",
       "      <td>Never-married</td>\n",
       "      <td>Sales</td>\n",
       "      <td>Not-in-family</td>\n",
       "      <td>Black</td>\n",
       "      <td>Male</td>\n",
       "      <td>0</td>\n",
       "      <td>0</td>\n",
       "      <td>50</td>\n",
       "      <td>United-States</td>\n",
       "      <td>0</td>\n",
       "      <td>Row3</td>\n",
       "      <td>0.198492</td>\n",
       "    </tr>\n",
       "    <tr>\n",
       "      <th>4</th>\n",
       "      <td>25</td>\n",
       "      <td>Self-emp-not-inc</td>\n",
       "      <td>176756</td>\n",
       "      <td>HS-grad</td>\n",
       "      <td>9</td>\n",
       "      <td>Never-married</td>\n",
       "      <td>Farming-fishing</td>\n",
       "      <td>Own-child</td>\n",
       "      <td>White</td>\n",
       "      <td>Male</td>\n",
       "      <td>0</td>\n",
       "      <td>0</td>\n",
       "      <td>35</td>\n",
       "      <td>United-States</td>\n",
       "      <td>0</td>\n",
       "      <td>Row4</td>\n",
       "      <td>-0.106940</td>\n",
       "    </tr>\n",
       "  </tbody>\n",
       "</table>\n",
       "</div>"
      ],
      "text/plain": [
       "   age         workclass  fnlwgt     education  education-num  \\\n",
       "0   50  Self-emp-not-inc   83311     Bachelors             13   \n",
       "1   28           Private  338409     Bachelors             13   \n",
       "2   37           Private  280464  Some-college             10   \n",
       "3   32           Private  205019    Assoc-acdm             12   \n",
       "4   25  Self-emp-not-inc  176756       HS-grad              9   \n",
       "\n",
       "       marital-status       occupation   relationship   race     sex  \\\n",
       "0  Married-civ-spouse  Exec-managerial        Husband  White    Male   \n",
       "1  Married-civ-spouse   Prof-specialty           Wife  Black  Female   \n",
       "2  Married-civ-spouse  Exec-managerial        Husband  Black    Male   \n",
       "3       Never-married            Sales  Not-in-family  Black    Male   \n",
       "4       Never-married  Farming-fishing      Own-child  White    Male   \n",
       "\n",
       "   capital-gain  capital-loss  hours-per-week native-country Target row_id  \\\n",
       "0             0             0              13  United-States      0   Row0   \n",
       "1             0             0              40           Cuba      0   Row1   \n",
       "2             0             0              80  United-States      1   Row2   \n",
       "3             0             0              50  United-States      0   Row3   \n",
       "4             0             0              35  United-States      0   Row4   \n",
       "\n",
       "         P1  \n",
       "0  0.465216  \n",
       "1  0.772391  \n",
       "2  0.656650  \n",
       "3  0.198492  \n",
       "4 -0.106940  "
      ]
     },
     "execution_count": 47,
     "metadata": {},
     "output_type": "execute_result"
    }
   ],
   "source": [
    "result.head()"
   ]
  },
  {
   "cell_type": "code",
   "execution_count": 48,
   "id": "d4a5938d",
   "metadata": {
    "scrolled": true
   },
   "outputs": [],
   "source": [
    "result.to_parquet(var_path_data + var_model_name_full + \"_scored_test_data.parquet\", compression='gzip')"
   ]
  },
  {
   "cell_type": "code",
   "execution_count": 49,
   "id": "42d12475",
   "metadata": {
    "scrolled": true
   },
   "outputs": [
    {
     "name": "stdout",
     "output_type": "stream",
     "text": [
      "Test AUC: 0.9209\n"
     ]
    }
   ],
   "source": [
    "# evaluate the best model on the test data\n",
    "auc_pred = roc_auc_score(result['Target'], result['P1'], average='weighted')\n",
    "print(f'Test AUC: {auc_pred:.4f}')"
   ]
  },
  {
   "cell_type": "code",
   "execution_count": 50,
   "id": "5f73a871",
   "metadata": {},
   "outputs": [
    {
     "name": "stdout",
     "output_type": "stream",
     "text": [
      "Test AUCPR: 0.8012\n"
     ]
    }
   ],
   "source": [
    "# from sklearn.metrics import average_precision_score\n",
    "aucpr = average_precision_score(result['Target'], result['P1'], average='weighted', pos_label='1')\n",
    "print(f'Test AUCPR: {aucpr:.4f}')"
   ]
  },
  {
   "cell_type": "code",
   "execution_count": 51,
   "id": "307a5f47",
   "metadata": {},
   "outputs": [
    {
     "data": {
      "image/png": "[encoded data removed]",
      "text/plain": [
       "<Figure size 1024x768 with 1 Axes>"
      ]
     },
     "metadata": {},
     "output_type": "display_data"
    }
   ],
   "source": [
    "import numpy as np\n",
    "import pandas as pd\n",
    "from sklearn.metrics import precision_recall_curve\n",
    "import matplotlib.pyplot as plt\n",
    "\n",
    "y_true = result[\"Target\"].astype(int).values\n",
    "y_score = result[\"P1\"].values\n",
    "\n",
    "precision, recall, thresholds = precision_recall_curve(y_true, y_score)\n",
    "auc_pr = np.trapz(precision, recall)\n",
    "\n",
    "plt.tight_layout()\n",
    "plt.gcf().set_size_inches(10.24, 7.68)\n",
    "plt.step(recall, precision, color='b', alpha=0.2, where='post')\n",
    "plt.fill_between(recall, precision, step='post', alpha=0.2, color='b')\n",
    "plt.xlabel('Recall')\n",
    "plt.ylabel('Precision')\n",
    "plt.ylim([0.0, 1.05])\n",
    "plt.xlim([0.0, 1.0])\n",
    "plt.title('Precision-Recall curve: AUCPR={0:0.4f}'.format(auc_pr))\n",
    "plt.show()"
   ]
  },
  {
   "cell_type": "code",
   "execution_count": null,
   "id": "ddb24265",
   "metadata": {},
   "outputs": [],
   "source": [
    "import numpy as np\n",
    "import pandas as pd\n",
    "from sklearn.metrics import roc_curve, auc\n",
    "import matplotlib.pyplot as plt\n",
    "\n",
    "y_true = result[\"Target\"].astype(int).values\n",
    "y_score = result[\"P1\"].values\n",
    "\n",
    "fpr, tpr, thresholds = roc_curve(y_true, y_score)\n",
    "auc_roc = auc(fpr, tpr)\n",
    "\n",
    "plt.tight_layout()\n",
    "plt.gcf().set_size_inches(10.24, 7.68)\n",
    "plt.plot(fpr, tpr, color='b', lw=2, alpha=0.8)\n",
    "plt.plot([0, 1], [0, 1], linestyle='--', lw=2, color='r', alpha=0.8)\n",
    "plt.xlabel('False Positive Rate - ' + var_model_name_full)\n",
    "plt.ylabel('True Positive Rate')\n",
    "plt.ylim([0.0, 1.05])\n",
    "plt.xlim([0.0, 1.0])\n",
    "plt.title('Receiver Operating Characteristic curve: AUC={0:0.4f}'.format(auc_roc))\n",
    "plt.savefig(var_path_model + var_model_name_full + \"_auc_plot.png\")\n",
    "plt.show()"
   ]
  },
  {
   "cell_type": "code",
   "execution_count": null,
   "id": "0b3496fd-a5fd-4afe-9d17-0590111ac59f",
   "metadata": {},
   "outputs": [],
   "source": []
  }
 ],
 "metadata": {
  "kernelspec": {
   "display_name": "Python 3 (ipykernel)",
   "language": "python",
   "name": "python3"
  },
  "language_info": {
   "codemirror_mode": {
    "name": "ipython",
    "version": 3
   },
   "file_extension": ".py",
   "mimetype": "text/x-python",
   "name": "python",
   "nbconvert_exporter": "python",
   "pygments_lexer": "ipython3",
   "version": "3.9.16"
  }
 },
 "nbformat": 4,
 "nbformat_minor": 5
}
