{
 "cells": [
  {
   "cell_type": "markdown",
   "id": "e9ebb351",
   "metadata": {},
   "source": [
    "### Use Python XGBoost and Optuna hyper parameter tuning to build a REGRESSION model and deploy with KNIME Python nodes\n",
    "\n",
    "\n",
    "<img src=\"../KNIME_loves_xgboost_optuna.png\" width=\"600\">\n",
    "\n",
    "\n",
    "##### KNIME workflow\n",
    "https://hub.knime.com/-/spaces/-/latest/~GABT_OgeoWxWJW9P/\n",
    "\n",
    "\n",
    "##### MEDIUM Blog: Hyperparameter optimization for LightGBM — wrapped in KNIME nodes\n",
    "\n",
    "https://medium.com/p/ddb7ae1d7e2\n",
    "\n",
    "###### Optuna\n",
    "\n",
    "https://optuna.readthedocs.io/en/stable/index.html\n",
    "\n",
    "###### additional links and texts\n",
    "\n",
    "https://lightgbm.readthedocs.io/en/latest/Parameters-Tuning.html#for-better-accuracy\n",
    "\n",
    "https://stackoverflow.com/questions/67080149/xgboost-error-when-categorical-type-is-supplied-dmatrix-parameter-enable-cat\n",
    "\n",
    "\n",
    "https://towardsdatascience.com/how-to-beat-the-heck-out-of-xgboost-with-lightgbm-comprehensive-tutorial-5eba52195997\n",
    "\n",
    "https://towardsdatascience.com/kagglers-guide-to-lightgbm-hyperparameter-tuning-with-optuna-in-2021-ed048d9838b5\n",
    "\n",
    "\n",
    "https://towardsdatascience.com/a-conceptual-explanation-of-bayesian-model-based-hyperparameter-optimization-for-machine-learning-b8172278050f\n",
    "\n",
    "some parameters have been discussed with ChatGPT ...."
   ]
  },
  {
   "cell_type": "code",
   "execution_count": 1,
   "id": "80e8bd4f",
   "metadata": {
    "scrolled": true
   },
   "outputs": [],
   "source": [
    "import numpy as np\n",
    "import pandas as pd\n",
    "import pyarrow.parquet as pq\n",
    "import json\n",
    "import pickle\n",
    "import logging"
   ]
  },
  {
   "cell_type": "code",
   "execution_count": 49,
   "id": "7f095555",
   "metadata": {
    "scrolled": true
   },
   "outputs": [],
   "source": [
    "import xgboost as xgb\n",
    "\n",
    "from sklearn.model_selection import train_test_split\n",
    "from sklearn.metrics import roc_auc_score, auc, average_precision_score, precision_recall_curve\n",
    "\n",
    "from sklearn.metrics import mean_absolute_error, r2_score\n",
    "from sklearn.metrics import mean_squared_error, root_mean_squared_error\n",
    "\n",
    "import optuna\n",
    "from optuna.visualization import plot_optimization_history, plot_param_importances\n",
    "import matplotlib.pyplot as plt\n",
    "import plotly\n",
    "import matplotlib\n",
    "import kaleido"
   ]
  },
  {
   "cell_type": "code",
   "execution_count": 3,
   "id": "77fd127f",
   "metadata": {},
   "outputs": [
    {
     "name": "stdout",
     "output_type": "stream",
     "text": [
      "var_timestamp_day:  20240226\n",
      "var_timestamp_time:  1814h\n",
      "var_model_name_full:  XGBoost_Optuna_Regression_20240226_1814h_jupyter\n"
     ]
    }
   ],
   "source": [
    "# http://strftime.org'\n",
    "import time\n",
    "var_timestamp_day = \"{}\".format(time.strftime(\"%Y%m%d\"))\n",
    "# flow_variables['var_timestamp_day'] = var_timestamp_day\n",
    "print(\"var_timestamp_day: \", var_timestamp_day)\n",
    "\n",
    "var_timestamp_time = \"{}h\".format(time.strftime(\"%H%M\"))\n",
    "# flow_variables['var_timestamp_time'] = var_timestamp_time\n",
    "print(\"var_timestamp_time: \", var_timestamp_time)\n",
    "\n",
    "# _edit: if you want to have another model name\n",
    "var_model_name = \"XGBoost_Optuna_Regression\"\n",
    "# flow_variables['var_model_name'] = var_model_name\n",
    "\n",
    "var_model_name_full = var_model_name + \"_\" + var_timestamp_day  + \"_\" + var_timestamp_time + \"_jupyter\"\n",
    "# flow_variables['var_model_name_full'] = var_model_name_full\n",
    "print(\"var_model_name_full: \", var_model_name_full)\n",
    "\n",
    "# if you do not want to store the files in the working directory\n",
    "var_path_data = \"../\"\n",
    "var_path_model = \"../model/\""
   ]
  },
  {
   "cell_type": "markdown",
   "id": "68791ce3",
   "metadata": {},
   "source": [
    "The data used has beed adapted from:\n",
    "\n",
    "**Census Income Data Set**\n",
    "\n",
    "Abstract: Predict whether income exceeds $50K/yr based on census data. Also known as \"Adult\" dataset.\n",
    "\n",
    "Extract and prepare the Census Income Files for usage in KNIME\n",
    "\n",
    "https://archive.ics.uci.edu/ml/datasets/census+income"
   ]
  },
  {
   "cell_type": "code",
   "execution_count": 4,
   "id": "22a6c436",
   "metadata": {
    "scrolled": true
   },
   "outputs": [],
   "source": [
    "data      = pq.read_table(var_path_data + \"dataset_regression_80.parquet\").to_pandas()\n",
    "data_test = pq.read_table(var_path_data + \"dataset_regression_20.parquet\").to_pandas()"
   ]
  },
  {
   "cell_type": "code",
   "execution_count": 5,
   "id": "d085dd1d",
   "metadata": {
    "scrolled": true
   },
   "outputs": [],
   "source": [
    "data = data.reset_index(drop=True)"
   ]
  },
  {
   "cell_type": "code",
   "execution_count": 6,
   "id": "dff52bbc",
   "metadata": {
    "scrolled": true
   },
   "outputs": [],
   "source": [
    "data_test = data_test.reset_index(drop=True)"
   ]
  },
  {
   "cell_type": "code",
   "execution_count": 7,
   "id": "6e7f623d",
   "metadata": {
    "scrolled": true
   },
   "outputs": [
    {
     "name": "stdout",
     "output_type": "stream",
     "text": [
      "data shape:          (1183, 80)\n",
      "data[features] shape: (1183, 79)\n",
      "categorical columns: ['MSZoning', 'Street', 'Alley', 'LotShape', 'LandContour', 'Utilities', 'LotConfig', 'LandSlope', 'Neighborhood', 'Condition1', 'Condition2', 'BldgType', 'HouseStyle', 'RoofStyle', 'RoofMatl', 'Exterior1st', 'Exterior2nd', 'MasVnrType', 'ExterQual', 'ExterCond', 'Foundation', 'BsmtQual', 'BsmtCond', 'BsmtExposure', 'BsmtFinType1', 'BsmtFinType2', 'Heating', 'HeatingQC', 'CentralAir', 'Electrical', 'KitchenQual', 'Functional', 'FireplaceQu', 'GarageType', 'GarageFinish', 'GarageQual', 'GarageCond', 'PavedDrive', 'PoolQC', 'Fence', 'MiscFeature', 'SaleType', 'SaleCondition']\n",
      "numerical columns: ['MSSubClass', 'LotFrontage', 'LotArea', 'OverallQual', 'OverallCond', 'YearBuilt', 'YearRemodAdd', 'MasVnrArea', 'BsmtFinSF1', 'BsmtFinSF2', 'BsmtUnfSF', 'TotalBsmtSF', '1stFlrSF', '2ndFlrSF', 'LowQualFinSF', 'GrLivArea', 'BsmtFullBath', 'BsmtHalfBath', 'FullBath', 'HalfBath', 'BedroomAbvGr', 'KitchenAbvGr', 'TotRmsAbvGrd', 'Fireplaces', 'GarageYrBlt', 'GarageCars', 'GarageArea', 'WoodDeckSF', 'OpenPorchSF', 'EnclosedPorch', '3SsnPorch', 'ScreenPorch', 'PoolArea', 'MiscVal', 'MoSold', 'YrSold']\n",
      "feature columns: ['MSSubClass', 'MSZoning', 'LotFrontage', 'LotArea', 'Street', 'Alley', 'LotShape', 'LandContour', 'Utilities', 'LotConfig', 'LandSlope', 'Neighborhood', 'Condition1', 'Condition2', 'BldgType', 'HouseStyle', 'OverallQual', 'OverallCond', 'YearBuilt', 'YearRemodAdd', 'RoofStyle', 'RoofMatl', 'Exterior1st', 'Exterior2nd', 'MasVnrType', 'MasVnrArea', 'ExterQual', 'ExterCond', 'Foundation', 'BsmtQual', 'BsmtCond', 'BsmtExposure', 'BsmtFinType1', 'BsmtFinSF1', 'BsmtFinType2', 'BsmtFinSF2', 'BsmtUnfSF', 'TotalBsmtSF', 'Heating', 'HeatingQC', 'CentralAir', 'Electrical', '1stFlrSF', '2ndFlrSF', 'LowQualFinSF', 'GrLivArea', 'BsmtFullBath', 'BsmtHalfBath', 'FullBath', 'HalfBath', 'BedroomAbvGr', 'KitchenAbvGr', 'KitchenQual', 'TotRmsAbvGrd', 'Functional', 'Fireplaces', 'FireplaceQu', 'GarageType', 'GarageYrBlt', 'GarageFinish', 'GarageCars', 'GarageArea', 'GarageQual', 'GarageCond', 'PavedDrive', 'WoodDeckSF', 'OpenPorchSF', 'EnclosedPorch', '3SsnPorch', 'ScreenPorch', 'PoolArea', 'PoolQC', 'Fence', 'MiscFeature', 'MiscVal', 'MoSold', 'YrSold', 'SaleType', 'SaleCondition']\n",
      "rest columns: ['MSSubClass', 'LotFrontage', 'LotArea', 'OverallQual', 'OverallCond', 'YearBuilt', 'YearRemodAdd', 'MasVnrArea', 'BsmtFinSF1', 'BsmtFinSF2', 'BsmtUnfSF', 'TotalBsmtSF', '1stFlrSF', '2ndFlrSF', 'LowQualFinSF', 'GrLivArea', 'BsmtFullBath', 'BsmtHalfBath', 'FullBath', 'HalfBath', 'BedroomAbvGr', 'KitchenAbvGr', 'TotRmsAbvGrd', 'Fireplaces', 'GarageYrBlt', 'GarageCars', 'GarageArea', 'WoodDeckSF', 'OpenPorchSF', 'EnclosedPorch', '3SsnPorch', 'ScreenPorch', 'PoolArea', 'MiscVal', 'MoSold', 'YrSold', 'Target']\n"
     ]
    }
   ],
   "source": [
    "excluded_features = ['row_id']\n",
    "label = ['Target']\n",
    "# features = [feat for feat in data.columns if feat not in excluded_features and not feat==label]\n",
    "features = [feat for feat in data.columns if feat not in excluded_features and feat not in label]\n",
    "\n",
    "num_cols = data[features].select_dtypes(include='number').columns.tolist()\n",
    "cat_cols = data[features].select_dtypes(exclude='number').columns.tolist()\n",
    "\n",
    "rest_cols = [feat for feat in data.columns if feat not in cat_cols]\n",
    "\n",
    "print(f'''{\"data shape:\":20} {data.shape}\n",
    "{\"data[features] shape:\":20} {data[features].shape}\n",
    "categorical columns: {cat_cols}\n",
    "numerical columns: {num_cols}\n",
    "feature columns: {features}\n",
    "rest columns: {rest_cols}''')\n",
    "\n",
    "# THX David Gutmann "
   ]
  },
  {
   "cell_type": "code",
   "execution_count": 8,
   "id": "d7606646",
   "metadata": {
    "scrolled": true
   },
   "outputs": [
    {
     "name": "stdout",
     "output_type": "stream",
     "text": [
      "MSSubClass         int32\n",
      "MSZoning          object\n",
      "LotFrontage      float64\n",
      "LotArea            int32\n",
      "Street            object\n",
      "                  ...   \n",
      "MoSold             int32\n",
      "YrSold             int32\n",
      "SaleType          object\n",
      "SaleCondition     object\n",
      "Target             int32\n",
      "Length: 80, dtype: object\n"
     ]
    }
   ],
   "source": [
    "print(data.dtypes)"
   ]
  },
  {
   "cell_type": "code",
   "execution_count": 9,
   "id": "89b8630c",
   "metadata": {
    "scrolled": true
   },
   "outputs": [],
   "source": [
    "data[cat_cols] = data[cat_cols].astype('category')"
   ]
  },
  {
   "cell_type": "code",
   "execution_count": 10,
   "id": "73e7647c",
   "metadata": {
    "scrolled": true
   },
   "outputs": [],
   "source": [
    "data[label] = data[label].astype('int32')"
   ]
  },
  {
   "cell_type": "code",
   "execution_count": 11,
   "id": "422ab94d",
   "metadata": {
    "scrolled": true
   },
   "outputs": [
    {
     "name": "stdout",
     "output_type": "stream",
     "text": [
      "MSSubClass          int32\n",
      "MSZoning         category\n",
      "LotFrontage       float64\n",
      "LotArea             int32\n",
      "Street           category\n",
      "                   ...   \n",
      "MoSold              int32\n",
      "YrSold              int32\n",
      "SaleType         category\n",
      "SaleCondition    category\n",
      "Target              int32\n",
      "Length: 80, dtype: object\n"
     ]
    }
   ],
   "source": [
    "print(data.dtypes)"
   ]
  },
  {
   "cell_type": "code",
   "execution_count": 12,
   "id": "916a4aec",
   "metadata": {
    "scrolled": true
   },
   "outputs": [],
   "source": [
    "# split training data into X and y\n",
    "X = data[features]\n",
    "y = data[label]"
   ]
  },
  {
   "cell_type": "code",
   "execution_count": 13,
   "id": "e7ec09dc",
   "metadata": {
    "scrolled": true
   },
   "outputs": [
    {
     "data": {
      "text/html": [
       "<div>\n",
       "<style scoped>\n",
       "    .dataframe tbody tr th:only-of-type {\n",
       "        vertical-align: middle;\n",
       "    }\n",
       "\n",
       "    .dataframe tbody tr th {\n",
       "        vertical-align: top;\n",
       "    }\n",
       "\n",
       "    .dataframe thead th {\n",
       "        text-align: right;\n",
       "    }\n",
       "</style>\n",
       "<table border=\"1\" class=\"dataframe\">\n",
       "  <thead>\n",
       "    <tr style=\"text-align: right;\">\n",
       "      <th></th>\n",
       "      <th>MSSubClass</th>\n",
       "      <th>MSZoning</th>\n",
       "      <th>LotFrontage</th>\n",
       "      <th>LotArea</th>\n",
       "      <th>Street</th>\n",
       "      <th>Alley</th>\n",
       "      <th>LotShape</th>\n",
       "      <th>LandContour</th>\n",
       "      <th>Utilities</th>\n",
       "      <th>LotConfig</th>\n",
       "      <th>...</th>\n",
       "      <th>ScreenPorch</th>\n",
       "      <th>PoolArea</th>\n",
       "      <th>PoolQC</th>\n",
       "      <th>Fence</th>\n",
       "      <th>MiscFeature</th>\n",
       "      <th>MiscVal</th>\n",
       "      <th>MoSold</th>\n",
       "      <th>YrSold</th>\n",
       "      <th>SaleType</th>\n",
       "      <th>SaleCondition</th>\n",
       "    </tr>\n",
       "  </thead>\n",
       "  <tbody>\n",
       "    <tr>\n",
       "      <th>0</th>\n",
       "      <td>60</td>\n",
       "      <td>RL</td>\n",
       "      <td>65.0</td>\n",
       "      <td>8450</td>\n",
       "      <td>Pave</td>\n",
       "      <td>NA</td>\n",
       "      <td>Reg</td>\n",
       "      <td>Lvl</td>\n",
       "      <td>AllPub</td>\n",
       "      <td>Inside</td>\n",
       "      <td>...</td>\n",
       "      <td>0</td>\n",
       "      <td>0</td>\n",
       "      <td>NA</td>\n",
       "      <td>NA</td>\n",
       "      <td>NA</td>\n",
       "      <td>0</td>\n",
       "      <td>2</td>\n",
       "      <td>2008</td>\n",
       "      <td>WD</td>\n",
       "      <td>Normal</td>\n",
       "    </tr>\n",
       "    <tr>\n",
       "      <th>1</th>\n",
       "      <td>20</td>\n",
       "      <td>RL</td>\n",
       "      <td>80.0</td>\n",
       "      <td>9600</td>\n",
       "      <td>Pave</td>\n",
       "      <td>NA</td>\n",
       "      <td>Reg</td>\n",
       "      <td>Lvl</td>\n",
       "      <td>AllPub</td>\n",
       "      <td>FR2</td>\n",
       "      <td>...</td>\n",
       "      <td>0</td>\n",
       "      <td>0</td>\n",
       "      <td>NA</td>\n",
       "      <td>NA</td>\n",
       "      <td>NA</td>\n",
       "      <td>0</td>\n",
       "      <td>5</td>\n",
       "      <td>2007</td>\n",
       "      <td>WD</td>\n",
       "      <td>Normal</td>\n",
       "    </tr>\n",
       "    <tr>\n",
       "      <th>2</th>\n",
       "      <td>60</td>\n",
       "      <td>RL</td>\n",
       "      <td>68.0</td>\n",
       "      <td>11250</td>\n",
       "      <td>Pave</td>\n",
       "      <td>NA</td>\n",
       "      <td>IR1</td>\n",
       "      <td>Lvl</td>\n",
       "      <td>AllPub</td>\n",
       "      <td>Inside</td>\n",
       "      <td>...</td>\n",
       "      <td>0</td>\n",
       "      <td>0</td>\n",
       "      <td>NA</td>\n",
       "      <td>NA</td>\n",
       "      <td>NA</td>\n",
       "      <td>0</td>\n",
       "      <td>9</td>\n",
       "      <td>2008</td>\n",
       "      <td>WD</td>\n",
       "      <td>Normal</td>\n",
       "    </tr>\n",
       "    <tr>\n",
       "      <th>3</th>\n",
       "      <td>70</td>\n",
       "      <td>RL</td>\n",
       "      <td>60.0</td>\n",
       "      <td>9550</td>\n",
       "      <td>Pave</td>\n",
       "      <td>NA</td>\n",
       "      <td>IR1</td>\n",
       "      <td>Lvl</td>\n",
       "      <td>AllPub</td>\n",
       "      <td>Corner</td>\n",
       "      <td>...</td>\n",
       "      <td>0</td>\n",
       "      <td>0</td>\n",
       "      <td>NA</td>\n",
       "      <td>NA</td>\n",
       "      <td>NA</td>\n",
       "      <td>0</td>\n",
       "      <td>2</td>\n",
       "      <td>2006</td>\n",
       "      <td>WD</td>\n",
       "      <td>Abnorml</td>\n",
       "    </tr>\n",
       "    <tr>\n",
       "      <th>4</th>\n",
       "      <td>60</td>\n",
       "      <td>RL</td>\n",
       "      <td>84.0</td>\n",
       "      <td>14260</td>\n",
       "      <td>Pave</td>\n",
       "      <td>NA</td>\n",
       "      <td>IR1</td>\n",
       "      <td>Lvl</td>\n",
       "      <td>AllPub</td>\n",
       "      <td>FR2</td>\n",
       "      <td>...</td>\n",
       "      <td>0</td>\n",
       "      <td>0</td>\n",
       "      <td>NA</td>\n",
       "      <td>NA</td>\n",
       "      <td>NA</td>\n",
       "      <td>0</td>\n",
       "      <td>12</td>\n",
       "      <td>2008</td>\n",
       "      <td>WD</td>\n",
       "      <td>Normal</td>\n",
       "    </tr>\n",
       "  </tbody>\n",
       "</table>\n",
       "<p>5 rows × 79 columns</p>\n",
       "</div>"
      ],
      "text/plain": [
       "   MSSubClass MSZoning  LotFrontage  LotArea Street Alley LotShape  \\\n",
       "0          60       RL         65.0     8450   Pave    NA      Reg   \n",
       "1          20       RL         80.0     9600   Pave    NA      Reg   \n",
       "2          60       RL         68.0    11250   Pave    NA      IR1   \n",
       "3          70       RL         60.0     9550   Pave    NA      IR1   \n",
       "4          60       RL         84.0    14260   Pave    NA      IR1   \n",
       "\n",
       "  LandContour Utilities LotConfig  ... ScreenPorch PoolArea PoolQC Fence  \\\n",
       "0         Lvl    AllPub    Inside  ...           0        0     NA    NA   \n",
       "1         Lvl    AllPub       FR2  ...           0        0     NA    NA   \n",
       "2         Lvl    AllPub    Inside  ...           0        0     NA    NA   \n",
       "3         Lvl    AllPub    Corner  ...           0        0     NA    NA   \n",
       "4         Lvl    AllPub       FR2  ...           0        0     NA    NA   \n",
       "\n",
       "  MiscFeature MiscVal  MoSold  YrSold  SaleType  SaleCondition  \n",
       "0          NA       0       2    2008        WD         Normal  \n",
       "1          NA       0       5    2007        WD         Normal  \n",
       "2          NA       0       9    2008        WD         Normal  \n",
       "3          NA       0       2    2006        WD        Abnorml  \n",
       "4          NA       0      12    2008        WD         Normal  \n",
       "\n",
       "[5 rows x 79 columns]"
      ]
     },
     "execution_count": 13,
     "metadata": {},
     "output_type": "execute_result"
    }
   ],
   "source": [
    "X.head()"
   ]
  },
  {
   "cell_type": "code",
   "execution_count": 14,
   "id": "b9691695",
   "metadata": {
    "scrolled": true
   },
   "outputs": [],
   "source": [
    "# split data into train and test sets\n",
    "seed = 7\n",
    "test_size = 0.33\n",
    "X_train, X_test, y_train, y_test = train_test_split(X, y, test_size=test_size, random_state=seed)"
   ]
  },
  {
   "cell_type": "code",
   "execution_count": 15,
   "id": "9816d37d",
   "metadata": {},
   "outputs": [],
   "source": [
    "D_train = xgb.DMatrix(X_train, label=y_train, enable_categorical=True)\n",
    "D_test = xgb.DMatrix(X_test, label=y_test, enable_categorical=True)"
   ]
  },
  {
   "cell_type": "code",
   "execution_count": 16,
   "id": "09291ea5",
   "metadata": {
    "scrolled": true
   },
   "outputs": [],
   "source": [
    "# y_train = np.ravel(y_train)\n",
    "# y_test = np.ravel(y_test)"
   ]
  },
  {
   "cell_type": "code",
   "execution_count": 61,
   "id": "7a57b278",
   "metadata": {},
   "outputs": [],
   "source": [
    "# number of iterations\n",
    "var_n_boost_round = 200\n",
    "\n",
    "def objective(trial):\n",
    "    param = {\n",
    "        'eta': trial.suggest_float('eta', 0.01, 0.3),\n",
    "        'max_depth': trial.suggest_int('max_depth', 6, 15),\n",
    "        'subsample': trial.suggest_float('subsample', 0.1, 1.0),\n",
    "        'colsample_bytree': trial.suggest_float('colsample_bytree', 0.1, 1.0),\n",
    "        'gamma': trial.suggest_float('gamma', 1e-8, 1.0),\n",
    "        'alpha': trial.suggest_float('alpha', 1e-8, 1.0),\n",
    "        'lambda': trial.suggest_float('lambda', 1e-8, 1.0),\n",
    "        'min_child_weight': trial.suggest_int('min_child_weight', 1, 10),\n",
    "        'max_delta_step': trial.suggest_int('max_delta_step', 0, 10),\n",
    "        # 'scale_pos_weight' is not typically used for regression, so it can be removed.\n",
    "        'tree_method': trial.suggest_categorical('tree_method', ['auto', 'exact', 'approx', 'hist']),\n",
    "        'learning_rate': trial.suggest_float('learning_rate', 0.01, 0.2),\n",
    "        'objective': 'reg:squarederror',  # Changed to regression objective\n",
    "        'eval_metric': 'rmse',  # Changed to regression metric\n",
    "        'min_split_loss': trial.suggest_float('min_split_loss', 1e-8, 1.0),\n",
    "        'max_bin': trial.suggest_int('max_bin', 64, 512),\n",
    "        'seed': 42,\n",
    "        'n_jobs': -1\n",
    "    }\n",
    "\n",
    "    # Train model with the given hyperparameters\n",
    "    model = xgb.train(param, D_train, num_boost_round=var_n_boost_round, evals=[(D_test, 'val')], early_stopping_rounds=25, verbose_eval=50)\n",
    "    \n",
    "    # Predict and calculate RMSE score on validation set\n",
    "    y_val_pred = model.predict(D_test)\n",
    "    rmse = root_mean_squared_error(y_test, y_val_pred)\n",
    "\n",
    "    return rmse\n"
   ]
  },
  {
   "cell_type": "code",
   "execution_count": 62,
   "id": "7bf091fe",
   "metadata": {},
   "outputs": [
    {
     "name": "stderr",
     "output_type": "stream",
     "text": [
      "[I 2024-02-26 18:45:36,752] A new study created in memory with name: no-name-a8d8906f-f656-4532-938c-cd95f25bfdf1\n"
     ]
    },
    {
     "name": "stdout",
     "output_type": "stream",
     "text": [
      "[0]\tval-rmse:74767.07412\n",
      "[50]\tval-rmse:74731.57086\n",
      "[100]\tval-rmse:74696.05535\n",
      "[150]\tval-rmse:74660.26334\n",
      "[199]\tval-rmse:74625.64829\n"
     ]
    },
    {
     "name": "stderr",
     "output_type": "stream",
     "text": [
      "[I 2024-02-26 18:45:37,093] Trial 0 finished with value: 74625.64773347598 and parameters: {'eta': 0.2980042197143976, 'max_depth': 12, 'subsample': 0.358626619445987, 'colsample_bytree': 0.9743298962492325, 'gamma': 0.878209487472033, 'alpha': 0.9889505451701203, 'lambda': 0.6536562153196213, 'min_child_weight': 7, 'max_delta_step': 8, 'tree_method': 'auto', 'learning_rate': 0.1360539294046239, 'min_split_loss': 0.4756349822993132, 'max_bin': 212}. Best is trial 0 with value: 74625.64773347598.\n"
     ]
    },
    {
     "name": "stdout",
     "output_type": "stream",
     "text": [
      "[0]\tval-rmse:74767.33738\n",
      "[50]\tval-rmse:74744.83826\n",
      "[100]\tval-rmse:74722.13684\n",
      "[150]\tval-rmse:74699.77120\n",
      "[199]\tval-rmse:74677.75520\n"
     ]
    },
    {
     "name": "stderr",
     "output_type": "stream",
     "text": [
      "[I 2024-02-26 18:45:37,463] Trial 1 finished with value: 74677.7543852994 and parameters: {'eta': 0.10004573541715123, 'max_depth': 9, 'subsample': 0.91413500887606, 'colsample_bytree': 0.126739643167345, 'gamma': 0.2836592675806993, 'alpha': 0.0006406924227209125, 'lambda': 0.8557297631367903, 'min_child_weight': 5, 'max_delta_step': 7, 'tree_method': 'hist', 'learning_rate': 0.10563620501192747, 'min_split_loss': 0.6641303281253724, 'max_bin': 96}. Best is trial 0 with value: 74625.64773347598.\n"
     ]
    },
    {
     "name": "stdout",
     "output_type": "stream",
     "text": [
      "[0]\tval-rmse:74767.30405\n",
      "[50]\tval-rmse:74743.90131\n",
      "[100]\tval-rmse:74720.51638\n",
      "[150]\tval-rmse:74697.15317\n",
      "[199]\tval-rmse:74674.37259\n"
     ]
    },
    {
     "name": "stderr",
     "output_type": "stream",
     "text": [
      "[I 2024-02-26 18:45:37,937] Trial 2 finished with value: 74674.37213742879 and parameters: {'eta': 0.026689838747231492, 'max_depth': 6, 'subsample': 0.6241796233314593, 'colsample_bytree': 0.7981611723112052, 'gamma': 0.1135749014258733, 'alpha': 0.36663230469845826, 'lambda': 0.23414024800856764, 'min_child_weight': 3, 'max_delta_step': 7, 'tree_method': 'approx', 'learning_rate': 0.09980073966044244, 'min_split_loss': 0.945943296411609, 'max_bin': 499}. Best is trial 0 with value: 74625.64773347598.\n"
     ]
    },
    {
     "name": "stdout",
     "output_type": "stream",
     "text": [
      "[0]\tval-rmse:72842.40667\n",
      "[50]\tval-rmse:28752.92125\n",
      "[100]\tval-rmse:21893.42560\n",
      "[150]\tval-rmse:21219.30053\n",
      "[199]\tval-rmse:20698.77733\n"
     ]
    },
    {
     "name": "stderr",
     "output_type": "stream",
     "text": [
      "[I 2024-02-26 18:45:38,577] Trial 3 finished with value: 20698.77721265109 and parameters: {'eta': 0.20879455154555793, 'max_depth': 11, 'subsample': 0.43391947311278156, 'colsample_bytree': 0.6641034105627895, 'gamma': 0.6193123302586305, 'alpha': 0.46009785891269794, 'lambda': 0.19934062221493712, 'min_child_weight': 10, 'max_delta_step': 0, 'tree_method': 'hist', 'learning_rate': 0.028931391790554765, 'min_split_loss': 0.7944202994491314, 'max_bin': 226}. Best is trial 3 with value: 20698.77721265109.\n"
     ]
    },
    {
     "name": "stdout",
     "output_type": "stream",
     "text": [
      "[0]\tval-rmse:72443.44928\n",
      "[50]\tval-rmse:23589.71643\n",
      "[100]\tval-rmse:21069.72383\n",
      "[150]\tval-rmse:20850.81253\n",
      "[159]\tval-rmse:20784.40400\n"
     ]
    },
    {
     "name": "stderr",
     "output_type": "stream",
     "text": [
      "[I 2024-02-26 18:45:39,135] Trial 4 finished with value: 20784.404024637544 and parameters: {'eta': 0.1453773891068219, 'max_depth': 12, 'subsample': 0.5720841229435464, 'colsample_bytree': 0.45266318559520374, 'gamma': 0.8982124499722572, 'alpha': 0.11683611683446532, 'lambda': 0.9975520020302485, 'min_child_weight': 9, 'max_delta_step': 0, 'tree_method': 'approx', 'learning_rate': 0.04799160265476971, 'min_split_loss': 0.2948505036711672, 'max_bin': 79}. Best is trial 3 with value: 20698.77721265109.\n"
     ]
    },
    {
     "name": "stdout",
     "output_type": "stream",
     "text": [
      "[0]\tval-rmse:74767.25220\n",
      "[50]\tval-rmse:74739.63931\n",
      "[100]\tval-rmse:74712.10185\n",
      "[150]\tval-rmse:74684.44678\n",
      "[199]\tval-rmse:74657.52235\n"
     ]
    },
    {
     "name": "stderr",
     "output_type": "stream",
     "text": [
      "[I 2024-02-26 18:45:39,457] Trial 5 finished with value: 74657.5220031547 and parameters: {'eta': 0.14913640003214398, 'max_depth': 9, 'subsample': 0.5670506366027598, 'colsample_bytree': 0.4321737331498308, 'gamma': 0.7668574997121577, 'alpha': 0.9936738752256633, 'lambda': 0.812039119531606, 'min_child_weight': 8, 'max_delta_step': 6, 'tree_method': 'hist', 'learning_rate': 0.1405418122315693, 'min_split_loss': 0.2429823195322552, 'max_bin': 311}. Best is trial 3 with value: 20698.77721265109.\n"
     ]
    },
    {
     "name": "stdout",
     "output_type": "stream",
     "text": [
      "[0]\tval-rmse:74766.95960\n",
      "[50]\tval-rmse:74728.76301\n",
      "[100]\tval-rmse:74689.20571\n",
      "[150]\tval-rmse:74649.83158\n",
      "[199]\tval-rmse:74611.83544\n"
     ]
    },
    {
     "name": "stderr",
     "output_type": "stream",
     "text": [
      "[I 2024-02-26 18:45:39,832] Trial 6 finished with value: 74611.83500972403 and parameters: {'eta': 0.20231802526781872, 'max_depth': 9, 'subsample': 0.10543009751107173, 'colsample_bytree': 0.6975899910341153, 'gamma': 0.6672395585234113, 'alpha': 0.06154562156423356, 'lambda': 0.9889749029110476, 'min_child_weight': 1, 'max_delta_step': 9, 'tree_method': 'approx', 'learning_rate': 0.14583179295736637, 'min_split_loss': 0.6439396768133971, 'max_bin': 387}. Best is trial 3 with value: 20698.77721265109.\n"
     ]
    },
    {
     "name": "stdout",
     "output_type": "stream",
     "text": [
      "[0]\tval-rmse:74767.52955\n",
      "[50]\tval-rmse:74753.92622\n",
      "[100]\tval-rmse:74740.03142\n",
      "[150]\tval-rmse:74725.97768\n",
      "[199]\tval-rmse:74712.33849\n"
     ]
    },
    {
     "name": "stderr",
     "output_type": "stream",
     "text": [
      "[I 2024-02-26 18:45:40,185] Trial 7 finished with value: 74712.33808441498 and parameters: {'eta': 0.2148206884726322, 'max_depth': 8, 'subsample': 0.7929089948993989, 'colsample_bytree': 0.23237038050642467, 'gamma': 0.20843239252512638, 'alpha': 0.37309319549378966, 'lambda': 0.18700702658797394, 'min_child_weight': 7, 'max_delta_step': 5, 'tree_method': 'exact', 'learning_rate': 0.08679077963910735, 'min_split_loss': 0.44882284734288996, 'max_bin': 308}. Best is trial 3 with value: 20698.77721265109.\n"
     ]
    },
    {
     "name": "stdout",
     "output_type": "stream",
     "text": [
      "[0]\tval-rmse:74767.41349\n",
      "[50]\tval-rmse:74744.47967\n",
      "[100]\tval-rmse:74721.27740\n",
      "[150]\tval-rmse:74698.41863\n",
      "[199]\tval-rmse:74676.05992\n"
     ]
    },
    {
     "name": "stderr",
     "output_type": "stream",
     "text": [
      "[I 2024-02-26 18:45:40,614] Trial 8 finished with value: 74676.05917009946 and parameters: {'eta': 0.08598150390477018, 'max_depth': 7, 'subsample': 0.9174251795826979, 'colsample_bytree': 0.13879760836662994, 'gamma': 0.2928471164179084, 'alpha': 0.40294279266990346, 'lambda': 0.29244367684364986, 'min_child_weight': 4, 'max_delta_step': 5, 'tree_method': 'approx', 'learning_rate': 0.1493420907734345, 'min_split_loss': 0.4801116011043234, 'max_bin': 221}. Best is trial 3 with value: 20698.77721265109.\n"
     ]
    },
    {
     "name": "stdout",
     "output_type": "stream",
     "text": [
      "[0]\tval-rmse:74767.76223\n",
      "[50]\tval-rmse:74766.34888\n",
      "[100]\tval-rmse:74764.90441\n",
      "[150]\tval-rmse:74763.47243\n",
      "[199]\tval-rmse:74762.07965\n"
     ]
    },
    {
     "name": "stderr",
     "output_type": "stream",
     "text": [
      "[I 2024-02-26 18:45:40,992] Trial 9 finished with value: 74762.07902470672 and parameters: {'eta': 0.24908808776971608, 'max_depth': 14, 'subsample': 0.4399972710924015, 'colsample_bytree': 0.14581921859098473, 'gamma': 0.9596260092868752, 'alpha': 0.6534781516082472, 'lambda': 0.6695901581862359, 'min_child_weight': 3, 'max_delta_step': 2, 'tree_method': 'approx', 'learning_rate': 0.02180540963375775, 'min_split_loss': 0.7040182238767868, 'max_bin': 342}. Best is trial 3 with value: 20698.77721265109.\n"
     ]
    },
    {
     "name": "stdout",
     "output_type": "stream",
     "text": [
      "[0]\tval-rmse:74767.52177\n",
      "[50]\tval-rmse:74754.54666\n",
      "[100]\tval-rmse:74741.78104\n",
      "[150]\tval-rmse:74728.76224\n",
      "[199]\tval-rmse:74716.20013\n"
     ]
    },
    {
     "name": "stderr",
     "output_type": "stream",
     "text": [
      "[I 2024-02-26 18:45:41,306] Trial 10 finished with value: 74716.19957673525 and parameters: {'eta': 0.29045033592849684, 'max_depth': 15, 'subsample': 0.21382577091143623, 'colsample_bytree': 0.623202755443725, 'gamma': 0.5179437714323494, 'alpha': 0.6185456799121773, 'lambda': 0.050628715594581486, 'min_child_weight': 10, 'max_delta_step': 2, 'tree_method': 'hist', 'learning_rate': 0.19968640724873177, 'min_split_loss': 0.9483352441326608, 'max_bin': 174}. Best is trial 3 with value: 20698.77721265109.\n"
     ]
    },
    {
     "name": "stdout",
     "output_type": "stream",
     "text": [
      "[0]\tval-rmse:73758.40985\n",
      "[50]\tval-rmse:40966.80096\n",
      "[100]\tval-rmse:27344.45021\n",
      "[150]\tval-rmse:22971.86355\n",
      "[199]\tval-rmse:21380.93163\n"
     ]
    },
    {
     "name": "stderr",
     "output_type": "stream",
     "text": [
      "[I 2024-02-26 18:45:41,961] Trial 11 finished with value: 21380.93162162778 and parameters: {'eta': 0.15817912066198248, 'max_depth': 12, 'subsample': 0.6689554671128648, 'colsample_bytree': 0.41428564834344767, 'gamma': 0.578129678916795, 'alpha': 0.17966585114398353, 'lambda': 0.4431488475866321, 'min_child_weight': 10, 'max_delta_step': 0, 'tree_method': 'auto', 'learning_rate': 0.01620463337415301, 'min_split_loss': 0.04682348797841046, 'max_bin': 79}. Best is trial 3 with value: 20698.77721265109.\n"
     ]
    },
    {
     "name": "stdout",
     "output_type": "stream",
     "text": [
      "[0]\tval-rmse:71944.86235\n",
      "[50]\tval-rmse:23759.29769\n",
      "[100]\tval-rmse:22169.59322\n",
      "[131]\tval-rmse:22103.63564\n"
     ]
    },
    {
     "name": "stderr",
     "output_type": "stream",
     "text": [
      "[I 2024-02-26 18:45:42,403] Trial 12 finished with value: 22187.451303466187 and parameters: {'eta': 0.14222964523234996, 'max_depth': 12, 'subsample': 0.38335321248127235, 'colsample_bytree': 0.4580662582391371, 'gamma': 0.8016940564843389, 'alpha': 0.21157020252813846, 'lambda': 0.5015185214825824, 'min_child_weight': 9, 'max_delta_step': 0, 'tree_method': 'exact', 'learning_rate': 0.054714477575784674, 'min_split_loss': 0.19611674006294258, 'max_bin': 148}. Best is trial 3 with value: 20698.77721265109.\n"
     ]
    },
    {
     "name": "stdout",
     "output_type": "stream",
     "text": [
      "[0]\tval-rmse:74767.71056\n",
      "[50]\tval-rmse:74764.15332\n",
      "[100]\tval-rmse:74760.59551\n",
      "[150]\tval-rmse:74757.02625\n",
      "[199]\tval-rmse:74753.54589\n"
     ]
    },
    {
     "name": "stderr",
     "output_type": "stream",
     "text": [
      "[I 2024-02-26 18:45:42,737] Trial 13 finished with value: 74753.54512806653 and parameters: {'eta': 0.19839571488919078, 'max_depth': 11, 'subsample': 0.4444934789690069, 'colsample_bytree': 0.7933492449446764, 'gamma': 0.9907259918300209, 'alpha': 0.7937975501557271, 'lambda': 0.40935733558288656, 'min_child_weight': 8, 'max_delta_step': 2, 'tree_method': 'hist', 'learning_rate': 0.054736657593165955, 'min_split_loss': 0.28604602275894575, 'max_bin': 240}. Best is trial 3 with value: 20698.77721265109.\n"
     ]
    },
    {
     "name": "stdout",
     "output_type": "stream",
     "text": [
      "[0]\tval-rmse:74767.69187\n",
      "[50]\tval-rmse:74763.32199\n",
      "[100]\tval-rmse:74758.85782\n",
      "[150]\tval-rmse:74754.45977\n",
      "[199]\tval-rmse:74750.20754\n"
     ]
    },
    {
     "name": "stderr",
     "output_type": "stream",
     "text": [
      "[I 2024-02-26 18:45:43,039] Trial 14 finished with value: 74750.2076354473 and parameters: {'eta': 0.09315617509935148, 'max_depth': 13, 'subsample': 0.28092298488044243, 'colsample_bytree': 0.3147821372304069, 'gamma': 0.40023677292493265, 'alpha': 0.54115407522359, 'lambda': 0.5810026657868292, 'min_child_weight': 10, 'max_delta_step': 3, 'tree_method': 'approx', 'learning_rate': 0.046277946330580674, 'min_split_loss': 0.8060901123245725, 'max_bin': 136}. Best is trial 3 with value: 20698.77721265109.\n"
     ]
    },
    {
     "name": "stdout",
     "output_type": "stream",
     "text": [
      "[0]\tval-rmse:70119.70842\n",
      "[50]\tval-rmse:23333.23708\n",
      "[89]\tval-rmse:22936.93516\n"
     ]
    },
    {
     "name": "stderr",
     "output_type": "stream",
     "text": [
      "[I 2024-02-26 18:45:43,376] Trial 15 finished with value: 22942.149809742725 and parameters: {'eta': 0.2443032570876025, 'max_depth': 10, 'subsample': 0.7002397919122959, 'colsample_bytree': 0.5450707206071269, 'gamma': 0.7065614166922806, 'alpha': 0.21077387954330873, 'lambda': 0.04709164933798263, 'min_child_weight': 6, 'max_delta_step': 0, 'tree_method': 'hist', 'learning_rate': 0.07173695309982585, 'min_split_loss': 0.32199942168570345, 'max_bin': 412}. Best is trial 3 with value: 20698.77721265109.\n"
     ]
    },
    {
     "name": "stdout",
     "output_type": "stream",
     "text": [
      "[0]\tval-rmse:74767.71133\n",
      "[50]\tval-rmse:74764.19680\n",
      "[100]\tval-rmse:74760.62238\n",
      "[150]\tval-rmse:74757.04448\n",
      "[199]\tval-rmse:74753.53960\n"
     ]
    },
    {
     "name": "stderr",
     "output_type": "stream",
     "text": [
      "[I 2024-02-26 18:45:43,714] Trial 16 finished with value: 74753.53886702242 and parameters: {'eta': 0.17351260590156398, 'max_depth': 11, 'subsample': 0.5199165485742097, 'colsample_bytree': 0.5635928258451296, 'gamma': 0.6075553356395077, 'alpha': 0.8196658647416206, 'lambda': 0.9805865740626387, 'min_child_weight': 9, 'max_delta_step': 3, 'tree_method': 'exact', 'learning_rate': 0.03392134435514119, 'min_split_loss': 0.0280121652867662, 'max_bin': 68}. Best is trial 3 with value: 20698.77721265109.\n"
     ]
    },
    {
     "name": "stdout",
     "output_type": "stream",
     "text": [
      "[0]\tval-rmse:74767.73290\n",
      "[50]\tval-rmse:74765.14327\n",
      "[100]\tval-rmse:74762.56483\n",
      "[150]\tval-rmse:74759.97827\n",
      "[199]\tval-rmse:74757.44557\n"
     ]
    },
    {
     "name": "stderr",
     "output_type": "stream",
     "text": [
      "[I 2024-02-26 18:45:44,136] Trial 17 finished with value: 74757.44523776906 and parameters: {'eta': 0.12016686561348909, 'max_depth': 14, 'subsample': 0.8134984407776651, 'colsample_bytree': 0.7377062910928719, 'gamma': 0.4487217744243918, 'alpha': 0.12641337049280313, 'lambda': 0.33636122358383097, 'min_child_weight': 8, 'max_delta_step': 1, 'tree_method': 'auto', 'learning_rate': 0.07242145264384664, 'min_split_loss': 0.7644995018707521, 'max_bin': 260}. Best is trial 3 with value: 20698.77721265109.\n"
     ]
    },
    {
     "name": "stdout",
     "output_type": "stream",
     "text": [
      "[0]\tval-rmse:74767.75066\n",
      "[50]\tval-rmse:74766.22550\n",
      "[100]\tval-rmse:74764.70358\n",
      "[150]\tval-rmse:74763.17405\n",
      "[199]\tval-rmse:74761.67826\n"
     ]
    },
    {
     "name": "stderr",
     "output_type": "stream",
     "text": [
      "[I 2024-02-26 18:45:44,511] Trial 18 finished with value: 74761.67770579773 and parameters: {'eta': 0.24233455143922705, 'max_depth': 10, 'subsample': 0.5076960274909965, 'colsample_bytree': 0.8839482881020096, 'gamma': 0.858205803381634, 'alpha': 0.30619393753627355, 'lambda': 0.15136447496501632, 'min_child_weight': 9, 'max_delta_step': 4, 'tree_method': 'approx', 'learning_rate': 0.012681889513550607, 'min_split_loss': 0.5716311815727989, 'max_bin': 182}. Best is trial 3 with value: 20698.77721265109.\n"
     ]
    },
    {
     "name": "stdout",
     "output_type": "stream",
     "text": [
      "[0]\tval-rmse:74767.56878\n",
      "[50]\tval-rmse:74755.86019\n",
      "[100]\tval-rmse:74743.85935\n",
      "[150]\tval-rmse:74732.17352\n",
      "[199]\tval-rmse:74720.77643\n"
     ]
    },
    {
     "name": "stderr",
     "output_type": "stream",
     "text": [
      "[I 2024-02-26 18:45:44,832] Trial 19 finished with value: 74720.7756958637 and parameters: {'eta': 0.040587539142934725, 'max_depth': 13, 'subsample': 0.2672096523462283, 'colsample_bytree': 0.30826145563397744, 'gamma': 0.7420945638632488, 'alpha': 0.4759910919745606, 'lambda': 0.8527344394567408, 'min_child_weight': 6, 'max_delta_step': 10, 'tree_method': 'hist', 'learning_rate': 0.037059210017909114, 'min_split_loss': 0.386831110848213, 'max_bin': 118}. Best is trial 3 with value: 20698.77721265109.\n"
     ]
    },
    {
     "name": "stdout",
     "output_type": "stream",
     "text": [
      "[0]\tval-rmse:74767.73105\n",
      "[50]\tval-rmse:74765.13447\n",
      "[100]\tval-rmse:74762.54949\n",
      "[150]\tval-rmse:74759.95436\n",
      "[199]\tval-rmse:74757.42892\n"
     ]
    },
    {
     "name": "stderr",
     "output_type": "stream",
     "text": [
      "[I 2024-02-26 18:45:45,266] Trial 20 finished with value: 74757.42860796202 and parameters: {'eta': 0.06528293219616545, 'max_depth': 13, 'subsample': 0.7770329747613782, 'colsample_bytree': 0.5152682760041898, 'gamma': 0.9027768251282642, 'alpha': 0.7098824065839717, 'lambda': 0.7517472259906691, 'min_child_weight': 7, 'max_delta_step': 1, 'tree_method': 'hist', 'learning_rate': 0.07513025205137099, 'min_split_loss': 0.13624078750284407, 'max_bin': 471}. Best is trial 3 with value: 20698.77721265109.\n"
     ]
    },
    {
     "name": "stdout",
     "output_type": "stream",
     "text": [
      "[0]\tval-rmse:73398.66408\n",
      "[50]\tval-rmse:35594.34852\n",
      "[100]\tval-rmse:23942.10868\n",
      "[150]\tval-rmse:21291.04643\n",
      "[199]\tval-rmse:20478.62114\n"
     ]
    },
    {
     "name": "stderr",
     "output_type": "stream",
     "text": [
      "[I 2024-02-26 18:45:45,937] Trial 21 finished with value: 20478.62112784912 and parameters: {'eta': 0.17446708501489713, 'max_depth': 12, 'subsample': 0.6609257299791054, 'colsample_bytree': 0.354587134237587, 'gamma': 0.5695161353577026, 'alpha': 0.2475033177436457, 'lambda': 0.44383869067958776, 'min_child_weight': 10, 'max_delta_step': 0, 'tree_method': 'auto', 'learning_rate': 0.021413860763129712, 'min_split_loss': 0.03063341145692208, 'max_bin': 88}. Best is trial 21 with value: 20478.62112784912.\n"
     ]
    },
    {
     "name": "stdout",
     "output_type": "stream",
     "text": [
      "[0]\tval-rmse:74767.76371\n",
      "[50]\tval-rmse:74766.75860\n",
      "[100]\tval-rmse:74765.74026\n",
      "[150]\tval-rmse:74764.73170\n",
      "[199]\tval-rmse:74763.74417\n"
     ]
    },
    {
     "name": "stderr",
     "output_type": "stream",
     "text": [
      "[I 2024-02-26 18:45:46,315] Trial 22 finished with value: 74763.74384654032 and parameters: {'eta': 0.18332447402626703, 'max_depth': 11, 'subsample': 0.6148317511193986, 'colsample_bytree': 0.3399701360377492, 'gamma': 0.525921634815194, 'alpha': 0.29368787311712163, 'lambda': 0.5367471470013503, 'min_child_weight': 10, 'max_delta_step': 1, 'tree_method': 'auto', 'learning_rate': 0.03320167254057092, 'min_split_loss': 0.11212605773290726, 'max_bin': 64}. Best is trial 21 with value: 20478.62112784912.\n"
     ]
    },
    {
     "name": "stdout",
     "output_type": "stream",
     "text": [
      "[0]\tval-rmse:74002.70227\n",
      "[50]\tval-rmse:47841.24451\n",
      "[100]\tval-rmse:33403.39274\n",
      "[150]\tval-rmse:26443.18872\n",
      "[199]\tval-rmse:23594.84045\n"
     ]
    },
    {
     "name": "stderr",
     "output_type": "stream",
     "text": [
      "[I 2024-02-26 18:45:47,036] Trial 23 finished with value: 23594.8404628653 and parameters: {'eta': 0.11872483598252015, 'max_depth': 12, 'subsample': 0.7179698555185337, 'colsample_bytree': 0.6248890405714118, 'gamma': 0.3877230911436732, 'alpha': 0.10756498060873043, 'lambda': 0.3669832158343436, 'min_child_weight': 9, 'max_delta_step': 0, 'tree_method': 'auto', 'learning_rate': 0.011412243395269965, 'min_split_loss': 0.3484060782362442, 'max_bin': 172}. Best is trial 21 with value: 20478.62112784912.\n"
     ]
    },
    {
     "name": "stdout",
     "output_type": "stream",
     "text": [
      "[0]\tval-rmse:74767.75079\n",
      "[50]\tval-rmse:74765.76214\n",
      "[100]\tval-rmse:74763.76228\n",
      "[150]\tval-rmse:74761.78444\n",
      "[199]\tval-rmse:74759.86340\n"
     ]
    },
    {
     "name": "stderr",
     "output_type": "stream",
     "text": [
      "[I 2024-02-26 18:45:47,400] Trial 24 finished with value: 74759.8629426469 and parameters: {'eta': 0.22055491242123518, 'max_depth': 10, 'subsample': 0.5663035171496454, 'colsample_bytree': 0.2303939509720359, 'gamma': 0.5956892804530919, 'alpha': 0.4798238877799932, 'lambda': 0.10546008078989588, 'min_child_weight': 10, 'max_delta_step': 1, 'tree_method': 'auto', 'learning_rate': 0.05533014874423632, 'min_split_loss': 0.8467780175025819, 'max_bin': 111}. Best is trial 21 with value: 20478.62112784912.\n"
     ]
    },
    {
     "name": "stdout",
     "output_type": "stream",
     "text": [
      "[0]\tval-rmse:74767.71356\n",
      "[50]\tval-rmse:74764.15868\n",
      "[100]\tval-rmse:74760.61302\n",
      "[150]\tval-rmse:74757.09535\n",
      "[199]\tval-rmse:74753.63641\n"
     ]
    },
    {
     "name": "stderr",
     "output_type": "stream",
     "text": [
      "[I 2024-02-26 18:45:47,762] Trial 25 finished with value: 74753.63605654104 and parameters: {'eta': 0.16944179381773558, 'max_depth': 14, 'subsample': 0.4834354349006395, 'colsample_bytree': 0.36801645687310325, 'gamma': 0.6669924681175394, 'alpha': 0.24358656225240108, 'lambda': 0.27621955109341245, 'min_child_weight': 8, 'max_delta_step': 3, 'tree_method': 'auto', 'learning_rate': 0.03668880422216367, 'min_split_loss': 0.5599764955049567, 'max_bin': 265}. Best is trial 21 with value: 20478.62112784912.\n"
     ]
    },
    {
     "name": "stdout",
     "output_type": "stream",
     "text": [
      "[0]\tval-rmse:73332.29781\n",
      "[50]\tval-rmse:31014.45957\n",
      "[100]\tval-rmse:22794.09852\n",
      "[150]\tval-rmse:21487.63415\n",
      "[199]\tval-rmse:21049.60943\n"
     ]
    },
    {
     "name": "stderr",
     "output_type": "stream",
     "text": [
      "[I 2024-02-26 18:45:48,619] Trial 26 finished with value: 21049.60950205857 and parameters: {'eta': 0.13172413564678473, 'max_depth': 11, 'subsample': 0.9894426868147748, 'colsample_bytree': 0.48044920479022313, 'gamma': 0.009485805262458569, 'alpha': 0.021807162633232735, 'lambda': 0.6187768069237234, 'min_child_weight': 9, 'max_delta_step': 0, 'tree_method': 'approx', 'learning_rate': 0.025777632459105335, 'min_split_loss': 0.11694509304316847, 'max_bin': 149}. Best is trial 21 with value: 20478.62112784912.\n"
     ]
    },
    {
     "name": "stdout",
     "output_type": "stream",
     "text": [
      "[0]\tval-rmse:74767.62750\n",
      "[50]\tval-rmse:74760.06767\n",
      "[100]\tval-rmse:74752.49102\n",
      "[150]\tval-rmse:74744.90118\n",
      "[199]\tval-rmse:74737.47047\n"
     ]
    },
    {
     "name": "stderr",
     "output_type": "stream",
     "text": [
      "[I 2024-02-26 18:45:48,932] Trial 27 finished with value: 74737.4698718103 and parameters: {'eta': 0.2685965242458859, 'max_depth': 13, 'subsample': 0.3976409266132331, 'colsample_bytree': 0.6445371272493148, 'gamma': 0.45792818043895467, 'alpha': 0.30657813215324137, 'lambda': 0.45175332162002224, 'min_child_weight': 10, 'max_delta_step': 2, 'tree_method': 'exact', 'learning_rate': 0.11692349561316973, 'min_split_loss': 0.2244859421018151, 'max_bin': 198}. Best is trial 21 with value: 20478.62112784912.\n"
     ]
    },
    {
     "name": "stdout",
     "output_type": "stream",
     "text": [
      "[0]\tval-rmse:74767.67844\n",
      "[50]\tval-rmse:74761.72794\n",
      "[100]\tval-rmse:74755.66052\n",
      "[150]\tval-rmse:74749.74562\n",
      "[199]\tval-rmse:74743.92238\n"
     ]
    },
    {
     "name": "stderr",
     "output_type": "stream",
     "text": [
      "[I 2024-02-26 18:45:49,432] Trial 28 finished with value: 74743.92172731935 and parameters: {'eta': 0.19166903231412605, 'max_depth': 15, 'subsample': 0.6487464286095752, 'colsample_bytree': 0.24777527574666675, 'gamma': 0.8204384891469966, 'alpha': 0.14903636443044327, 'lambda': 0.7322023759485227, 'min_child_weight': 1, 'max_delta_step': 4, 'tree_method': 'hist', 'learning_rate': 0.046508559803199, 'min_split_loss': 0.39683512980660224, 'max_bin': 102}. Best is trial 21 with value: 20478.62112784912.\n"
     ]
    },
    {
     "name": "stdout",
     "output_type": "stream",
     "text": [
      "[0]\tval-rmse:74767.74063\n",
      "[50]\tval-rmse:74765.71621\n",
      "[100]\tval-rmse:74763.69223\n",
      "[150]\tval-rmse:74761.64912\n",
      "[199]\tval-rmse:74759.66341\n"
     ]
    },
    {
     "name": "stderr",
     "output_type": "stream",
     "text": [
      "[I 2024-02-26 18:45:49,792] Trial 29 finished with value: 74759.66310327416 and parameters: {'eta': 0.22130493611706786, 'max_depth': 12, 'subsample': 0.31818283125423563, 'colsample_bytree': 0.9054792522667915, 'gamma': 0.9063024745340668, 'alpha': 0.5440340384757957, 'lambda': 0.010210801159710986, 'min_child_weight': 7, 'max_delta_step': 1, 'tree_method': 'auto', 'learning_rate': 0.06538376640456273, 'min_split_loss': 0.5769937705638485, 'max_bin': 218}. Best is trial 21 with value: 20478.62112784912.\n"
     ]
    },
    {
     "name": "stdout",
     "output_type": "stream",
     "text": [
      "[0]\tval-rmse:69948.28074\n",
      "[50]\tval-rmse:21360.08290\n",
      "[71]\tval-rmse:21226.38590\n"
     ]
    },
    {
     "name": "stderr",
     "output_type": "stream",
     "text": [
      "[I 2024-02-26 18:45:50,085] Trial 30 finished with value: 21304.76208982664 and parameters: {'eta': 0.16315341140680895, 'max_depth': 12, 'subsample': 0.5764427922445725, 'colsample_bytree': 0.3826466452036115, 'gamma': 0.6774813108724937, 'alpha': 0.4272217644491546, 'lambda': 0.9183139669549356, 'min_child_weight': 9, 'max_delta_step': 0, 'tree_method': 'approx', 'learning_rate': 0.0919498381668286, 'min_split_loss': 0.1704328723523092, 'max_bin': 127}. Best is trial 21 with value: 20478.62112784912.\n"
     ]
    },
    {
     "name": "stdout",
     "output_type": "stream",
     "text": [
      "[0]\tval-rmse:73167.10012\n",
      "[50]\tval-rmse:29267.04231\n",
      "[100]\tval-rmse:22377.22618\n",
      "[150]\tval-rmse:21329.68743\n",
      "[199]\tval-rmse:21039.71520\n"
     ]
    },
    {
     "name": "stderr",
     "output_type": "stream",
     "text": [
      "[I 2024-02-26 18:45:50,959] Trial 31 finished with value: 21039.715120208133 and parameters: {'eta': 0.1314841765134456, 'max_depth': 11, 'subsample': 0.9756546837661099, 'colsample_bytree': 0.5175987574734406, 'gamma': 0.05288942984673484, 'alpha': 0.05264078736181245, 'lambda': 0.6115335993199145, 'min_child_weight': 9, 'max_delta_step': 0, 'tree_method': 'approx', 'learning_rate': 0.028929945245874833, 'min_split_loss': 0.09968874600784598, 'max_bin': 154}. Best is trial 21 with value: 20478.62112784912.\n"
     ]
    },
    {
     "name": "stdout",
     "output_type": "stream",
     "text": [
      "[0]\tval-rmse:74767.76034\n",
      "[50]\tval-rmse:74766.72157\n",
      "[100]\tval-rmse:74765.68777\n",
      "[150]\tval-rmse:74764.64714\n",
      "[199]\tval-rmse:74763.63528\n"
     ]
    },
    {
     "name": "stderr",
     "output_type": "stream",
     "text": [
      "[I 2024-02-26 18:45:51,434] Trial 32 finished with value: 74763.63486604783 and parameters: {'eta': 0.12063092390957626, 'max_depth': 11, 'subsample': 0.8737669123582607, 'colsample_bytree': 0.5720982779606534, 'gamma': 0.33087830716554956, 'alpha': 0.08026299620439628, 'lambda': 0.6510806280294693, 'min_child_weight': 8, 'max_delta_step': 1, 'tree_method': 'approx', 'learning_rate': 0.02534137281641933, 'min_split_loss': 0.004464960382842723, 'max_bin': 159}. Best is trial 21 with value: 20478.62112784912.\n"
     ]
    },
    {
     "name": "stdout",
     "output_type": "stream",
     "text": [
      "[0]\tval-rmse:72422.52982\n",
      "[50]\tval-rmse:24383.61168\n",
      "[100]\tval-rmse:21165.55360\n",
      "[150]\tval-rmse:20778.33466\n",
      "[199]\tval-rmse:20715.71177\n"
     ]
    },
    {
     "name": "stderr",
     "output_type": "stream",
     "text": [
      "[I 2024-02-26 18:45:52,150] Trial 33 finished with value: 20715.711746759254 and parameters: {'eta': 0.13588947651787125, 'max_depth': 10, 'subsample': 0.9802651044076484, 'colsample_bytree': 0.494630561065009, 'gamma': 0.18225551854123467, 'alpha': 0.0004212004074648501, 'lambda': 0.7202239836169313, 'min_child_weight': 10, 'max_delta_step': 0, 'tree_method': 'approx', 'learning_rate': 0.04150930347902372, 'min_split_loss': 0.048734077858115094, 'max_bin': 98}. Best is trial 21 with value: 20478.62112784912.\n"
     ]
    },
    {
     "name": "stdout",
     "output_type": "stream",
     "text": [
      "[0]\tval-rmse:74767.56963\n",
      "[50]\tval-rmse:74756.79300\n",
      "[100]\tval-rmse:74746.05843\n",
      "[150]\tval-rmse:74735.28901\n",
      "[199]\tval-rmse:74724.76806\n"
     ]
    },
    {
     "name": "stderr",
     "output_type": "stream",
     "text": [
      "[I 2024-02-26 18:45:52,511] Trial 34 finished with value: 74724.76737916595 and parameters: {'eta': 0.14832195374131935, 'max_depth': 9, 'subsample': 0.7466267695790283, 'colsample_bytree': 0.47811096372584005, 'gamma': 0.11305761875959736, 'alpha': 0.0139870174766914, 'lambda': 0.7563961093328031, 'min_child_weight': 10, 'max_delta_step': 7, 'tree_method': 'approx', 'learning_rate': 0.046877022292193385, 'min_split_loss': 0.06861381797143204, 'max_bin': 91}. Best is trial 21 with value: 20478.62112784912.\n"
     ]
    },
    {
     "name": "stdout",
     "output_type": "stream",
     "text": [
      "[0]\tval-rmse:74767.64257\n",
      "[50]\tval-rmse:74760.46307\n",
      "[100]\tval-rmse:74753.29330\n",
      "[150]\tval-rmse:74746.10014\n",
      "[199]\tval-rmse:74739.09300\n"
     ]
    },
    {
     "name": "stderr",
     "output_type": "stream",
     "text": [
      "[I 2024-02-26 18:45:52,924] Trial 35 finished with value: 74739.09268283706 and parameters: {'eta': 0.17909541810424562, 'max_depth': 8, 'subsample': 0.8785284658905232, 'colsample_bytree': 0.6925187418419451, 'gamma': 0.2569273404756568, 'alpha': 0.12987734799183806, 'lambda': 0.9318632891561602, 'min_child_weight': 10, 'max_delta_step': 2, 'tree_method': 'approx', 'learning_rate': 0.11145639459964435, 'min_split_loss': 0.9966658567415507, 'max_bin': 96}. Best is trial 21 with value: 20478.62112784912.\n"
     ]
    },
    {
     "name": "stdout",
     "output_type": "stream",
     "text": [
      "[0]\tval-rmse:74767.67780\n",
      "[50]\tval-rmse:74762.08332\n",
      "[100]\tval-rmse:74756.47538\n",
      "[150]\tval-rmse:74750.82701\n",
      "[199]\tval-rmse:74745.35140\n"
     ]
    },
    {
     "name": "stderr",
     "output_type": "stream",
     "text": [
      "[I 2024-02-26 18:45:53,290] Trial 36 finished with value: 74745.35109248289 and parameters: {'eta': 0.11023218696419111, 'max_depth': 10, 'subsample': 0.4624875570261989, 'colsample_bytree': 0.41901131678678133, 'gamma': 0.2173577121555193, 'alpha': 0.2681864745623049, 'lambda': 0.8082889478547346, 'min_child_weight': 5, 'max_delta_step': 1, 'tree_method': 'hist', 'learning_rate': 0.1725877037017296, 'min_split_loss': 0.2945723308729893, 'max_bin': 351}. Best is trial 21 with value: 20478.62112784912.\n"
     ]
    },
    {
     "name": "stdout",
     "output_type": "stream",
     "text": [
      "[0]\tval-rmse:74767.14025\n",
      "[50]\tval-rmse:74735.29986\n",
      "[100]\tval-rmse:74703.50593\n",
      "[150]\tval-rmse:74671.36091\n",
      "[199]\tval-rmse:74640.39470\n"
     ]
    },
    {
     "name": "stderr",
     "output_type": "stream",
     "text": [
      "[I 2024-02-26 18:45:53,588] Trial 37 finished with value: 74640.39411067848 and parameters: {'eta': 0.0736355055394009, 'max_depth': 8, 'subsample': 0.20763766186070026, 'colsample_bytree': 0.584494823511892, 'gamma': 0.5613267698186937, 'alpha': 0.35073672204992457, 'lambda': 0.2205130715414372, 'min_child_weight': 8, 'max_delta_step': 8, 'tree_method': 'auto', 'learning_rate': 0.12461646528296999, 'min_split_loss': 0.27044281890928296, 'max_bin': 121}. Best is trial 21 with value: 20478.62112784912.\n"
     ]
    },
    {
     "name": "stdout",
     "output_type": "stream",
     "text": [
      "[0]\tval-rmse:68755.56350\n",
      "[50]\tval-rmse:22191.03885\n",
      "[84]\tval-rmse:22023.61411\n"
     ]
    },
    {
     "name": "stderr",
     "output_type": "stream",
     "text": [
      "[I 2024-02-26 18:45:53,822] Trial 38 finished with value: 22023.61413714885 and parameters: {'eta': 0.2082927995496602, 'max_depth': 6, 'subsample': 0.8419685327367089, 'colsample_bytree': 0.7066151138522312, 'gamma': 0.14009864612004275, 'alpha': 0.19041421943514547, 'lambda': 0.7093278036023911, 'min_child_weight': 9, 'max_delta_step': 0, 'tree_method': 'approx', 'learning_rate': 0.08873704513038835, 'min_split_loss': 0.16342176624240617, 'max_bin': 198}. Best is trial 21 with value: 20478.62112784912.\n"
     ]
    },
    {
     "name": "stdout",
     "output_type": "stream",
     "text": [
      "[0]\tval-rmse:74767.55633\n",
      "[50]\tval-rmse:74755.96657\n",
      "[100]\tval-rmse:74743.89647\n",
      "[150]\tval-rmse:74731.80681\n",
      "[199]\tval-rmse:74720.06365\n"
     ]
    },
    {
     "name": "stderr",
     "output_type": "stream",
     "text": [
      "[I 2024-02-26 18:45:54,200] Trial 39 finished with value: 74720.06299558548 and parameters: {'eta': 0.011487867168907512, 'max_depth': 9, 'subsample': 0.623370128798318, 'colsample_bytree': 0.262666899699729, 'gamma': 0.6244780163938453, 'alpha': 0.006912374074006506, 'lambda': 0.5575822475469714, 'min_child_weight': 4, 'max_delta_step': 6, 'tree_method': 'exact', 'learning_rate': 0.062374103027797625, 'min_split_loss': 0.42557950419677976, 'max_bin': 297}. Best is trial 21 with value: 20478.62112784912.\n"
     ]
    },
    {
     "name": "stdout",
     "output_type": "stream",
     "text": [
      "[0]\tval-rmse:74767.73000\n",
      "[50]\tval-rmse:74765.16200\n",
      "[100]\tval-rmse:74762.60996\n",
      "[150]\tval-rmse:74760.04672\n",
      "[199]\tval-rmse:74757.54357\n"
     ]
    },
    {
     "name": "stderr",
     "output_type": "stream",
     "text": [
      "[I 2024-02-26 18:45:54,643] Trial 40 finished with value: 74757.54326458153 and parameters: {'eta': 0.23092927177740663, 'max_depth': 10, 'subsample': 0.9328963451983223, 'colsample_bytree': 0.7717485373551765, 'gamma': 0.7479711535778307, 'alpha': 0.9089797793673076, 'lambda': 0.3027052421889325, 'min_child_weight': 10, 'max_delta_step': 2, 'tree_method': 'approx', 'learning_rate': 0.04123183455779197, 'min_split_loss': 0.5056311742090829, 'max_bin': 86}. Best is trial 21 with value: 20478.62112784912.\n"
     ]
    },
    {
     "name": "stdout",
     "output_type": "stream",
     "text": [
      "[0]\tval-rmse:73517.04127\n",
      "[50]\tval-rmse:33606.20497\n",
      "[100]\tval-rmse:23959.81376\n",
      "[150]\tval-rmse:22036.49877\n",
      "[199]\tval-rmse:21485.77126\n"
     ]
    },
    {
     "name": "stderr",
     "output_type": "stream",
     "text": [
      "[I 2024-02-26 18:45:55,490] Trial 41 finished with value: 21485.771300755605 and parameters: {'eta': 0.13679381916859304, 'max_depth': 11, 'subsample': 0.9854782566220132, 'colsample_bytree': 0.5233978071333277, 'gamma': 0.024554853507533163, 'alpha': 0.05573090347266761, 'lambda': 0.6247666311044215, 'min_child_weight': 9, 'max_delta_step': 0, 'tree_method': 'approx', 'learning_rate': 0.022995760524622468, 'min_split_loss': 0.0777809608888688, 'max_bin': 150}. Best is trial 21 with value: 20478.62112784912.\n"
     ]
    },
    {
     "name": "stdout",
     "output_type": "stream",
     "text": [
      "[0]\tval-rmse:73139.67417\n",
      "[50]\tval-rmse:28727.89698\n",
      "[100]\tval-rmse:22564.98976\n",
      "[150]\tval-rmse:21766.90834\n",
      "[199]\tval-rmse:21678.15213\n"
     ]
    },
    {
     "name": "stderr",
     "output_type": "stream",
     "text": [
      "[I 2024-02-26 18:45:56,366] Trial 42 finished with value: 21678.152071718647 and parameters: {'eta': 0.15660001522827005, 'max_depth': 12, 'subsample': 0.9681726386135728, 'colsample_bytree': 0.49339774928282887, 'gamma': 0.07301504994227077, 'alpha': 0.08597066902112038, 'lambda': 0.49480284665277724, 'min_child_weight': 9, 'max_delta_step': 0, 'tree_method': 'approx', 'learning_rate': 0.029886203404622457, 'min_split_loss': 0.08306852694944711, 'max_bin': 131}. Best is trial 21 with value: 20478.62112784912.\n"
     ]
    },
    {
     "name": "stdout",
     "output_type": "stream",
     "text": [
      "[0]\tval-rmse:74767.77162\n",
      "[50]\tval-rmse:74767.25918\n",
      "[100]\tval-rmse:74766.74487\n",
      "[150]\tval-rmse:74766.22624\n",
      "[199]\tval-rmse:74765.72577\n"
     ]
    },
    {
     "name": "stderr",
     "output_type": "stream",
     "text": [
      "[I 2024-02-26 18:45:56,782] Trial 43 finished with value: 74765.72523516405 and parameters: {'eta': 0.10779612546959366, 'max_depth': 9, 'subsample': 0.9296806137365914, 'colsample_bytree': 0.44236381644127454, 'gamma': 0.17924910505465608, 'alpha': 0.055568807962787375, 'lambda': 0.8102942997356566, 'min_child_weight': 10, 'max_delta_step': 1, 'tree_method': 'approx', 'learning_rate': 0.01942358720710271, 'min_split_loss': 0.19244587431048787, 'max_bin': 64}. Best is trial 21 with value: 20478.62112784912.\n"
     ]
    },
    {
     "name": "stdout",
     "output_type": "stream",
     "text": [
      "[0]\tval-rmse:74152.69496\n",
      "[50]\tval-rmse:49130.28766\n",
      "[100]\tval-rmse:35231.48032\n",
      "[150]\tval-rmse:27769.03512\n",
      "[199]\tval-rmse:24166.41045\n"
     ]
    },
    {
     "name": "stderr",
     "output_type": "stream",
     "text": [
      "[I 2024-02-26 18:45:57,525] Trial 44 finished with value: 24166.410426604325 and parameters: {'eta': 0.18756742567274745, 'max_depth': 12, 'subsample': 0.4159096604181617, 'colsample_bytree': 0.6594812442494861, 'gamma': 0.060895044415680666, 'alpha': 0.16488761741743074, 'lambda': 0.6894949409757684, 'min_child_weight': 8, 'max_delta_step': 0, 'tree_method': 'approx', 'learning_rate': 0.010782120277691015, 'min_split_loss': 0.2280355293497281, 'max_bin': 240}. Best is trial 21 with value: 20478.62112784912.\n"
     ]
    },
    {
     "name": "stdout",
     "output_type": "stream",
     "text": [
      "[0]\tval-rmse:74767.75311\n",
      "[50]\tval-rmse:74766.25558\n",
      "[100]\tval-rmse:74764.75741\n",
      "[150]\tval-rmse:74763.26920\n",
      "[199]\tval-rmse:74761.80482\n"
     ]
    },
    {
     "name": "stderr",
     "output_type": "stream",
     "text": [
      "[I 2024-02-26 18:45:57,857] Trial 45 finished with value: 74761.80424824751 and parameters: {'eta': 0.1307485175109983, 'max_depth': 11, 'subsample': 0.3421055062415842, 'colsample_bytree': 0.3919703597373177, 'gamma': 0.32615122700089905, 'alpha': 0.05193158077915356, 'lambda': 0.3912443382982195, 'min_child_weight': 7, 'max_delta_step': 1, 'tree_method': 'hist', 'learning_rate': 0.05099319030978604, 'min_split_loss': 0.010099491468870403, 'max_bin': 97}. Best is trial 21 with value: 20478.62112784912.\n"
     ]
    },
    {
     "name": "stdout",
     "output_type": "stream",
     "text": [
      "[0]\tval-rmse:74767.69876\n",
      "[50]\tval-rmse:74763.58493\n",
      "[100]\tval-rmse:74759.46332\n",
      "[150]\tval-rmse:74755.33068\n",
      "[199]\tval-rmse:74751.30365\n"
     ]
    },
    {
     "name": "stderr",
     "output_type": "stream",
     "text": [
      "[I 2024-02-26 18:45:58,276] Trial 46 finished with value: 74751.30337798201 and parameters: {'eta': 0.14857621092711376, 'max_depth': 13, 'subsample': 0.879776868905983, 'colsample_bytree': 0.6043936560200593, 'gamma': 0.4784530778902448, 'alpha': 0.2111122284891195, 'lambda': 0.8963488108385448, 'min_child_weight': 10, 'max_delta_step': 2, 'tree_method': 'approx', 'learning_rate': 0.059707942965195895, 'min_split_loss': 0.6577108974210867, 'max_bin': 165}. Best is trial 21 with value: 20478.62112784912.\n"
     ]
    },
    {
     "name": "stdout",
     "output_type": "stream",
     "text": [
      "[0]\tval-rmse:69028.83122\n",
      "[50]\tval-rmse:22601.44317\n",
      "[96]\tval-rmse:22362.94719\n"
     ]
    },
    {
     "name": "stderr",
     "output_type": "stream",
     "text": [
      "[I 2024-02-26 18:45:58,647] Trial 47 finished with value: 22357.18178597948 and parameters: {'eta': 0.0895503504397415, 'max_depth': 10, 'subsample': 0.5262030684247139, 'colsample_bytree': 0.5344482263599211, 'gamma': 0.5389331366000071, 'alpha': 0.35069429571076816, 'lambda': 0.4815407884047003, 'min_child_weight': 2, 'max_delta_step': 0, 'tree_method': 'hist', 'learning_rate': 0.08077357103578194, 'min_split_loss': 0.8741894972648594, 'max_bin': 189}. Best is trial 21 with value: 20478.62112784912.\n"
     ]
    },
    {
     "name": "stdout",
     "output_type": "stream",
     "text": [
      "[0]\tval-rmse:74767.70209\n",
      "[50]\tval-rmse:74763.31304\n",
      "[100]\tval-rmse:74758.86168\n",
      "[150]\tval-rmse:74754.42250\n",
      "[199]\tval-rmse:74750.07966\n"
     ]
    },
    {
     "name": "stderr",
     "output_type": "stream",
     "text": [
      "[I 2024-02-26 18:45:59,018] Trial 48 finished with value: 74750.07919054375 and parameters: {'eta': 0.1981801521023193, 'max_depth': 12, 'subsample': 0.6771037032888849, 'colsample_bytree': 0.17851639178106132, 'gamma': 0.4031683773965919, 'alpha': 0.10467262844344773, 'lambda': 0.9921398873916172, 'min_child_weight': 9, 'max_delta_step': 3, 'tree_method': 'approx', 'learning_rate': 0.04464542497571908, 'min_split_loss': 0.7218441586375193, 'max_bin': 138}. Best is trial 21 with value: 20478.62112784912.\n"
     ]
    },
    {
     "name": "stdout",
     "output_type": "stream",
     "text": [
      "[0]\tval-rmse:74767.76326\n",
      "[50]\tval-rmse:74766.83517\n",
      "[100]\tval-rmse:74765.88995\n",
      "[150]\tval-rmse:74764.92830\n",
      "[199]\tval-rmse:74764.00460\n"
     ]
    },
    {
     "name": "stderr",
     "output_type": "stream",
     "text": [
      "[I 2024-02-26 18:45:59,291] Trial 49 finished with value: 74764.00394423868 and parameters: {'eta': 0.16650267500561683, 'max_depth': 11, 'subsample': 0.10998315718054141, 'colsample_bytree': 0.4387267843731743, 'gamma': 0.12629848348784528, 'alpha': 0.6165473278963535, 'lambda': 0.5815715754829313, 'min_child_weight': 8, 'max_delta_step': 1, 'tree_method': 'auto', 'learning_rate': 0.030370592677766085, 'min_split_loss': 0.04707367724392718, 'max_bin': 78}. Best is trial 21 with value: 20478.62112784912.\n"
     ]
    },
    {
     "name": "stdout",
     "output_type": "stream",
     "text": [
      "[0]\tval-rmse:73637.69387\n",
      "[50]\tval-rmse:37111.14352\n",
      "[100]\tval-rmse:24510.86300\n",
      "[150]\tval-rmse:21236.94298\n",
      "[199]\tval-rmse:20242.10371\n"
     ]
    },
    {
     "name": "stderr",
     "output_type": "stream",
     "text": [
      "[I 2024-02-26 18:45:59,981] Trial 50 finished with value: 20242.10377955432 and parameters: {'eta': 0.14077216266659542, 'max_depth': 9, 'subsample': 0.5954248950210835, 'colsample_bytree': 0.304077439043567, 'gamma': 0.7881259319279652, 'alpha': 0.15593042147002636, 'lambda': 0.14725315179852005, 'min_child_weight': 9, 'max_delta_step': 0, 'tree_method': 'approx', 'learning_rate': 0.018809841796104843, 'min_split_loss': 0.14796490917321914, 'max_bin': 234}. Best is trial 50 with value: 20242.10377955432.\n"
     ]
    },
    {
     "name": "stdout",
     "output_type": "stream",
     "text": [
      "[0]\tval-rmse:73744.77238\n",
      "[50]\tval-rmse:34764.46987\n",
      "[100]\tval-rmse:23570.39462\n",
      "[150]\tval-rmse:20865.46468\n",
      "[199]\tval-rmse:20238.47641\n"
     ]
    },
    {
     "name": "stderr",
     "output_type": "stream",
     "text": [
      "[I 2024-02-26 18:46:00,656] Trial 51 finished with value: 20238.476294405446 and parameters: {'eta': 0.13539057874309834, 'max_depth': 9, 'subsample': 0.5746991089261864, 'colsample_bytree': 0.29608804930092625, 'gamma': 0.9564036891424886, 'alpha': 0.15111914687095254, 'lambda': 0.08960274026239333, 'min_child_weight': 9, 'max_delta_step': 0, 'tree_method': 'approx', 'learning_rate': 0.02161439289040197, 'min_split_loss': 0.1381051528455764, 'max_bin': 267}. Best is trial 51 with value: 20238.476294405446.\n"
     ]
    },
    {
     "name": "stdout",
     "output_type": "stream",
     "text": [
      "[0]\tval-rmse:73790.72049\n",
      "[50]\tval-rmse:35447.82142\n",
      "[100]\tval-rmse:23557.64202\n",
      "[150]\tval-rmse:20669.31902\n",
      "[199]\tval-rmse:20035.14263\n"
     ]
    },
    {
     "name": "stderr",
     "output_type": "stream",
     "text": [
      "[I 2024-02-26 18:46:01,345] Trial 52 finished with value: 20035.14260164022 and parameters: {'eta': 0.14848622058768174, 'max_depth': 9, 'subsample': 0.5918693966420562, 'colsample_bytree': 0.29199779049497027, 'gamma': 0.9453141424273538, 'alpha': 0.2404124779029148, 'lambda': 0.11244718319514575, 'min_child_weight': 10, 'max_delta_step': 0, 'tree_method': 'approx', 'learning_rate': 0.020391446241911224, 'min_split_loss': 0.144704883033259, 'max_bin': 326}. Best is trial 52 with value: 20035.14260164022.\n"
     ]
    },
    {
     "name": "stdout",
     "output_type": "stream",
     "text": [
      "[0]\tval-rmse:74767.77154\n",
      "[50]\tval-rmse:74767.26698\n",
      "[100]\tval-rmse:74766.75523\n",
      "[150]\tval-rmse:74766.25031\n",
      "[199]\tval-rmse:74765.75905\n"
     ]
    },
    {
     "name": "stderr",
     "output_type": "stream",
     "text": [
      "[I 2024-02-26 18:46:01,817] Trial 53 finished with value: 74765.75847855033 and parameters: {'eta': 0.1535742400464111, 'max_depth': 7, 'subsample': 0.5972361558099291, 'colsample_bytree': 0.33892309522220415, 'gamma': 0.8312198333316053, 'alpha': 0.4044175535532728, 'lambda': 0.10329563736661163, 'min_child_weight': 10, 'max_delta_step': 1, 'tree_method': 'approx', 'learning_rate': 0.021238672234888567, 'min_split_loss': 0.14505029343933024, 'max_bin': 334}. Best is trial 52 with value: 20035.14260164022.\n"
     ]
    },
    {
     "name": "stdout",
     "output_type": "stream",
     "text": [
      "[0]\tval-rmse:73906.49497\n",
      "[50]\tval-rmse:38454.38914\n",
      "[100]\tval-rmse:25555.70257\n",
      "[150]\tval-rmse:21870.04249\n",
      "[199]\tval-rmse:20687.30407\n"
     ]
    },
    {
     "name": "stderr",
     "output_type": "stream",
     "text": [
      "[I 2024-02-26 18:46:02,447] Trial 54 finished with value: 20687.304040709525 and parameters: {'eta': 0.14186091557753322, 'max_depth': 8, 'subsample': 0.5420493134196236, 'colsample_bytree': 0.2857252882639388, 'gamma': 0.952620157147815, 'alpha': 0.2431944233752494, 'lambda': 0.17015768452210078, 'min_child_weight': 10, 'max_delta_step': 0, 'tree_method': 'approx', 'learning_rate': 0.018728380762878492, 'min_split_loss': 0.03636484176417637, 'max_bin': 274}. Best is trial 52 with value: 20035.14260164022.\n"
     ]
    },
    {
     "name": "stdout",
     "output_type": "stream",
     "text": [
      "[0]\tval-rmse:74315.75516\n",
      "[50]\tval-rmse:46745.00399\n",
      "[100]\tval-rmse:33001.29319\n",
      "[150]\tval-rmse:26420.09883\n",
      "[199]\tval-rmse:23771.03991\n"
     ]
    },
    {
     "name": "stderr",
     "output_type": "stream",
     "text": [
      "[I 2024-02-26 18:46:02,970] Trial 55 finished with value: 23771.039966654018 and parameters: {'eta': 0.17693722203037382, 'max_depth': 8, 'subsample': 0.5404850830776711, 'colsample_bytree': 0.10798099522420623, 'gamma': 0.9622294925469642, 'alpha': 0.2606641730996597, 'lambda': 0.16360381384560313, 'min_child_weight': 9, 'max_delta_step': 0, 'tree_method': 'exact', 'learning_rate': 0.016668792814847726, 'min_split_loss': 0.1980407114186769, 'max_bin': 276}. Best is trial 52 with value: 20035.14260164022.\n"
     ]
    },
    {
     "name": "stdout",
     "output_type": "stream",
     "text": [
      "[0]\tval-rmse:74767.76191\n",
      "[50]\tval-rmse:74766.76470\n",
      "[100]\tval-rmse:74765.75587\n",
      "[150]\tval-rmse:74764.76292\n",
      "[199]\tval-rmse:74763.79651\n"
     ]
    },
    {
     "name": "stderr",
     "output_type": "stream",
     "text": [
      "[I 2024-02-26 18:46:03,311] Trial 56 finished with value: 74763.79615241931 and parameters: {'eta': 0.10366629738111019, 'max_depth': 7, 'subsample': 0.49788328695883394, 'colsample_bytree': 0.2914347938423454, 'gamma': 0.9318292775331362, 'alpha': 0.2384674872417505, 'lambda': 0.2158753011960678, 'min_child_weight': 10, 'max_delta_step': 2, 'tree_method': 'hist', 'learning_rate': 0.016789768317327095, 'min_split_loss': 0.247140597326329, 'max_bin': 240}. Best is trial 52 with value: 20035.14260164022.\n"
     ]
    },
    {
     "name": "stdout",
     "output_type": "stream",
     "text": [
      "[0]\tval-rmse:74767.77355\n",
      "[50]\tval-rmse:74767.28393\n",
      "[100]\tval-rmse:74766.79221\n",
      "[150]\tval-rmse:74766.29883\n",
      "[199]\tval-rmse:74765.81861\n"
     ]
    },
    {
     "name": "stderr",
     "output_type": "stream",
     "text": [
      "[I 2024-02-26 18:46:03,738] Trial 57 finished with value: 74765.81813420888 and parameters: {'eta': 0.16272785784437405, 'max_depth': 8, 'subsample': 0.6490334407307377, 'colsample_bytree': 0.18770152402878693, 'gamma': 0.9775603557143732, 'alpha': 0.3213013742246193, 'lambda': 0.11473515064115086, 'min_child_weight': 10, 'max_delta_step': 1, 'tree_method': 'approx', 'learning_rate': 0.011253427943634564, 'min_split_loss': 0.11964703724092611, 'max_bin': 321}. Best is trial 52 with value: 20035.14260164022.\n"
     ]
    },
    {
     "name": "stdout",
     "output_type": "stream",
     "text": [
      "[0]\tval-rmse:72963.45267\n",
      "[50]\tval-rmse:27062.90769\n",
      "[100]\tval-rmse:21445.65937\n",
      "[150]\tval-rmse:20737.15074\n",
      "[199]\tval-rmse:20624.48596\n"
     ]
    },
    {
     "name": "stderr",
     "output_type": "stream",
     "text": [
      "[I 2024-02-26 18:46:04,376] Trial 58 finished with value: 20624.48594783279 and parameters: {'eta': 0.11944327696635856, 'max_depth': 9, 'subsample': 0.7207768273048815, 'colsample_bytree': 0.2052602504390862, 'gamma': 0.793983537869086, 'alpha': 0.18953741819067024, 'lambda': 0.26027421378754867, 'min_child_weight': 9, 'max_delta_step': 0, 'tree_method': 'auto', 'learning_rate': 0.03662968194333303, 'min_split_loss': 0.0394402662972418, 'max_bin': 396}. Best is trial 52 with value: 20035.14260164022.\n"
     ]
    },
    {
     "name": "stdout",
     "output_type": "stream",
     "text": [
      "[0]\tval-rmse:72957.68809\n",
      "[50]\tval-rmse:26473.75358\n",
      "[100]\tval-rmse:21236.67427\n",
      "[150]\tval-rmse:20542.27137\n",
      "[185]\tval-rmse:20587.63109\n"
     ]
    },
    {
     "name": "stderr",
     "output_type": "stream",
     "text": [
      "[I 2024-02-26 18:46:04,933] Trial 59 finished with value: 20593.898510418956 and parameters: {'eta': 0.07389437792359711, 'max_depth': 9, 'subsample': 0.717873926577783, 'colsample_bytree': 0.19652401337877312, 'gamma': 0.8687219523008617, 'alpha': 0.17917657825694075, 'lambda': 0.2534483762890893, 'min_child_weight': 8, 'max_delta_step': 0, 'tree_method': 'auto', 'learning_rate': 0.037715451610605376, 'min_split_loss': 4.042415025190538e-06, 'max_bin': 398}. Best is trial 52 with value: 20035.14260164022.\n"
     ]
    },
    {
     "name": "stdout",
     "output_type": "stream",
     "text": [
      "[0]\tval-rmse:74767.76393\n",
      "[50]\tval-rmse:74766.78346\n",
      "[100]\tval-rmse:74765.78935\n",
      "[150]\tval-rmse:74764.79675\n",
      "[199]\tval-rmse:74763.82962\n"
     ]
    },
    {
     "name": "stderr",
     "output_type": "stream",
     "text": [
      "[I 2024-02-26 18:46:05,359] Trial 60 finished with value: 74763.8292963854 and parameters: {'eta': 0.04833977460217569, 'max_depth': 9, 'subsample': 0.7301361340215219, 'colsample_bytree': 0.18519377576788693, 'gamma': 0.8653529103641029, 'alpha': 0.15513215165684036, 'lambda': 0.2474641871106904, 'min_child_weight': 6, 'max_delta_step': 1, 'tree_method': 'auto', 'learning_rate': 0.038049466383320546, 'min_split_loss': 0.0025394166645497074, 'max_bin': 414}. Best is trial 52 with value: 20035.14260164022.\n"
     ]
    },
    {
     "name": "stdout",
     "output_type": "stream",
     "text": [
      "[0]\tval-rmse:73640.65566\n",
      "[50]\tval-rmse:34985.67871\n",
      "[100]\tval-rmse:23889.46327\n",
      "[150]\tval-rmse:21372.23009\n",
      "[199]\tval-rmse:20790.31690\n"
     ]
    },
    {
     "name": "stderr",
     "output_type": "stream",
     "text": [
      "[I 2024-02-26 18:46:05,950] Trial 61 finished with value: 20790.31690746878 and parameters: {'eta': 0.06506658663521557, 'max_depth': 9, 'subsample': 0.6975859975297592, 'colsample_bytree': 0.21621299875372013, 'gamma': 0.7852655154489767, 'alpha': 0.18745017795211277, 'lambda': 0.06985750049225713, 'min_child_weight': 9, 'max_delta_step': 0, 'tree_method': 'auto', 'learning_rate': 0.022659825109315947, 'min_split_loss': 0.04200131243285714, 'max_bin': 366}. Best is trial 52 with value: 20035.14260164022.\n"
     ]
    },
    {
     "name": "stdout",
     "output_type": "stream",
     "text": [
      "[0]\tval-rmse:72788.31833\n",
      "[50]\tval-rmse:26672.98932\n",
      "[100]\tval-rmse:21486.98778\n",
      "[150]\tval-rmse:21158.66845\n",
      "[199]\tval-rmse:20977.44895\n"
     ]
    },
    {
     "name": "stderr",
     "output_type": "stream",
     "text": [
      "[I 2024-02-26 18:46:06,433] Trial 62 finished with value: 20977.44894401838 and parameters: {'eta': 0.12131137355989383, 'max_depth': 7, 'subsample': 0.7556261575574827, 'colsample_bytree': 0.2768772541947128, 'gamma': 0.9322801871042898, 'alpha': 0.23493733270411557, 'lambda': 0.182482726887851, 'min_child_weight': 8, 'max_delta_step': 0, 'tree_method': 'auto', 'learning_rate': 0.035282961031657054, 'min_split_loss': 0.07825865032892786, 'max_bin': 408}. Best is trial 52 with value: 20035.14260164022.\n"
     ]
    },
    {
     "name": "stdout",
     "output_type": "stream",
     "text": [
      "[0]\tval-rmse:72973.39036\n",
      "[50]\tval-rmse:29268.49665\n",
      "[100]\tval-rmse:21595.33788\n",
      "[150]\tval-rmse:20624.00640\n",
      "[199]\tval-rmse:20349.76597\n"
     ]
    },
    {
     "name": "stderr",
     "output_type": "stream",
     "text": [
      "[I 2024-02-26 18:46:07,017] Trial 63 finished with value: 20349.765959965258 and parameters: {'eta': 0.09440638269303399, 'max_depth': 9, 'subsample': 0.5938947132569058, 'colsample_bytree': 0.33527893139834064, 'gamma': 0.9986854894041053, 'alpha': 0.27024669906774557, 'lambda': 0.1294861957941737, 'min_child_weight': 9, 'max_delta_step': 0, 'tree_method': 'auto', 'learning_rate': 0.028492128565680525, 'min_split_loss': 0.13909431885006193, 'max_bin': 448}. Best is trial 52 with value: 20035.14260164022.\n"
     ]
    },
    {
     "name": "stdout",
     "output_type": "stream",
     "text": [
      "[0]\tval-rmse:74767.76212\n",
      "[50]\tval-rmse:74766.74162\n",
      "[100]\tval-rmse:74765.71472\n",
      "[150]\tval-rmse:74764.69566\n",
      "[199]\tval-rmse:74763.70400\n"
     ]
    },
    {
     "name": "stderr",
     "output_type": "stream",
     "text": [
      "[I 2024-02-26 18:46:07,426] Trial 64 finished with value: 74763.70365003451 and parameters: {'eta': 0.08020728110276003, 'max_depth': 9, 'subsample': 0.591551895354123, 'colsample_bytree': 0.34807120275700865, 'gamma': 0.8442220944531855, 'alpha': 0.2814611868093428, 'lambda': 0.010284499991979196, 'min_child_weight': 8, 'max_delta_step': 1, 'tree_method': 'auto', 'learning_rate': 0.02945153688729902, 'min_split_loss': 0.14328724909689622, 'max_bin': 453}. Best is trial 52 with value: 20035.14260164022.\n"
     ]
    },
    {
     "name": "stdout",
     "output_type": "stream",
     "text": [
      "[0]\tval-rmse:72198.03152\n",
      "[50]\tval-rmse:22214.23451\n",
      "[100]\tval-rmse:20221.78816\n",
      "[110]\tval-rmse:20275.77508\n"
     ]
    },
    {
     "name": "stderr",
     "output_type": "stream",
     "text": [
      "[I 2024-02-26 18:46:07,767] Trial 65 finished with value: 20270.04958538899 and parameters: {'eta': 0.05619240772489109, 'max_depth': 9, 'subsample': 0.6651656607868002, 'colsample_bytree': 0.21619562601864728, 'gamma': 0.9926754761187748, 'alpha': 0.13887760509838673, 'lambda': 0.1252024398933782, 'min_child_weight': 9, 'max_delta_step': 0, 'tree_method': 'auto', 'learning_rate': 0.052582525047230405, 'min_split_loss': 0.18103566186874948, 'max_bin': 437}. Best is trial 52 with value: 20035.14260164022.\n"
     ]
    },
    {
     "name": "stdout",
     "output_type": "stream",
     "text": [
      "[0]\tval-rmse:73358.79476\n",
      "[50]\tval-rmse:31472.58906\n",
      "[100]\tval-rmse:22297.12597\n",
      "[150]\tval-rmse:20941.40218\n",
      "[199]\tval-rmse:20587.19537\n"
     ]
    },
    {
     "name": "stderr",
     "output_type": "stream",
     "text": [
      "[I 2024-02-26 18:46:08,421] Trial 66 finished with value: 20587.195391380807 and parameters: {'eta': 0.03519057724419291, 'max_depth': 9, 'subsample': 0.6570487618984103, 'colsample_bytree': 0.3191955496907492, 'gamma': 0.9913474833955763, 'alpha': 0.13640174527319174, 'lambda': 0.13366651788199702, 'min_child_weight': 7, 'max_delta_step': 0, 'tree_method': 'auto', 'learning_rate': 0.026293983063771842, 'min_split_loss': 0.17074098428062595, 'max_bin': 507}. Best is trial 52 with value: 20035.14260164022.\n"
     ]
    },
    {
     "name": "stdout",
     "output_type": "stream",
     "text": [
      "[0]\tval-rmse:74767.76211\n",
      "[50]\tval-rmse:74766.74969\n",
      "[100]\tval-rmse:74765.73075\n",
      "[150]\tval-rmse:74764.72303\n",
      "[199]\tval-rmse:74763.73708\n"
     ]
    },
    {
     "name": "stderr",
     "output_type": "stream",
     "text": [
      "[I 2024-02-26 18:46:08,832] Trial 67 finished with value: 74763.73670214934 and parameters: {'eta': 0.04473932650142999, 'max_depth': 8, 'subsample': 0.6490721460879336, 'colsample_bytree': 0.314528565875656, 'gamma': 0.9972043215694706, 'alpha': 0.12125107116509756, 'lambda': 0.13564287053336072, 'min_child_weight': 7, 'max_delta_step': 1, 'tree_method': 'auto', 'learning_rate': 0.02588889705523165, 'min_split_loss': 0.32687494213883944, 'max_bin': 499}. Best is trial 52 with value: 20035.14260164022.\n"
     ]
    },
    {
     "name": "stdout",
     "output_type": "stream",
     "text": [
      "[0]\tval-rmse:74767.75360\n",
      "[50]\tval-rmse:74766.33055\n",
      "[100]\tval-rmse:74764.87716\n",
      "[150]\tval-rmse:74763.43631\n",
      "[199]\tval-rmse:74762.03996\n"
     ]
    },
    {
     "name": "stderr",
     "output_type": "stream",
     "text": [
      "[I 2024-02-26 18:46:09,210] Trial 68 finished with value: 74762.03936313796 and parameters: {'eta': 0.030705570490470374, 'max_depth': 10, 'subsample': 0.6192026338747629, 'colsample_bytree': 0.141582884832067, 'gamma': 0.9090660226171126, 'alpha': 0.14502325643779812, 'lambda': 0.07898505488592325, 'min_child_weight': 9, 'max_delta_step': 1, 'tree_method': 'auto', 'learning_rate': 0.05221279382647396, 'min_split_loss': 0.20801361305662072, 'max_bin': 457}. Best is trial 52 with value: 20035.14260164022.\n"
     ]
    },
    {
     "name": "stdout",
     "output_type": "stream",
     "text": [
      "[0]\tval-rmse:74767.74960\n",
      "[50]\tval-rmse:74765.75222\n",
      "[100]\tval-rmse:74763.72622\n",
      "[150]\tval-rmse:74761.73424\n",
      "[199]\tval-rmse:74759.78845\n"
     ]
    },
    {
     "name": "stderr",
     "output_type": "stream",
     "text": [
      "[I 2024-02-26 18:46:09,590] Trial 69 finished with value: 74759.78798007243 and parameters: {'eta': 0.0583567917255791, 'max_depth': 9, 'subsample': 0.5842570705725076, 'colsample_bytree': 0.24561378182338905, 'gamma': 0.8918792238505897, 'alpha': 0.3209248230131476, 'lambda': 0.03935653965251659, 'min_child_weight': 7, 'max_delta_step': 4, 'tree_method': 'auto', 'learning_rate': 0.015092624814812565, 'min_split_loss': 0.2555894151577317, 'max_bin': 437}. Best is trial 52 with value: 20035.14260164022.\n"
     ]
    },
    {
     "name": "stdout",
     "output_type": "stream",
     "text": [
      "[0]\tval-rmse:74766.62810\n",
      "[50]\tval-rmse:74701.29693\n",
      "[100]\tval-rmse:74635.55550\n",
      "[150]\tval-rmse:74570.46527\n",
      "[199]\tval-rmse:74506.75923\n"
     ]
    },
    {
     "name": "stderr",
     "output_type": "stream",
     "text": [
      "[I 2024-02-26 18:46:09,959] Trial 70 finished with value: 74506.75873777264 and parameters: {'eta': 0.02612351733469946, 'max_depth': 8, 'subsample': 0.6772268011782636, 'colsample_bytree': 0.3599947115300643, 'gamma': 0.9979922504873676, 'alpha': 0.22268765351461145, 'lambda': 0.14111988587004698, 'min_child_weight': 9, 'max_delta_step': 10, 'tree_method': 'auto', 'learning_rate': 0.19950722809386653, 'min_split_loss': 0.1501992254644221, 'max_bin': 510}. Best is trial 52 with value: 20035.14260164022.\n"
     ]
    },
    {
     "name": "stdout",
     "output_type": "stream",
     "text": [
      "[0]\tval-rmse:72783.93257\n",
      "[50]\tval-rmse:27571.87262\n",
      "[100]\tval-rmse:22251.45110\n",
      "[150]\tval-rmse:21503.83167\n",
      "[199]\tval-rmse:21300.86415\n"
     ]
    },
    {
     "name": "stderr",
     "output_type": "stream",
     "text": [
      "[I 2024-02-26 18:46:10,601] Trial 71 finished with value: 21300.864099850638 and parameters: {'eta': 0.09481526094955826, 'max_depth': 9, 'subsample': 0.7830451320851384, 'colsample_bytree': 0.39607918713427065, 'gamma': 0.9518691836786404, 'alpha': 0.1784163200580497, 'lambda': 0.1954943839770027, 'min_child_weight': 8, 'max_delta_step': 0, 'tree_method': 'auto', 'learning_rate': 0.03250039345234906, 'min_split_loss': 0.17526001248658304, 'max_bin': 485}. Best is trial 52 with value: 20035.14260164022.\n"
     ]
    },
    {
     "name": "stdout",
     "output_type": "stream",
     "text": [
      "[0]\tval-rmse:72734.92276\n",
      "[50]\tval-rmse:26069.19137\n",
      "[100]\tval-rmse:21571.02892\n",
      "[150]\tval-rmse:20664.96532\n",
      "[197]\tval-rmse:20609.89697\n"
     ]
    },
    {
     "name": "stderr",
     "output_type": "stream",
     "text": [
      "[I 2024-02-26 18:46:11,156] Trial 72 finished with value: 20607.762453249125 and parameters: {'eta': 0.07701336208655069, 'max_depth': 9, 'subsample': 0.6548442477162958, 'colsample_bytree': 0.15719586940726843, 'gamma': 0.876394348984528, 'alpha': 0.1079869557052636, 'lambda': 0.3206364290962629, 'min_child_weight': 8, 'max_delta_step': 0, 'tree_method': 'auto', 'learning_rate': 0.04222051553607046, 'min_split_loss': 0.10291933330547176, 'max_bin': 435}. Best is trial 52 with value: 20035.14260164022.\n"
     ]
    },
    {
     "name": "stdout",
     "output_type": "stream",
     "text": [
      "[0]\tval-rmse:73368.60055\n",
      "[50]\tval-rmse:33870.30701\n",
      "[100]\tval-rmse:23103.50267\n",
      "[150]\tval-rmse:20961.80396\n",
      "[199]\tval-rmse:20336.11376\n"
     ]
    },
    {
     "name": "stderr",
     "output_type": "stream",
     "text": [
      "[I 2024-02-26 18:46:11,795] Trial 73 finished with value: 20336.113718057404 and parameters: {'eta': 0.0594173696787333, 'max_depth': 10, 'subsample': 0.554967039199418, 'colsample_bytree': 0.3305037294720885, 'gamma': 0.9242529378403853, 'alpha': 0.20779188450306818, 'lambda': 0.09515755530309275, 'min_child_weight': 9, 'max_delta_step': 0, 'tree_method': 'auto', 'learning_rate': 0.022501847199142538, 'min_split_loss': 0.10608483577841468, 'max_bin': 376}. Best is trial 52 with value: 20035.14260164022.\n"
     ]
    },
    {
     "name": "stdout",
     "output_type": "stream",
     "text": [
      "[0]\tval-rmse:74086.13357\n",
      "[50]\tval-rmse:50162.92663\n",
      "[100]\tval-rmse:35667.08462\n",
      "[150]\tval-rmse:28014.76469\n",
      "[199]\tval-rmse:23956.87646\n"
     ]
    },
    {
     "name": "stderr",
     "output_type": "stream",
     "text": [
      "[I 2024-02-26 18:46:12,438] Trial 74 finished with value: 23956.87646267387 and parameters: {'eta': 0.058453237226754134, 'max_depth': 10, 'subsample': 0.5689315037385883, 'colsample_bytree': 0.32668209813836946, 'gamma': 0.9301043670045559, 'alpha': 0.2796897032672203, 'lambda': 0.08163364941639092, 'min_child_weight': 9, 'max_delta_step': 0, 'tree_method': 'auto', 'learning_rate': 0.010310382007711042, 'min_split_loss': 0.12139112391353932, 'max_bin': 366}. Best is trial 52 with value: 20035.14260164022.\n"
     ]
    },
    {
     "name": "stdout",
     "output_type": "stream",
     "text": [
      "[0]\tval-rmse:73116.85229\n",
      "[50]\tval-rmse:31546.54036\n",
      "[100]\tval-rmse:22050.81622\n",
      "[150]\tval-rmse:20520.19530\n",
      "[199]\tval-rmse:20146.37027\n"
     ]
    },
    {
     "name": "stderr",
     "output_type": "stream",
     "text": [
      "[I 2024-02-26 18:46:13,019] Trial 75 finished with value: 20146.370290137223 and parameters: {'eta': 0.010364325076890037, 'max_depth': 10, 'subsample': 0.4639192758204998, 'colsample_bytree': 0.2902880246062936, 'gamma': 0.9741252400310668, 'alpha': 0.21213870787279804, 'lambda': 0.03683996574280682, 'min_child_weight': 9, 'max_delta_step': 0, 'tree_method': 'auto', 'learning_rate': 0.02568774657050179, 'min_split_loss': 0.18407572576496264, 'max_bin': 372}. Best is trial 52 with value: 20035.14260164022.\n"
     ]
    },
    {
     "name": "stdout",
     "output_type": "stream",
     "text": [
      "[0]\tval-rmse:74767.77352\n",
      "[50]\tval-rmse:74767.28252\n",
      "[100]\tval-rmse:74766.78219\n",
      "[150]\tval-rmse:74766.29025\n",
      "[199]\tval-rmse:74765.81106\n"
     ]
    },
    {
     "name": "stderr",
     "output_type": "stream",
     "text": [
      "[I 2024-02-26 18:46:13,374] Trial 76 finished with value: 74765.81092971422 and parameters: {'eta': 0.018955775635840916, 'max_depth': 10, 'subsample': 0.45277307608411066, 'colsample_bytree': 0.25335066775303644, 'gamma': 0.9197363462175047, 'alpha': 0.37434280106043727, 'lambda': 0.0477759581300093, 'min_child_weight': 9, 'max_delta_step': 1, 'tree_method': 'auto', 'learning_rate': 0.021474325106126686, 'min_split_loss': 0.2202087060176291, 'max_bin': 377}. Best is trial 52 with value: 20035.14260164022.\n"
     ]
    },
    {
     "name": "stdout",
     "output_type": "stream",
     "text": [
      "[0]\tval-rmse:74767.76141\n",
      "[50]\tval-rmse:74766.76755\n",
      "[100]\tval-rmse:74765.76260\n",
      "[150]\tval-rmse:74764.77031\n",
      "[199]\tval-rmse:74763.80959\n"
     ]
    },
    {
     "name": "stderr",
     "output_type": "stream",
     "text": [
      "[I 2024-02-26 18:46:13,734] Trial 77 finished with value: 74763.80920240363 and parameters: {'eta': 0.052436603628911164, 'max_depth': 10, 'subsample': 0.4805787584800261, 'colsample_bytree': 0.29590180714502556, 'gamma': 0.9706276096922203, 'alpha': 0.08806521002256737, 'lambda': 0.005615994761051485, 'min_child_weight': 9, 'max_delta_step': 2, 'tree_method': 'auto', 'learning_rate': 0.01664757485185213, 'min_split_loss': 0.09307792863236083, 'max_bin': 317}. Best is trial 52 with value: 20035.14260164022.\n"
     ]
    },
    {
     "name": "stdout",
     "output_type": "stream",
     "text": [
      "[0]\tval-rmse:74767.64946\n",
      "[50]\tval-rmse:74760.51494\n",
      "[100]\tval-rmse:74753.13678\n",
      "[150]\tval-rmse:74745.71114\n",
      "[199]\tval-rmse:74738.52183\n"
     ]
    },
    {
     "name": "stderr",
     "output_type": "stream",
     "text": [
      "[I 2024-02-26 18:46:14,077] Trial 78 finished with value: 74738.52120704575 and parameters: {'eta': 0.09966612676965514, 'max_depth': 10, 'subsample': 0.5541847864600244, 'colsample_bytree': 0.2305406737796009, 'gamma': 0.8161700056658571, 'alpha': 0.21015487905572125, 'lambda': 0.10454920588097372, 'min_child_weight': 10, 'max_delta_step': 9, 'tree_method': 'exact', 'learning_rate': 0.02682541555425664, 'min_split_loss': 0.2739969790696528, 'max_bin': 295}. Best is trial 52 with value: 20035.14260164022.\n"
     ]
    },
    {
     "name": "stdout",
     "output_type": "stream",
     "text": [
      "[0]\tval-rmse:68525.06343\n",
      "[50]\tval-rmse:21790.23362\n",
      "[71]\tval-rmse:21833.40208\n"
     ]
    },
    {
     "name": "stderr",
     "output_type": "stream",
     "text": [
      "[I 2024-02-26 18:46:14,320] Trial 79 finished with value: 21833.401983740165 and parameters: {'eta': 0.019076440700391287, 'max_depth': 10, 'subsample': 0.6042211538652059, 'colsample_bytree': 0.3732186816376744, 'gamma': 0.7340994638969207, 'alpha': 0.30443037660071526, 'lambda': 0.03027483387357892, 'min_child_weight': 9, 'max_delta_step': 0, 'tree_method': 'auto', 'learning_rate': 0.10021837115144301, 'min_split_loss': 0.12588544951582697, 'max_bin': 348}. Best is trial 52 with value: 20035.14260164022.\n"
     ]
    },
    {
     "name": "stdout",
     "output_type": "stream",
     "text": [
      "[0]\tval-rmse:74767.76149\n",
      "[50]\tval-rmse:74766.76725\n",
      "[100]\tval-rmse:74765.75378\n",
      "[150]\tval-rmse:74764.76046\n",
      "[199]\tval-rmse:74763.78140\n"
     ]
    },
    {
     "name": "stderr",
     "output_type": "stream",
     "text": [
      "[I 2024-02-26 18:46:14,746] Trial 80 finished with value: 74763.781030061 and parameters: {'eta': 0.12865514277812307, 'max_depth': 8, 'subsample': 0.5137873831327444, 'colsample_bytree': 0.27002873275857625, 'gamma': 0.9506517427830079, 'alpha': 0.25103355598282334, 'lambda': 0.06477726089723376, 'min_child_weight': 4, 'max_delta_step': 1, 'tree_method': 'auto', 'learning_rate': 0.03311763696649151, 'min_split_loss': 0.18724163737669963, 'max_bin': 425}. Best is trial 52 with value: 20035.14260164022.\n"
     ]
    },
    {
     "name": "stdout",
     "output_type": "stream",
     "text": [
      "[0]\tval-rmse:73135.07062\n",
      "[50]\tval-rmse:32696.38452\n",
      "[100]\tval-rmse:22782.38571\n",
      "[150]\tval-rmse:20912.62079\n",
      "[199]\tval-rmse:20405.80807\n"
     ]
    },
    {
     "name": "stderr",
     "output_type": "stream",
     "text": [
      "[I 2024-02-26 18:46:15,343] Trial 81 finished with value: 20405.80803869627 and parameters: {'eta': 0.028729223126641557, 'max_depth': 9, 'subsample': 0.634997677100605, 'colsample_bytree': 0.31387621353969947, 'gamma': 0.9989508575647663, 'alpha': 0.13811502596573294, 'lambda': 0.1268010978906481, 'min_child_weight': 10, 'max_delta_step': 0, 'tree_method': 'auto', 'learning_rate': 0.02445820128415415, 'min_split_loss': 0.06551365991593634, 'max_bin': 328}. Best is trial 52 with value: 20035.14260164022.\n"
     ]
    },
    {
     "name": "stdout",
     "output_type": "stream",
     "text": [
      "[0]\tval-rmse:73214.37584\n",
      "[50]\tval-rmse:33683.29266\n",
      "[100]\tval-rmse:23349.91717\n",
      "[150]\tval-rmse:21107.00489\n",
      "[199]\tval-rmse:20528.43786\n"
     ]
    },
    {
     "name": "stderr",
     "output_type": "stream",
     "text": [
      "[I 2024-02-26 18:46:15,918] Trial 82 finished with value: 20528.437903537524 and parameters: {'eta': 0.01075011190094333, 'max_depth': 9, 'subsample': 0.6292505066140117, 'colsample_bytree': 0.2987684291577947, 'gamma': 0.8873287531823643, 'alpha': 0.12402906078818444, 'lambda': 0.12053470865104637, 'min_child_weight': 10, 'max_delta_step': 0, 'tree_method': 'auto', 'learning_rate': 0.023273571401886184, 'min_split_loss': 0.0813705496741333, 'max_bin': 333}. Best is trial 52 with value: 20035.14260164022.\n"
     ]
    },
    {
     "name": "stdout",
     "output_type": "stream",
     "text": [
      "[0]\tval-rmse:73699.01341\n",
      "[50]\tval-rmse:38804.65014\n",
      "[100]\tval-rmse:25948.31906\n",
      "[150]\tval-rmse:22136.76874\n",
      "[199]\tval-rmse:20862.70226\n"
     ]
    },
    {
     "name": "stderr",
     "output_type": "stream",
     "text": [
      "[I 2024-02-26 18:46:16,487] Trial 83 finished with value: 20862.702261373797 and parameters: {'eta': 0.026404392020003428, 'max_depth': 9, 'subsample': 0.5574378602179088, 'colsample_bytree': 0.4090364644609702, 'gamma': 0.9732377976486302, 'alpha': 0.21243570930102992, 'lambda': 0.15279018083699428, 'min_child_weight': 10, 'max_delta_step': 0, 'tree_method': 'auto', 'learning_rate': 0.017634648441129698, 'min_split_loss': 0.05571553585601009, 'max_bin': 305}. Best is trial 52 with value: 20035.14260164022.\n"
     ]
    },
    {
     "name": "stdout",
     "output_type": "stream",
     "text": [
      "[0]\tval-rmse:74767.75185\n",
      "[50]\tval-rmse:74766.23110\n",
      "[100]\tval-rmse:74764.69855\n",
      "[150]\tval-rmse:74763.18923\n",
      "[199]\tval-rmse:74761.70284\n"
     ]
    },
    {
     "name": "stderr",
     "output_type": "stream",
     "text": [
      "[I 2024-02-26 18:46:16,875] Trial 84 finished with value: 74761.70320237718 and parameters: {'eta': 0.042057921236515555, 'max_depth': 10, 'subsample': 0.626952451056511, 'colsample_bytree': 0.34304063829778125, 'gamma': 0.9412755186494806, 'alpha': 0.16811978574348468, 'lambda': 0.0975920432583641, 'min_child_weight': 10, 'max_delta_step': 1, 'tree_method': 'auto', 'learning_rate': 0.040202245886411865, 'min_split_loss': 0.15973449823875963, 'max_bin': 374}. Best is trial 52 with value: 20035.14260164022.\n"
     ]
    },
    {
     "name": "stdout",
     "output_type": "stream",
     "text": [
      "[0]\tval-rmse:73339.02134\n",
      "[50]\tval-rmse:29054.31591\n",
      "[100]\tval-rmse:21595.11655\n",
      "[150]\tval-rmse:20491.34874\n",
      "[199]\tval-rmse:20201.90073\n"
     ]
    },
    {
     "name": "stderr",
     "output_type": "stream",
     "text": [
      "[I 2024-02-26 18:46:17,380] Trial 85 finished with value: 20201.90074285066 and parameters: {'eta': 0.037320381064526086, 'max_depth': 8, 'subsample': 0.6942581853706863, 'colsample_bytree': 0.2224404281269135, 'gamma': 0.9004344646793381, 'alpha': 0.15486317549694523, 'lambda': 0.20173817731745952, 'min_child_weight': 10, 'max_delta_step': 0, 'tree_method': 'auto', 'learning_rate': 0.03113734103332005, 'min_split_loss': 0.1094294116654092, 'max_bin': 253}. Best is trial 52 with value: 20035.14260164022.\n"
     ]
    },
    {
     "name": "stdout",
     "output_type": "stream",
     "text": [
      "[0]\tval-rmse:72405.24463\n",
      "[50]\tval-rmse:24097.27877\n",
      "[100]\tval-rmse:21362.75749\n",
      "[148]\tval-rmse:21157.72073\n"
     ]
    },
    {
     "name": "stderr",
     "output_type": "stream",
     "text": [
      "[I 2024-02-26 18:46:17,780] Trial 86 finished with value: 21125.48328831978 and parameters: {'eta': 0.03887948779121053, 'max_depth': 8, 'subsample': 0.6859313670530186, 'colsample_bytree': 0.2177020940640742, 'gamma': 0.905491592725619, 'alpha': 0.08400784039241346, 'lambda': 0.17953764838279151, 'min_child_weight': 9, 'max_delta_step': 0, 'tree_method': 'auto', 'learning_rate': 0.048665324166452306, 'min_split_loss': 0.13442395984327193, 'max_bin': 252}. Best is trial 52 with value: 20035.14260164022.\n"
     ]
    },
    {
     "name": "stdout",
     "output_type": "stream",
     "text": [
      "[0]\tval-rmse:74767.61243\n",
      "[50]\tval-rmse:74757.21507\n",
      "[100]\tval-rmse:74746.64393\n",
      "[150]\tval-rmse:74736.07477\n",
      "[199]\tval-rmse:74725.85891\n"
     ]
    },
    {
     "name": "stderr",
     "output_type": "stream",
     "text": [
      "[I 2024-02-26 18:46:18,133] Trial 87 finished with value: 74725.85834113615 and parameters: {'eta': 0.01809342108295624, 'max_depth': 9, 'subsample': 0.47869976007136017, 'colsample_bytree': 0.1597071863465814, 'gamma': 0.8599482914065267, 'alpha': 0.2046270296045985, 'lambda': 0.21526921001952742, 'min_child_weight': 9, 'max_delta_step': 6, 'tree_method': 'approx', 'learning_rate': 0.05796025811611631, 'min_split_loss': 0.22760412463789942, 'max_bin': 228}. Best is trial 52 with value: 20035.14260164022.\n"
     ]
    },
    {
     "name": "stdout",
     "output_type": "stream",
     "text": [
      "[0]\tval-rmse:74767.76479\n",
      "[50]\tval-rmse:74766.78409\n",
      "[100]\tval-rmse:74765.78786\n",
      "[150]\tval-rmse:74764.81437\n",
      "[199]\tval-rmse:74763.86848\n"
     ]
    },
    {
     "name": "stderr",
     "output_type": "stream",
     "text": [
      "[I 2024-02-26 18:46:18,497] Trial 88 finished with value: 74763.86793313247 and parameters: {'eta': 0.06391475165653619, 'max_depth': 8, 'subsample': 0.41841373108387936, 'colsample_bytree': 0.2452520911481546, 'gamma': 0.997446894289894, 'alpha': 0.030133854743828875, 'lambda': 0.08719077455980648, 'min_child_weight': 10, 'max_delta_step': 1, 'tree_method': 'auto', 'learning_rate': 0.03097769250738626, 'min_split_loss': 0.11085478598944484, 'max_bin': 279}. Best is trial 52 with value: 20035.14260164022.\n"
     ]
    },
    {
     "name": "stdout",
     "output_type": "stream",
     "text": [
      "[0]\tval-rmse:74076.30096\n",
      "[50]\tval-rmse:45021.79856\n",
      "[100]\tval-rmse:30841.32165\n",
      "[150]\tval-rmse:24719.37201\n",
      "[199]\tval-rmse:22271.61198\n"
     ]
    },
    {
     "name": "stderr",
     "output_type": "stream",
     "text": [
      "[I 2024-02-26 18:46:19,086] Trial 89 finished with value: 22271.611952184863 and parameters: {'eta': 0.035576038845141086, 'max_depth': 9, 'subsample': 0.5377576073620679, 'colsample_bytree': 0.27479762170437244, 'gamma': 0.970730358671743, 'alpha': 0.13882466463458726, 'lambda': 0.05134704412596111, 'min_child_weight': 10, 'max_delta_step': 0, 'tree_method': 'exact', 'learning_rate': 0.014156033566255437, 'min_split_loss': 0.18407307818352048, 'max_bin': 258}. Best is trial 52 with value: 20035.14260164022.\n"
     ]
    },
    {
     "name": "stdout",
     "output_type": "stream",
     "text": [
      "[0]\tval-rmse:66637.35558\n",
      "[50]\tval-rmse:21651.56045\n",
      "[58]\tval-rmse:21560.03678\n"
     ]
    },
    {
     "name": "stderr",
     "output_type": "stream",
     "text": [
      "[I 2024-02-26 18:46:19,281] Trial 90 finished with value: 21570.846661554533 and parameters: {'eta': 0.08469132767587115, 'max_depth': 8, 'subsample': 0.5804596978894822, 'colsample_bytree': 0.3276830081977188, 'gamma': 0.9176260506705396, 'alpha': 0.10383862229950143, 'lambda': 0.12783019365706833, 'min_child_weight': 9, 'max_delta_step': 0, 'tree_method': 'approx', 'learning_rate': 0.13290114876403858, 'min_split_loss': 0.06389219518122687, 'max_bin': 285}. Best is trial 52 with value: 20035.14260164022.\n"
     ]
    },
    {
     "name": "stdout",
     "output_type": "stream",
     "text": [
      "[0]\tval-rmse:73267.51529\n",
      "[50]\tval-rmse:34203.74971\n",
      "[100]\tval-rmse:23352.31143\n",
      "[150]\tval-rmse:21056.95178\n",
      "[199]\tval-rmse:20320.80280\n"
     ]
    },
    {
     "name": "stderr",
     "output_type": "stream",
     "text": [
      "[I 2024-02-26 18:46:19,900] Trial 91 finished with value: 20320.802829077194 and parameters: {'eta': 0.05194869180038081, 'max_depth': 10, 'subsample': 0.6365831244500786, 'colsample_bytree': 0.3541872127875846, 'gamma': 0.8375944695292654, 'alpha': 0.16150456889553944, 'lambda': 0.1594797284885928, 'min_child_weight': 10, 'max_delta_step': 0, 'tree_method': 'auto', 'learning_rate': 0.022514220888390325, 'min_split_loss': 0.10305277826920564, 'max_bin': 337}. Best is trial 52 with value: 20035.14260164022.\n"
     ]
    },
    {
     "name": "stdout",
     "output_type": "stream",
     "text": [
      "[0]\tval-rmse:70304.56667\n",
      "[50]\tval-rmse:21869.36575\n",
      "[100]\tval-rmse:20948.22420\n",
      "[110]\tval-rmse:21094.29829\n"
     ]
    },
    {
     "name": "stderr",
     "output_type": "stream",
     "text": [
      "[I 2024-02-26 18:46:20,256] Trial 92 finished with value: 21105.89998663735 and parameters: {'eta': 0.054728130849168326, 'max_depth': 10, 'subsample': 0.632828943805376, 'colsample_bytree': 0.37238428432418663, 'gamma': 0.8478274902644087, 'alpha': 0.15731156007496924, 'lambda': 0.16017724961253435, 'min_child_weight': 10, 'max_delta_step': 0, 'tree_method': 'auto', 'learning_rate': 0.06714672425874292, 'min_split_loss': 0.100233521038648, 'max_bin': 356}. Best is trial 52 with value: 20035.14260164022.\n"
     ]
    },
    {
     "name": "stdout",
     "output_type": "stream",
     "text": [
      "[0]\tval-rmse:73129.97919\n",
      "[50]\tval-rmse:30785.77600\n",
      "[100]\tval-rmse:22019.88408\n",
      "[150]\tval-rmse:20595.47206\n",
      "[199]\tval-rmse:20336.89063\n"
     ]
    },
    {
     "name": "stderr",
     "output_type": "stream",
     "text": [
      "[I 2024-02-26 18:46:20,915] Trial 93 finished with value: 20336.890679181117 and parameters: {'eta': 0.07085264862635976, 'max_depth': 10, 'subsample': 0.6029323623414189, 'colsample_bytree': 0.30034524468350304, 'gamma': 0.9430812495482007, 'alpha': 0.07126707779805866, 'lambda': 0.20356446305835665, 'min_child_weight': 10, 'max_delta_step': 0, 'tree_method': 'auto', 'learning_rate': 0.027048999799902048, 'min_split_loss': 0.141421753818693, 'max_bin': 328}. Best is trial 52 with value: 20035.14260164022.\n"
     ]
    },
    {
     "name": "stdout",
     "output_type": "stream",
     "text": [
      "[0]\tval-rmse:74767.76254\n",
      "[50]\tval-rmse:74766.76779\n",
      "[100]\tval-rmse:74765.76636\n",
      "[150]\tval-rmse:74764.77179\n",
      "[199]\tval-rmse:74763.80979\n"
     ]
    },
    {
     "name": "stderr",
     "output_type": "stream",
     "text": [
      "[I 2024-02-26 18:46:21,310] Trial 94 finished with value: 74763.80948095248 and parameters: {'eta': 0.06814549666019766, 'max_depth': 10, 'subsample': 0.6094827933695182, 'colsample_bytree': 0.2320760738031335, 'gamma': 0.76657593991924, 'alpha': 0.07936683085371997, 'lambda': 0.20677042831102502, 'min_child_weight': 9, 'max_delta_step': 1, 'tree_method': 'auto', 'learning_rate': 0.028422169166214865, 'min_split_loss': 0.15384133572922418, 'max_bin': 306}. Best is trial 52 with value: 20035.14260164022.\n"
     ]
    },
    {
     "name": "stdout",
     "output_type": "stream",
     "text": [
      "[0]\tval-rmse:73549.01684\n",
      "[50]\tval-rmse:37698.62717\n",
      "[100]\tval-rmse:25118.90799\n",
      "[150]\tval-rmse:22067.46388\n",
      "[199]\tval-rmse:20831.89366\n"
     ]
    },
    {
     "name": "stderr",
     "output_type": "stream",
     "text": [
      "[I 2024-02-26 18:46:21,959] Trial 95 finished with value: 20831.893740451666 and parameters: {'eta': 0.051413410828823176, 'max_depth': 11, 'subsample': 0.5226549639583927, 'colsample_bytree': 0.297744244267543, 'gamma': 0.8881710350881763, 'alpha': 0.028385205312199846, 'lambda': 0.19095982885748455, 'min_child_weight': 10, 'max_delta_step': 0, 'tree_method': 'auto', 'learning_rate': 0.01973725209133974, 'min_split_loss': 0.20926601223554214, 'max_bin': 339}. Best is trial 52 with value: 20035.14260164022.\n"
     ]
    },
    {
     "name": "stdout",
     "output_type": "stream",
     "text": [
      "[0]\tval-rmse:74767.66719\n",
      "[50]\tval-rmse:74762.08187\n",
      "[100]\tval-rmse:74756.41328\n",
      "[150]\tval-rmse:74750.79459\n",
      "[199]\tval-rmse:74745.27502\n"
     ]
    },
    {
     "name": "stderr",
     "output_type": "stream",
     "text": [
      "[I 2024-02-26 18:46:22,392] Trial 96 finished with value: 74745.27449146226 and parameters: {'eta': 0.08500424625929699, 'max_depth': 10, 'subsample': 0.6980266925733187, 'colsample_bytree': 0.355147582941424, 'gamma': 0.9479209602125196, 'alpha': 0.19634218667100267, 'lambda': 0.06600645718732537, 'min_child_weight': 9, 'max_delta_step': 5, 'tree_method': 'approx', 'learning_rate': 0.03341583886148958, 'min_split_loss': 0.1383488611902342, 'max_bin': 213}. Best is trial 52 with value: 20035.14260164022.\n"
     ]
    },
    {
     "name": "stdout",
     "output_type": "stream",
     "text": [
      "[0]\tval-rmse:72524.23635\n",
      "[50]\tval-rmse:24247.82107\n",
      "[100]\tval-rmse:20826.59170\n",
      "[150]\tval-rmse:20630.91131\n",
      "[199]\tval-rmse:20522.17538\n"
     ]
    },
    {
     "name": "stderr",
     "output_type": "stream",
     "text": [
      "[I 2024-02-26 18:46:22,982] Trial 97 finished with value: 20522.175374445695 and parameters: {'eta': 0.06012421272380115, 'max_depth': 11, 'subsample': 0.49847138302726945, 'colsample_bytree': 0.2619267485282287, 'gamma': 0.8274807512011274, 'alpha': 0.1665316496482933, 'lambda': 0.22785895818432328, 'min_child_weight': 10, 'max_delta_step': 0, 'tree_method': 'auto', 'learning_rate': 0.045325205625871653, 'min_split_loss': 0.24929908297277031, 'max_bin': 388}. Best is trial 52 with value: 20035.14260164022.\n"
     ]
    },
    {
     "name": "stdout",
     "output_type": "stream",
     "text": [
      "[0]\tval-rmse:74767.77463\n",
      "[50]\tval-rmse:74767.31597\n",
      "[100]\tval-rmse:74766.85591\n",
      "[150]\tval-rmse:74766.39297\n",
      "[199]\tval-rmse:74765.94551\n"
     ]
    },
    {
     "name": "stderr",
     "output_type": "stream",
     "text": [
      "[I 2024-02-26 18:46:23,347] Trial 98 finished with value: 74765.94501950989 and parameters: {'eta': 0.07276227538695165, 'max_depth': 10, 'subsample': 0.591475842607364, 'colsample_bytree': 0.1133187964979386, 'gamma': 0.9197812939604924, 'alpha': 0.22753031985589858, 'lambda': 0.2786364027431856, 'min_child_weight': 8, 'max_delta_step': 1, 'tree_method': 'approx', 'learning_rate': 0.013698368458205164, 'min_split_loss': 0.16974871053981413, 'max_bin': 267}. Best is trial 52 with value: 20035.14260164022.\n"
     ]
    },
    {
     "name": "stdout",
     "output_type": "stream",
     "text": [
      "[0]\tval-rmse:66677.65673\n",
      "[50]\tval-rmse:23649.57673\n",
      "[71]\tval-rmse:23730.17340\n"
     ]
    },
    {
     "name": "stderr",
     "output_type": "stream",
     "text": [
      "[I 2024-02-26 18:46:23,576] Trial 99 finished with value: 23730.17339003687 and parameters: {'eta': 0.044816474319198406, 'max_depth': 9, 'subsample': 0.6730013034700796, 'colsample_bytree': 0.27711400379836487, 'gamma': 0.9708482324003224, 'alpha': 0.2663093361222012, 'lambda': 0.02482626151753481, 'min_child_weight': 9, 'max_delta_step': 0, 'tree_method': 'auto', 'learning_rate': 0.15445685408304954, 'min_split_loss': 0.31928509201793065, 'max_bin': 251}. Best is trial 52 with value: 20035.14260164022.\n"
     ]
    },
    {
     "name": "stdout",
     "output_type": "stream",
     "text": [
      "[0]\tval-rmse:74767.75242\n",
      "[50]\tval-rmse:74766.22401\n",
      "[100]\tval-rmse:74764.69829\n",
      "[150]\tval-rmse:74763.16673\n",
      "[199]\tval-rmse:74761.67964\n"
     ]
    },
    {
     "name": "stderr",
     "output_type": "stream",
     "text": [
      "[I 2024-02-26 18:46:23,957] Trial 100 finished with value: 74761.67911933774 and parameters: {'eta': 0.11483400041974731, 'max_depth': 7, 'subsample': 0.5561484317290725, 'colsample_bytree': 0.42272181916239915, 'gamma': 0.8894278680888432, 'alpha': 0.5314030201749095, 'lambda': 0.15597754126118019, 'min_child_weight': 10, 'max_delta_step': 1, 'tree_method': 'auto', 'learning_rate': 0.03931981844441945, 'min_split_loss': 0.6185191592633748, 'max_bin': 229}. Best is trial 52 with value: 20035.14260164022.\n"
     ]
    },
    {
     "name": "stdout",
     "output_type": "stream",
     "text": [
      "[0]\tval-rmse:73168.09309\n",
      "[50]\tval-rmse:32454.82907\n",
      "[100]\tval-rmse:22760.93682\n",
      "[150]\tval-rmse:20967.64131\n",
      "[199]\tval-rmse:20559.24558\n"
     ]
    },
    {
     "name": "stderr",
     "output_type": "stream",
     "text": [
      "[I 2024-02-26 18:46:24,530] Trial 101 finished with value: 20559.245593182335 and parameters: {'eta': 0.027246286271600355, 'max_depth': 9, 'subsample': 0.6077902619947553, 'colsample_bytree': 0.3195431679958361, 'gamma': 0.9365576114537337, 'alpha': 0.1473652526824224, 'lambda': 0.11946213602205961, 'min_child_weight': 10, 'max_delta_step': 0, 'tree_method': 'auto', 'learning_rate': 0.02470813753697451, 'min_split_loss': 0.08978979870073722, 'max_bin': 359}. Best is trial 52 with value: 20035.14260164022.\n"
     ]
    },
    {
     "name": "stdout",
     "output_type": "stream",
     "text": [
      "[0]\tval-rmse:73423.98448\n",
      "[50]\tval-rmse:36811.33014\n",
      "[100]\tval-rmse:24633.83576\n",
      "[150]\tval-rmse:21501.98269\n",
      "[199]\tval-rmse:20551.71621\n"
     ]
    },
    {
     "name": "stderr",
     "output_type": "stream",
     "text": [
      "[I 2024-02-26 18:46:25,109] Trial 102 finished with value: 20551.71620575106 and parameters: {'eta': 0.033347797726980606, 'max_depth': 9, 'subsample': 0.6398994492844097, 'colsample_bytree': 0.30320607593365473, 'gamma': 0.9809232526912497, 'alpha': 0.061305001579135515, 'lambda': 0.08761310102301184, 'min_child_weight': 10, 'max_delta_step': 0, 'tree_method': 'auto', 'learning_rate': 0.019911400336371544, 'min_split_loss': 0.06384735514167736, 'max_bin': 328}. Best is trial 52 with value: 20035.14260164022.\n"
     ]
    },
    {
     "name": "stdout",
     "output_type": "stream",
     "text": [
      "[0]\tval-rmse:73429.74349\n",
      "[50]\tval-rmse:32100.31390\n",
      "[100]\tval-rmse:22190.13957\n",
      "[150]\tval-rmse:20431.97800\n",
      "[199]\tval-rmse:20001.00394\n"
     ]
    },
    {
     "name": "stderr",
     "output_type": "stream",
     "text": [
      "[I 2024-02-26 18:46:25,726] Trial 103 finished with value: 20001.003916918442 and parameters: {'eta': 0.140277618358077, 'max_depth': 10, 'subsample': 0.5726636181497117, 'colsample_bytree': 0.213019797520488, 'gamma': 0.9525193147473611, 'alpha': 0.1091540174159133, 'lambda': 0.1725382674436549, 'min_child_weight': 10, 'max_delta_step': 0, 'tree_method': 'auto', 'learning_rate': 0.026555589876843, 'min_split_loss': 0.027231891677030107, 'max_bin': 318}. Best is trial 103 with value: 20001.003916918442.\n"
     ]
    },
    {
     "name": "stdout",
     "output_type": "stream",
     "text": [
      "[0]\tval-rmse:72972.56960\n",
      "[50]\tval-rmse:26832.60464\n",
      "[100]\tval-rmse:21133.62840\n",
      "[150]\tval-rmse:20253.67048\n",
      "[176]\tval-rmse:20223.57686\n"
     ]
    },
    {
     "name": "stderr",
     "output_type": "stream",
     "text": [
      "[I 2024-02-26 18:46:26,303] Trial 104 finished with value: 20236.06741189909 and parameters: {'eta': 0.1395121522188438, 'max_depth': 10, 'subsample': 0.5729423374038027, 'colsample_bytree': 0.2085983507082141, 'gamma': 0.9021635084821472, 'alpha': 0.10416192195362997, 'lambda': 0.17440672903882737, 'min_child_weight': 9, 'max_delta_step': 0, 'tree_method': 'auto', 'learning_rate': 0.03527522016509157, 'min_split_loss': 0.026240810197498965, 'max_bin': 297}. Best is trial 103 with value: 20001.003916918442.\n"
     ]
    },
    {
     "name": "stdout",
     "output_type": "stream",
     "text": [
      "[0]\tval-rmse:73318.88723\n",
      "[50]\tval-rmse:28229.51551\n",
      "[100]\tval-rmse:21218.33677\n",
      "[150]\tval-rmse:20197.93032\n",
      "[199]\tval-rmse:19935.24114\n"
     ]
    },
    {
     "name": "stderr",
     "output_type": "stream",
     "text": [
      "[I 2024-02-26 18:46:27,021] Trial 105 finished with value: 19935.241175029198 and parameters: {'eta': 0.1450795772637361, 'max_depth': 10, 'subsample': 0.5737380715823541, 'colsample_bytree': 0.1728029118746291, 'gamma': 0.8063550326647285, 'alpha': 0.09792157795081088, 'lambda': 0.18428781616032366, 'min_child_weight': 9, 'max_delta_step': 0, 'tree_method': 'approx', 'learning_rate': 0.0344800376412053, 'min_split_loss': 0.02134942668435451, 'max_bin': 297}. Best is trial 105 with value: 19935.241175029198.\n"
     ]
    },
    {
     "name": "stdout",
     "output_type": "stream",
     "text": [
      "[0]\tval-rmse:74767.76580\n",
      "[50]\tval-rmse:74766.79851\n",
      "[100]\tval-rmse:74765.82520\n",
      "[150]\tval-rmse:74764.85190\n",
      "[199]\tval-rmse:74763.90299\n"
     ]
    },
    {
     "name": "stderr",
     "output_type": "stream",
     "text": [
      "[I 2024-02-26 18:46:27,431] Trial 106 finished with value: 74763.90267147934 and parameters: {'eta': 0.14119203825176935, 'max_depth': 10, 'subsample': 0.5717957149412299, 'colsample_bytree': 0.1688154130524523, 'gamma': 0.8001551901124435, 'alpha': 0.10310816275990446, 'lambda': 0.17303015017720946, 'min_child_weight': 9, 'max_delta_step': 1, 'tree_method': 'approx', 'learning_rate': 0.035158196153514655, 'min_split_loss': 0.022020252540620067, 'max_bin': 288}. Best is trial 105 with value: 19935.241175029198.\n"
     ]
    },
    {
     "name": "stdout",
     "output_type": "stream",
     "text": [
      "[0]\tval-rmse:72871.58108\n",
      "[50]\tval-rmse:23857.98124\n",
      "[100]\tval-rmse:20596.20274\n",
      "[150]\tval-rmse:20459.04966\n",
      "[180]\tval-rmse:20505.19796\n"
     ]
    },
    {
     "name": "stderr",
     "output_type": "stream",
     "text": [
      "[I 2024-02-26 18:46:28,194] Trial 107 finished with value: 20505.197981331417 and parameters: {'eta': 0.15297829476612324, 'max_depth': 11, 'subsample': 0.3769986601812119, 'colsample_bytree': 0.20746048224797997, 'gamma': 0.8427483076013987, 'alpha': 0.042401587392290815, 'lambda': 0.2392430519085466, 'min_child_weight': 3, 'max_delta_step': 0, 'tree_method': 'approx', 'learning_rate': 0.05022889998138936, 'min_split_loss': 0.01857169582101121, 'max_bin': 313}. Best is trial 105 with value: 19935.241175029198.\n"
     ]
    },
    {
     "name": "stdout",
     "output_type": "stream",
     "text": [
      "[0]\tval-rmse:72661.60682\n",
      "[50]\tval-rmse:23954.20226\n",
      "[100]\tval-rmse:20770.29043\n",
      "[150]\tval-rmse:20450.46607\n",
      "[153]\tval-rmse:20414.42557\n"
     ]
    },
    {
     "name": "stderr",
     "output_type": "stream",
     "text": [
      "[I 2024-02-26 18:46:28,791] Trial 108 finished with value: 20414.425572931093 and parameters: {'eta': 0.12547373355380714, 'max_depth': 10, 'subsample': 0.5403241730706356, 'colsample_bytree': 0.2174152308133917, 'gamma': 0.8716148048252369, 'alpha': 0.11404375256888998, 'lambda': 0.14891312412226151, 'min_child_weight': 8, 'max_delta_step': 0, 'tree_method': 'approx', 'learning_rate': 0.043428006243459924, 'min_split_loss': 0.03142956307385216, 'max_bin': 293}. Best is trial 105 with value: 19935.241175029198.\n"
     ]
    },
    {
     "name": "stdout",
     "output_type": "stream",
     "text": [
      "[0]\tval-rmse:74767.76631\n",
      "[50]\tval-rmse:74766.79878\n",
      "[100]\tval-rmse:74765.81786\n",
      "[150]\tval-rmse:74764.83800\n",
      "[199]\tval-rmse:74763.88386\n"
     ]
    },
    {
     "name": "stderr",
     "output_type": "stream",
     "text": [
      "[I 2024-02-26 18:46:29,210] Trial 109 finished with value: 74763.88344670282 and parameters: {'eta': 0.16133352284578106, 'max_depth': 11, 'subsample': 0.5272253935010415, 'colsample_bytree': 0.18041586959947958, 'gamma': 0.8152667642841892, 'alpha': 0.1733118003907779, 'lambda': 0.10497022265304284, 'min_child_weight': 9, 'max_delta_step': 1, 'tree_method': 'approx', 'learning_rate': 0.0311429637549854, 'min_split_loss': 0.10648565306647499, 'max_bin': 345}. Best is trial 105 with value: 19935.241175029198.\n"
     ]
    },
    {
     "name": "stdout",
     "output_type": "stream",
     "text": [
      "[0]\tval-rmse:74294.19200\n",
      "[50]\tval-rmse:47158.20130\n",
      "[100]\tval-rmse:32578.44399\n",
      "[150]\tval-rmse:25861.02092\n",
      "[199]\tval-rmse:22813.29969\n"
     ]
    },
    {
     "name": "stderr",
     "output_type": "stream",
     "text": [
      "[I 2024-02-26 18:46:29,911] Trial 110 finished with value: 22813.299795697578 and parameters: {'eta': 0.14554080558912458, 'max_depth': 10, 'subsample': 0.46546342298363197, 'colsample_bytree': 0.1430480971107308, 'gamma': 0.7696832855839773, 'alpha': 0.09182879132319528, 'lambda': 0.05321904319843556, 'min_child_weight': 9, 'max_delta_step': 0, 'tree_method': 'approx', 'learning_rate': 0.014137171363530434, 'min_split_loss': 0.046676893719035474, 'max_bin': 303}. Best is trial 105 with value: 19935.241175029198.\n"
     ]
    },
    {
     "name": "stdout",
     "output_type": "stream",
     "text": [
      "[0]\tval-rmse:73645.27493\n",
      "[50]\tval-rmse:35483.12482\n",
      "[100]\tval-rmse:23759.37233\n",
      "[150]\tval-rmse:21304.75719\n",
      "[199]\tval-rmse:20626.97434\n"
     ]
    },
    {
     "name": "stderr",
     "output_type": "stream",
     "text": [
      "[I 2024-02-26 18:46:30,570] Trial 111 finished with value: 20626.97428606111 and parameters: {'eta': 0.1355448502148588, 'max_depth': 10, 'subsample': 0.5704318751361338, 'colsample_bytree': 0.24213892924173575, 'gamma': 0.9062962986184966, 'alpha': 0.068145684256784, 'lambda': 0.20435534741519198, 'min_child_weight': 10, 'max_delta_step': 0, 'tree_method': 'auto', 'learning_rate': 0.02232350001778878, 'min_split_loss': 0.11915260242330995, 'max_bin': 320}. Best is trial 105 with value: 19935.241175029198.\n"
     ]
    },
    {
     "name": "stdout",
     "output_type": "stream",
     "text": [
      "[0]\tval-rmse:73843.24095\n",
      "[50]\tval-rmse:30431.47098\n",
      "[100]\tval-rmse:22433.32656\n",
      "[150]\tval-rmse:21045.55643\n",
      "[199]\tval-rmse:20885.12821\n"
     ]
    },
    {
     "name": "stderr",
     "output_type": "stream",
     "text": [
      "[I 2024-02-26 18:46:31,158] Trial 112 finished with value: 20885.128193360975 and parameters: {'eta': 0.13902242619518373, 'max_depth': 10, 'subsample': 0.5068861102081006, 'colsample_bytree': 0.12170583339584617, 'gamma': 0.9538842119793902, 'alpha': 0.1250227944439441, 'lambda': 0.35482811214144827, 'min_child_weight': 10, 'max_delta_step': 0, 'tree_method': 'auto', 'learning_rate': 0.03549737924807474, 'min_split_loss': 0.08774224050306628, 'max_bin': 272}. Best is trial 105 with value: 19935.241175029198.\n"
     ]
    },
    {
     "name": "stdout",
     "output_type": "stream",
     "text": [
      "[0]\tval-rmse:73556.39984\n",
      "[50]\tval-rmse:31419.77952\n",
      "[100]\tval-rmse:22216.95567\n",
      "[150]\tval-rmse:20634.99857\n",
      "[199]\tval-rmse:20143.07465\n"
     ]
    },
    {
     "name": "stderr",
     "output_type": "stream",
     "text": [
      "[I 2024-02-26 18:46:31,883] Trial 113 finished with value: 20143.074618229984 and parameters: {'eta': 0.15601332897650427, 'max_depth': 10, 'subsample': 0.6106049153430287, 'colsample_bytree': 0.2574851219594436, 'gamma': 0.9273891184581674, 'alpha': 0.04002991381351251, 'lambda': 0.2678014909751528, 'min_child_weight': 9, 'max_delta_step': 0, 'tree_method': 'approx', 'learning_rate': 0.026218343601911755, 'min_split_loss': 0.020475643002306386, 'max_bin': 325}. Best is trial 105 with value: 19935.241175029198.\n"
     ]
    },
    {
     "name": "stdout",
     "output_type": "stream",
     "text": [
      "[0]\tval-rmse:74767.77217\n",
      "[50]\tval-rmse:74767.27099\n",
      "[100]\tval-rmse:74766.76000\n",
      "[150]\tval-rmse:74766.25678\n",
      "[199]\tval-rmse:74765.76658\n"
     ]
    },
    {
     "name": "stderr",
     "output_type": "stream",
     "text": [
      "[I 2024-02-26 18:46:32,320] Trial 114 finished with value: 74765.76604130353 and parameters: {'eta': 0.14997560768408108, 'max_depth': 11, 'subsample': 0.7460122565955134, 'colsample_bytree': 0.2624791048724165, 'gamma': 0.8525472249646285, 'alpha': 0.03084851809418912, 'lambda': 0.270957891744527, 'min_child_weight': 8, 'max_delta_step': 1, 'tree_method': 'approx', 'learning_rate': 0.01075528710633285, 'min_split_loss': 0.030611262760015263, 'max_bin': 249}. Best is trial 105 with value: 19935.241175029198.\n"
     ]
    },
    {
     "name": "stdout",
     "output_type": "stream",
     "text": [
      "[0]\tval-rmse:73997.67651\n",
      "[50]\tval-rmse:37885.56975\n",
      "[100]\tval-rmse:25334.53885\n",
      "[150]\tval-rmse:21923.81953\n",
      "[199]\tval-rmse:20803.06613\n"
     ]
    },
    {
     "name": "stderr",
     "output_type": "stream",
     "text": [
      "[I 2024-02-26 18:46:33,060] Trial 115 finished with value: 20803.06610382639 and parameters: {'eta': 0.16748076360815617, 'max_depth': 10, 'subsample': 0.6683511265502533, 'colsample_bytree': 0.2291735858522847, 'gamma': 0.7216560488302893, 'alpha': 0.1923322158703431, 'lambda': 0.22981819571409767, 'min_child_weight': 9, 'max_delta_step': 0, 'tree_method': 'approx', 'learning_rate': 0.01980592887108394, 'min_split_loss': 0.06851455312163043, 'max_bin': 298}. Best is trial 105 with value: 19935.241175029198.\n"
     ]
    },
    {
     "name": "stdout",
     "output_type": "stream",
     "text": [
      "[0]\tval-rmse:73413.28445\n",
      "[50]\tval-rmse:29801.66927\n",
      "[100]\tval-rmse:21029.01231\n",
      "[150]\tval-rmse:19590.43572\n",
      "[199]\tval-rmse:19281.09938\n"
     ]
    },
    {
     "name": "stderr",
     "output_type": "stream",
     "text": [
      "[I 2024-02-26 18:46:34,115] Trial 116 finished with value: 19281.09936198692 and parameters: {'eta': 0.28304798543118126, 'max_depth': 10, 'subsample': 0.582941564941944, 'colsample_bytree': 0.1988521374940746, 'gamma': 0.8986084612821763, 'alpha': 0.15824380712994635, 'lambda': 0.17919439681441068, 'min_child_weight': 9, 'max_delta_step': 0, 'tree_method': 'approx', 'learning_rate': 0.029613683908674797, 'min_split_loss': 0.014493326291348488, 'max_bin': 285}. Best is trial 116 with value: 19281.09936198692.\n"
     ]
    },
    {
     "name": "stdout",
     "output_type": "stream",
     "text": [
      "[0]\tval-rmse:72853.87023\n",
      "[50]\tval-rmse:26171.53496\n",
      "[100]\tval-rmse:21328.14784\n",
      "[150]\tval-rmse:20602.30073\n",
      "[184]\tval-rmse:20552.96142\n"
     ]
    },
    {
     "name": "stderr",
     "output_type": "stream",
     "text": [
      "[I 2024-02-26 18:46:34,753] Trial 117 finished with value: 20552.961401474015 and parameters: {'eta': 0.296047472211791, 'max_depth': 10, 'subsample': 0.625226163078395, 'colsample_bytree': 0.19186183231510645, 'gamma': 0.8969543817795097, 'alpha': 0.15207826194758653, 'lambda': 0.18049195690709818, 'min_child_weight': 8, 'max_delta_step': 0, 'tree_method': 'approx', 'learning_rate': 0.03959559808072688, 'min_split_loss': 0.004169901910133344, 'max_bin': 284}. Best is trial 116 with value: 19281.09936198692.\n"
     ]
    },
    {
     "name": "stdout",
     "output_type": "stream",
     "text": [
      "[0]\tval-rmse:73337.56587\n",
      "[50]\tval-rmse:28969.80685\n",
      "[100]\tval-rmse:20983.39191\n",
      "[150]\tval-rmse:19822.63998\n",
      "[199]\tval-rmse:19554.90280\n"
     ]
    },
    {
     "name": "stderr",
     "output_type": "stream",
     "text": [
      "[I 2024-02-26 18:46:35,517] Trial 118 finished with value: 19554.902780981578 and parameters: {'eta': 0.1557330350521315, 'max_depth': 11, 'subsample': 0.5863542702510244, 'colsample_bytree': 0.19931150953486984, 'gamma': 0.8716338309794593, 'alpha': 0.09923407743531268, 'lambda': 0.2951466430419001, 'min_child_weight': 9, 'max_delta_step': 0, 'tree_method': 'approx', 'learning_rate': 0.03163290592965459, 'min_split_loss': 0.047589046855267464, 'max_bin': 312}. Best is trial 116 with value: 19281.09936198692.\n"
     ]
    },
    {
     "name": "stdout",
     "output_type": "stream",
     "text": [
      "[0]\tval-rmse:74767.76492\n",
      "[50]\tval-rmse:74766.79526\n",
      "[100]\tval-rmse:74765.80819\n",
      "[150]\tval-rmse:74764.82965\n",
      "[199]\tval-rmse:74763.86620\n"
     ]
    },
    {
     "name": "stderr",
     "output_type": "stream",
     "text": [
      "[I 2024-02-26 18:46:35,932] Trial 119 finished with value: 74763.86585794635 and parameters: {'eta': 0.18434119629751133, 'max_depth': 11, 'subsample': 0.5822920096874317, 'colsample_bytree': 0.19954419596514103, 'gamma': 0.8699383423663193, 'alpha': 0.044930929615882145, 'lambda': 0.30681899398827484, 'min_child_weight': 9, 'max_delta_step': 1, 'tree_method': 'approx', 'learning_rate': 0.02941157223173408, 'min_split_loss': 0.021268007094945862, 'max_bin': 265}. Best is trial 116 with value: 19281.09936198692.\n"
     ]
    },
    {
     "name": "stdout",
     "output_type": "stream",
     "text": [
      "[0]\tval-rmse:73366.06900\n",
      "[50]\tval-rmse:28860.74635\n",
      "[100]\tval-rmse:21965.51926\n",
      "[150]\tval-rmse:20551.99149\n",
      "[199]\tval-rmse:20287.76379\n"
     ]
    },
    {
     "name": "stderr",
     "output_type": "stream",
     "text": [
      "[I 2024-02-26 18:46:36,677] Trial 120 finished with value: 20287.76373978852 and parameters: {'eta': 0.14443557422819214, 'max_depth': 11, 'subsample': 0.6110947960573236, 'colsample_bytree': 0.16435309232369297, 'gamma': 0.962679236600409, 'alpha': 0.09971105958430883, 'lambda': 0.28559840787043256, 'min_child_weight': 9, 'max_delta_step': 0, 'tree_method': 'approx', 'learning_rate': 0.033290265888299496, 'min_split_loss': 0.041908352577165, 'max_bin': 313}. Best is trial 116 with value: 19281.09936198692.\n"
     ]
    },
    {
     "name": "stdout",
     "output_type": "stream",
     "text": [
      "[0]\tval-rmse:73303.53637\n",
      "[50]\tval-rmse:28032.22746\n",
      "[100]\tval-rmse:20992.17528\n",
      "[150]\tval-rmse:19768.68018\n",
      "[186]\tval-rmse:19559.04139\n"
     ]
    },
    {
     "name": "stderr",
     "output_type": "stream",
     "text": [
      "[I 2024-02-26 18:46:37,413] Trial 121 finished with value: 19559.04134434556 and parameters: {'eta': 0.1602606061476128, 'max_depth': 11, 'subsample': 0.6065107307640643, 'colsample_bytree': 0.16779775079645665, 'gamma': 0.9689580797744225, 'alpha': 0.09660255157023917, 'lambda': 0.29141630750559905, 'min_child_weight': 9, 'max_delta_step': 0, 'tree_method': 'approx', 'learning_rate': 0.03372296793218835, 'min_split_loss': 0.044202196646514945, 'max_bin': 313}. Best is trial 116 with value: 19281.09936198692.\n"
     ]
    },
    {
     "name": "stdout",
     "output_type": "stream",
     "text": [
      "[0]\tval-rmse:73545.47014\n",
      "[50]\tval-rmse:25106.25653\n",
      "[100]\tval-rmse:20378.38366\n",
      "[150]\tval-rmse:19723.42662\n",
      "[183]\tval-rmse:19856.55216\n"
     ]
    },
    {
     "name": "stderr",
     "output_type": "stream",
     "text": [
      "[I 2024-02-26 18:46:38,081] Trial 122 finished with value: 19856.552131953038 and parameters: {'eta': 0.15834392899086916, 'max_depth': 11, 'subsample': 0.5919184658885991, 'colsample_bytree': 0.14680035403443384, 'gamma': 0.9079996715526699, 'alpha': 0.12371700484197581, 'lambda': 0.343936012974993, 'min_child_weight': 9, 'max_delta_step': 0, 'tree_method': 'approx', 'learning_rate': 0.04305367229601804, 'min_split_loss': 0.0006822613104411294, 'max_bin': 292}. Best is trial 116 with value: 19281.09936198692.\n"
     ]
    },
    {
     "name": "stdout",
     "output_type": "stream",
     "text": [
      "[0]\tval-rmse:73612.90299\n",
      "[50]\tval-rmse:27141.98884\n",
      "[100]\tval-rmse:20632.11299\n",
      "[150]\tval-rmse:19918.73329\n",
      "[199]\tval-rmse:19805.14845\n"
     ]
    },
    {
     "name": "stderr",
     "output_type": "stream",
     "text": [
      "[I 2024-02-26 18:46:38,809] Trial 123 finished with value: 19805.148434221457 and parameters: {'eta': 0.17096531667836348, 'max_depth': 11, 'subsample': 0.5434059906070167, 'colsample_bytree': 0.1324488076477243, 'gamma': 0.6896209472835244, 'alpha': 0.08572541658271754, 'lambda': 0.3311406922505691, 'min_child_weight': 9, 'max_delta_step': 0, 'tree_method': 'approx', 'learning_rate': 0.0373816891666066, 'min_split_loss': 0.016741197262257985, 'max_bin': 240}. Best is trial 116 with value: 19281.09936198692.\n"
     ]
    },
    {
     "name": "stdout",
     "output_type": "stream",
     "text": [
      "[0]\tval-rmse:73392.59567\n",
      "[50]\tval-rmse:25172.61493\n",
      "[100]\tval-rmse:20764.34715\n",
      "[150]\tval-rmse:20488.74921\n",
      "[180]\tval-rmse:20450.56693\n"
     ]
    },
    {
     "name": "stderr",
     "output_type": "stream",
     "text": [
      "[I 2024-02-26 18:46:39,457] Trial 124 finished with value: 20450.566935373146 and parameters: {'eta': 0.2681481307633502, 'max_depth': 11, 'subsample': 0.5356837476592663, 'colsample_bytree': 0.13436084193826395, 'gamma': 0.9100953444233714, 'alpha': 0.004397028137566136, 'lambda': 0.3734092049308373, 'min_child_weight': 9, 'max_delta_step': 0, 'tree_method': 'approx', 'learning_rate': 0.04466263753958296, 'min_split_loss': 0.0035295536446306452, 'max_bin': 280}. Best is trial 116 with value: 19281.09936198692.\n"
     ]
    },
    {
     "name": "stdout",
     "output_type": "stream",
     "text": [
      "[0]\tval-rmse:74767.76062\n",
      "[50]\tval-rmse:74766.35832\n",
      "[100]\tval-rmse:74764.92222\n",
      "[150]\tval-rmse:74763.49054\n",
      "[199]\tval-rmse:74762.09074\n"
     ]
    },
    {
     "name": "stderr",
     "output_type": "stream",
     "text": [
      "[I 2024-02-26 18:46:39,832] Trial 125 finished with value: 74762.09077746287 and parameters: {'eta': 0.17441407548840654, 'max_depth': 12, 'subsample': 0.5643789621034062, 'colsample_bytree': 0.15132351438403885, 'gamma': 0.8839442523217127, 'alpha': 0.06604346719158957, 'lambda': 0.3544329816094119, 'min_child_weight': 8, 'max_delta_step': 1, 'tree_method': 'approx', 'learning_rate': 0.039697639768930905, 'min_split_loss': 0.05692725897692562, 'max_bin': 294}. Best is trial 116 with value: 19281.09936198692.\n"
     ]
    },
    {
     "name": "stdout",
     "output_type": "stream",
     "text": [
      "[0]\tval-rmse:73826.47122\n",
      "[50]\tval-rmse:30931.69817\n",
      "[100]\tval-rmse:22293.60277\n",
      "[150]\tval-rmse:20450.09436\n",
      "[199]\tval-rmse:20105.21298\n"
     ]
    },
    {
     "name": "stderr",
     "output_type": "stream",
     "text": [
      "[I 2024-02-26 18:46:40,480] Trial 126 finished with value: 20105.212981618384 and parameters: {'eta': 0.15608344120747647, 'max_depth': 11, 'subsample': 0.49320048861562243, 'colsample_bytree': 0.10016519413414016, 'gamma': 0.6417375362634428, 'alpha': 0.11715706631147003, 'lambda': 0.3348343884500463, 'min_child_weight': 9, 'max_delta_step': 0, 'tree_method': 'approx', 'learning_rate': 0.037347100879856036, 'min_split_loss': 0.019571304116674335, 'max_bin': 307}. Best is trial 116 with value: 19281.09936198692.\n"
     ]
    },
    {
     "name": "stdout",
     "output_type": "stream",
     "text": [
      "[0]\tval-rmse:72977.27169\n",
      "[50]\tval-rmse:24116.61765\n",
      "[100]\tval-rmse:21005.03509\n",
      "[150]\tval-rmse:20691.79199\n",
      "[166]\tval-rmse:20622.30011\n"
     ]
    },
    {
     "name": "stderr",
     "output_type": "stream",
     "text": [
      "[I 2024-02-26 18:46:41,158] Trial 127 finished with value: 20625.741236993992 and parameters: {'eta': 0.15918587681707533, 'max_depth': 11, 'subsample': 0.49477103093752184, 'colsample_bytree': 0.17610103801791882, 'gamma': 0.6379753933171916, 'alpha': 0.1174257134164701, 'lambda': 0.4255858628128759, 'min_child_weight': 5, 'max_delta_step': 0, 'tree_method': 'approx', 'learning_rate': 0.04684778544393453, 'min_split_loss': 0.01985751582502949, 'max_bin': 321}. Best is trial 116 with value: 19281.09936198692.\n"
     ]
    },
    {
     "name": "stdout",
     "output_type": "stream",
     "text": [
      "[0]\tval-rmse:73891.47750\n",
      "[50]\tval-rmse:31746.98235\n",
      "[100]\tval-rmse:24368.28198\n",
      "[150]\tval-rmse:22689.90852\n",
      "[199]\tval-rmse:22293.47399\n"
     ]
    },
    {
     "name": "stderr",
     "output_type": "stream",
     "text": [
      "[I 2024-02-26 18:46:42,222] Trial 128 finished with value: 22293.473984012704 and parameters: {'eta': 0.2533009551794599, 'max_depth': 11, 'subsample': 0.5328370600012445, 'colsample_bytree': 0.10158431315492183, 'gamma': 0.9252402734246188, 'alpha': 0.9585218775182993, 'lambda': 0.3383981539522077, 'min_child_weight': 2, 'max_delta_step': 0, 'tree_method': 'approx', 'learning_rate': 0.03630179427945837, 'min_split_loss': 0.048652633841471, 'max_bin': 309}. Best is trial 116 with value: 19281.09936198692.\n"
     ]
    },
    {
     "name": "stdout",
     "output_type": "stream",
     "text": [
      "[0]\tval-rmse:73773.30608\n",
      "[50]\tval-rmse:31031.58818\n",
      "[100]\tval-rmse:22260.10567\n",
      "[150]\tval-rmse:20517.17647\n",
      "[199]\tval-rmse:20286.62240\n"
     ]
    },
    {
     "name": "stderr",
     "output_type": "stream",
     "text": [
      "[I 2024-02-26 18:46:42,911] Trial 129 finished with value: 20286.62240600645 and parameters: {'eta': 0.15629918205926732, 'max_depth': 12, 'subsample': 0.4690148095138822, 'colsample_bytree': 0.12898384758788556, 'gamma': 0.694800823980368, 'alpha': 0.08201378145859285, 'lambda': 0.3118405500660869, 'min_child_weight': 9, 'max_delta_step': 0, 'tree_method': 'approx', 'learning_rate': 0.03168737715105223, 'min_split_loss': 0.001548601799960898, 'max_bin': 290}. Best is trial 116 with value: 19281.09936198692.\n"
     ]
    },
    {
     "name": "stdout",
     "output_type": "stream",
     "text": [
      "[0]\tval-rmse:74767.75818\n",
      "[50]\tval-rmse:74765.92071\n",
      "[100]\tval-rmse:74764.08136\n",
      "[150]\tval-rmse:74762.20330\n",
      "[199]\tval-rmse:74760.38240\n"
     ]
    },
    {
     "name": "stderr",
     "output_type": "stream",
     "text": [
      "[I 2024-02-26 18:46:43,283] Trial 130 finished with value: 74760.3820862484 and parameters: {'eta': 0.17211574604770352, 'max_depth': 11, 'subsample': 0.514757858728699, 'colsample_bytree': 0.12284508915306112, 'gamma': 0.6006315330353045, 'alpha': 0.762119936172412, 'lambda': 0.3276655284780684, 'min_child_weight': 9, 'max_delta_step': 1, 'tree_method': 'approx', 'learning_rate': 0.05493131257652574, 'min_split_loss': 0.028726956231002618, 'max_bin': 306}. Best is trial 116 with value: 19281.09936198692.\n"
     ]
    },
    {
     "name": "stdout",
     "output_type": "stream",
     "text": [
      "[0]\tval-rmse:73942.40603\n",
      "[50]\tval-rmse:34328.79094\n",
      "[100]\tval-rmse:23738.43668\n",
      "[150]\tval-rmse:20989.08035\n",
      "[199]\tval-rmse:20490.25503\n"
     ]
    },
    {
     "name": "stderr",
     "output_type": "stream",
     "text": [
      "[I 2024-02-26 18:46:43,929] Trial 131 finished with value: 20490.255074007917 and parameters: {'eta': 0.16439556532455377, 'max_depth': 11, 'subsample': 0.43756361971340246, 'colsample_bytree': 0.1453995149147797, 'gamma': 0.6351724589912687, 'alpha': 0.12615228492804229, 'lambda': 0.2622971096504033, 'min_child_weight': 9, 'max_delta_step': 0, 'tree_method': 'approx', 'learning_rate': 0.027192711980412586, 'min_split_loss': 0.07713247740708279, 'max_bin': 258}. Best is trial 116 with value: 19281.09936198692.\n"
     ]
    },
    {
     "name": "stdout",
     "output_type": "stream",
     "text": [
      "[0]\tval-rmse:72808.86590\n",
      "[50]\tval-rmse:24365.98643\n",
      "[100]\tval-rmse:20506.79249\n",
      "[150]\tval-rmse:20171.42448\n",
      "[187]\tval-rmse:20139.83444\n"
     ]
    },
    {
     "name": "stderr",
     "output_type": "stream",
     "text": [
      "[I 2024-02-26 18:46:44,599] Trial 132 finished with value: 20139.834433803735 and parameters: {'eta': 0.1499328774218888, 'max_depth': 11, 'subsample': 0.5821091347988008, 'colsample_bytree': 0.20938044345777668, 'gamma': 0.9360642990306245, 'alpha': 0.09469608919319024, 'lambda': 0.2957551612934969, 'min_child_weight': 9, 'max_delta_step': 0, 'tree_method': 'approx', 'learning_rate': 0.042490566196488166, 'min_split_loss': 0.05469662274530437, 'max_bin': 240}. Best is trial 116 with value: 19281.09936198692.\n"
     ]
    },
    {
     "name": "stdout",
     "output_type": "stream",
     "text": [
      "[0]\tval-rmse:72758.26989\n",
      "[50]\tval-rmse:24011.10171\n",
      "[100]\tval-rmse:20119.77081\n",
      "[150]\tval-rmse:19794.77633\n",
      "[184]\tval-rmse:19739.58475\n"
     ]
    },
    {
     "name": "stderr",
     "output_type": "stream",
     "text": [
      "[I 2024-02-26 18:46:45,252] Trial 133 finished with value: 19747.81769224992 and parameters: {'eta': 0.15166830327769654, 'max_depth': 11, 'subsample': 0.5519554709410772, 'colsample_bytree': 0.19412586548229588, 'gamma': 0.9016601690409252, 'alpha': 0.09521403917908987, 'lambda': 0.3889168197189705, 'min_child_weight': 9, 'max_delta_step': 0, 'tree_method': 'approx', 'learning_rate': 0.04280091499274922, 'min_split_loss': 0.05560369712349721, 'max_bin': 201}. Best is trial 116 with value: 19281.09936198692.\n"
     ]
    },
    {
     "name": "stdout",
     "output_type": "stream",
     "text": [
      "[0]\tval-rmse:73056.04454\n",
      "[50]\tval-rmse:25110.84767\n",
      "[100]\tval-rmse:20630.80755\n",
      "[150]\tval-rmse:19979.78560\n",
      "[199]\tval-rmse:19910.11557\n"
     ]
    },
    {
     "name": "stderr",
     "output_type": "stream",
     "text": [
      "[I 2024-02-26 18:46:46,017] Trial 134 finished with value: 19910.11552072634 and parameters: {'eta': 0.15142190786026294, 'max_depth': 12, 'subsample': 0.5509259092198441, 'colsample_bytree': 0.174319628783884, 'gamma': 0.9359836512313581, 'alpha': 0.04978003600993607, 'lambda': 0.3993170190105959, 'min_child_weight': 8, 'max_delta_step': 0, 'tree_method': 'approx', 'learning_rate': 0.042163100112238616, 'min_split_loss': 0.05384184401830819, 'max_bin': 207}. Best is trial 116 with value: 19281.09936198692.\n"
     ]
    },
    {
     "name": "stdout",
     "output_type": "stream",
     "text": [
      "[0]\tval-rmse:72881.04898\n",
      "[50]\tval-rmse:24458.34355\n",
      "[100]\tval-rmse:21102.73505\n",
      "[150]\tval-rmse:20790.07846\n",
      "[182]\tval-rmse:20787.04144\n"
     ]
    },
    {
     "name": "stderr",
     "output_type": "stream",
     "text": [
      "[I 2024-02-26 18:46:46,708] Trial 135 finished with value: 20757.11858606499 and parameters: {'eta': 0.1528583957951215, 'max_depth': 12, 'subsample': 0.5469635823322527, 'colsample_bytree': 0.17624678028000945, 'gamma': 0.9359202878601008, 'alpha': 0.015487795083476176, 'lambda': 0.40488110988259907, 'min_child_weight': 8, 'max_delta_step': 0, 'tree_method': 'approx', 'learning_rate': 0.0472232208093301, 'min_split_loss': 0.05356021460548502, 'max_bin': 204}. Best is trial 116 with value: 19281.09936198692.\n"
     ]
    },
    {
     "name": "stdout",
     "output_type": "stream",
     "text": [
      "[0]\tval-rmse:72594.85575\n",
      "[50]\tval-rmse:24827.02688\n",
      "[100]\tval-rmse:21029.79100\n",
      "[150]\tval-rmse:20571.90310\n",
      "[199]\tval-rmse:20542.32723\n"
     ]
    },
    {
     "name": "stderr",
     "output_type": "stream",
     "text": [
      "[I 2024-02-26 18:46:47,520] Trial 136 finished with value: 20542.327196853596 and parameters: {'eta': 0.17840904321990553, 'max_depth': 12, 'subsample': 0.5531878088941916, 'colsample_bytree': 0.19344437386454774, 'gamma': 0.9748458382902031, 'alpha': 0.04789924451879152, 'lambda': 0.46796552952569853, 'min_child_weight': 6, 'max_delta_step': 0, 'tree_method': 'approx', 'learning_rate': 0.04267454600113293, 'min_split_loss': 0.07089730767973537, 'max_bin': 196}. Best is trial 116 with value: 19281.09936198692.\n"
     ]
    },
    {
     "name": "stdout",
     "output_type": "stream",
     "text": [
      "[0]\tval-rmse:73734.88035\n",
      "[50]\tval-rmse:28951.43451\n",
      "[100]\tval-rmse:21908.60686\n",
      "[150]\tval-rmse:20426.53959\n",
      "[199]\tval-rmse:20280.47536\n"
     ]
    },
    {
     "name": "stderr",
     "output_type": "stream",
     "text": [
      "[I 2024-02-26 18:46:48,187] Trial 137 finished with value: 20280.475401106265 and parameters: {'eta': 0.15785700186184742, 'max_depth': 11, 'subsample': 0.48979531451775865, 'colsample_bytree': 0.10335575802644353, 'gamma': 0.6647948132554101, 'alpha': 0.06805764541708556, 'lambda': 0.3806472229963354, 'min_child_weight': 8, 'max_delta_step': 0, 'tree_method': 'approx', 'learning_rate': 0.0394032366156591, 'min_split_loss': 0.04116809346088136, 'max_bin': 178}. Best is trial 116 with value: 19281.09936198692.\n"
     ]
    },
    {
     "name": "stdout",
     "output_type": "stream",
     "text": [
      "[0]\tval-rmse:74767.75979\n",
      "[50]\tval-rmse:74766.34924\n",
      "[100]\tval-rmse:74764.91272\n",
      "[150]\tval-rmse:74763.46964\n",
      "[199]\tval-rmse:74762.07091\n"
     ]
    },
    {
     "name": "stderr",
     "output_type": "stream",
     "text": [
      "[I 2024-02-26 18:46:48,576] Trial 138 finished with value: 74762.07021860071 and parameters: {'eta': 0.1668340088334537, 'max_depth': 13, 'subsample': 0.5908022645130937, 'colsample_bytree': 0.14724175422787406, 'gamma': 0.5079860524072022, 'alpha': 0.03880217802799869, 'lambda': 0.29823428884809666, 'min_child_weight': 9, 'max_delta_step': 1, 'tree_method': 'approx', 'learning_rate': 0.04325346894875641, 'min_split_loss': 0.0011599808033517511, 'max_bin': 241}. Best is trial 116 with value: 19281.09936198692.\n"
     ]
    },
    {
     "name": "stdout",
     "output_type": "stream",
     "text": [
      "[0]\tval-rmse:72644.95708\n",
      "[50]\tval-rmse:23796.01513\n",
      "[100]\tval-rmse:21197.94057\n",
      "[149]\tval-rmse:21054.19727\n"
     ]
    },
    {
     "name": "stderr",
     "output_type": "stream",
     "text": [
      "[I 2024-02-26 18:46:49,137] Trial 139 finished with value: 21054.197269220036 and parameters: {'eta': 0.2829038223436574, 'max_depth': 11, 'subsample': 0.6130502295475689, 'colsample_bytree': 0.16504543915962624, 'gamma': 0.5775497136716219, 'alpha': 0.09560636317902141, 'lambda': 0.3338423084802917, 'min_child_weight': 9, 'max_delta_step': 0, 'tree_method': 'approx', 'learning_rate': 0.050413199638841555, 'min_split_loss': 0.08129132994835914, 'max_bin': 208}. Best is trial 116 with value: 19281.09936198692.\n"
     ]
    },
    {
     "name": "stdout",
     "output_type": "stream",
     "text": [
      "[0]\tval-rmse:74767.59238\n",
      "[50]\tval-rmse:74758.49207\n",
      "[100]\tval-rmse:74749.34445\n",
      "[150]\tval-rmse:74740.22071\n",
      "[199]\tval-rmse:74731.23846\n"
     ]
    },
    {
     "name": "stderr",
     "output_type": "stream",
     "text": [
      "[I 2024-02-26 18:46:49,490] Trial 140 finished with value: 74731.2380782344 and parameters: {'eta': 0.1485134976306658, 'max_depth': 12, 'subsample': 0.5159910547295945, 'colsample_bytree': 0.9844054420570945, 'gamma': 0.8725598330508116, 'alpha': 0.08241432975501421, 'lambda': 0.3577303403347199, 'min_child_weight': 9, 'max_delta_step': 7, 'tree_method': 'approx', 'learning_rate': 0.03936878149558536, 'min_split_loss': 0.022085205022500116, 'max_bin': 217}. Best is trial 116 with value: 19281.09936198692.\n"
     ]
    },
    {
     "name": "stdout",
     "output_type": "stream",
     "text": [
      "[0]\tval-rmse:73239.53667\n",
      "[50]\tval-rmse:27809.92153\n",
      "[100]\tval-rmse:20833.00938\n",
      "[150]\tval-rmse:19910.66631\n",
      "[199]\tval-rmse:19657.92190\n"
     ]
    },
    {
     "name": "stderr",
     "output_type": "stream",
     "text": [
      "[I 2024-02-26 18:46:50,192] Trial 141 finished with value: 19657.9218785065 and parameters: {'eta': 0.19231557024533394, 'max_depth': 11, 'subsample': 0.5843048510329323, 'colsample_bytree': 0.2261116687121023, 'gamma': 0.5440572631751552, 'alpha': 0.12099359721140855, 'lambda': 0.43190823794956834, 'min_child_weight': 9, 'max_delta_step': 0, 'tree_method': 'approx', 'learning_rate': 0.033173485299417216, 'min_split_loss': 0.056474253420621456, 'max_bin': 224}. Best is trial 116 with value: 19281.09936198692.\n"
     ]
    },
    {
     "name": "stdout",
     "output_type": "stream",
     "text": [
      "[0]\tval-rmse:73106.71623\n",
      "[50]\tval-rmse:27088.63634\n",
      "[100]\tval-rmse:20446.64906\n",
      "[150]\tval-rmse:19522.04112\n",
      "[185]\tval-rmse:19446.65230\n"
     ]
    },
    {
     "name": "stderr",
     "output_type": "stream",
     "text": [
      "[I 2024-02-26 18:46:50,890] Trial 142 finished with value: 19446.65229959639 and parameters: {'eta': 0.20194025937236554, 'max_depth': 11, 'subsample': 0.5812386712000156, 'colsample_bytree': 0.19297299869095652, 'gamma': 0.5316814336854218, 'alpha': 0.05349850498462598, 'lambda': 0.42715037701405484, 'min_child_weight': 9, 'max_delta_step': 0, 'tree_method': 'approx', 'learning_rate': 0.03591995623689065, 'min_split_loss': 0.05792159453774537, 'max_bin': 221}. Best is trial 116 with value: 19281.09936198692.\n"
     ]
    },
    {
     "name": "stdout",
     "output_type": "stream",
     "text": [
      "[0]\tval-rmse:73093.09513\n",
      "[50]\tval-rmse:26576.18814\n",
      "[100]\tval-rmse:20600.85408\n",
      "[150]\tval-rmse:19723.55673\n",
      "[185]\tval-rmse:19606.90379\n"
     ]
    },
    {
     "name": "stderr",
     "output_type": "stream",
     "text": [
      "[I 2024-02-26 18:46:51,561] Trial 143 finished with value: 19599.639395557337 and parameters: {'eta': 0.19649789074232296, 'max_depth': 11, 'subsample': 0.5858994894825221, 'colsample_bytree': 0.19090061290191565, 'gamma': 0.4908145009054914, 'alpha': 0.062189747082432106, 'lambda': 0.417760505922516, 'min_child_weight': 9, 'max_delta_step': 0, 'tree_method': 'approx', 'learning_rate': 0.03743384316296228, 'min_split_loss': 0.0590247736279716, 'max_bin': 222}. Best is trial 116 with value: 19281.09936198692.\n"
     ]
    },
    {
     "name": "stdout",
     "output_type": "stream",
     "text": [
      "[0]\tval-rmse:73116.91518\n",
      "[50]\tval-rmse:26572.03786\n",
      "[100]\tval-rmse:20469.33230\n",
      "[150]\tval-rmse:19738.90600\n",
      "[185]\tval-rmse:19613.55125\n"
     ]
    },
    {
     "name": "stderr",
     "output_type": "stream",
     "text": [
      "[I 2024-02-26 18:46:52,230] Trial 144 finished with value: 19602.40586653481 and parameters: {'eta': 0.20220816144736867, 'max_depth': 11, 'subsample': 0.5854653940348697, 'colsample_bytree': 0.19141032416059806, 'gamma': 0.523464940941667, 'alpha': 0.06241964743821484, 'lambda': 0.42572530974787415, 'min_child_weight': 9, 'max_delta_step': 0, 'tree_method': 'approx', 'learning_rate': 0.03693515675290212, 'min_split_loss': 0.05856843279621231, 'max_bin': 223}. Best is trial 116 with value: 19281.09936198692.\n"
     ]
    },
    {
     "name": "stdout",
     "output_type": "stream",
     "text": [
      "[0]\tval-rmse:74767.76492\n",
      "[50]\tval-rmse:74766.79726\n",
      "[100]\tval-rmse:74765.81177\n",
      "[150]\tval-rmse:74764.82515\n",
      "[199]\tval-rmse:74763.86569\n"
     ]
    },
    {
     "name": "stderr",
     "output_type": "stream",
     "text": [
      "[I 2024-02-26 18:46:52,598] Trial 145 finished with value: 74763.86533821543 and parameters: {'eta': 0.20828295933212274, 'max_depth': 11, 'subsample': 0.5585403410343036, 'colsample_bytree': 0.19300407703598813, 'gamma': 0.5320409314668332, 'alpha': 0.058736892831181636, 'lambda': 0.43085361263664623, 'min_child_weight': 9, 'max_delta_step': 1, 'tree_method': 'approx', 'learning_rate': 0.0355988363661515, 'min_split_loss': 0.04548696020601553, 'max_bin': 190}. Best is trial 116 with value: 19281.09936198692.\n"
     ]
    },
    {
     "name": "stdout",
     "output_type": "stream",
     "text": [
      "[0]\tval-rmse:73027.44048\n",
      "[50]\tval-rmse:22276.86041\n",
      "[100]\tval-rmse:20137.76798\n",
      "[150]\tval-rmse:20137.16881\n",
      "[181]\tval-rmse:20184.02143\n"
     ]
    },
    {
     "name": "stderr",
     "output_type": "stream",
     "text": [
      "[I 2024-02-26 18:46:53,224] Trial 146 finished with value: 20170.395552683087 and parameters: {'eta': 0.19416036767510328, 'max_depth': 11, 'subsample': 0.5866507342454452, 'colsample_bytree': 0.13006126402719267, 'gamma': 0.4807277324267399, 'alpha': 0.020915232766928804, 'lambda': 0.5091247715443805, 'min_child_weight': 8, 'max_delta_step': 0, 'tree_method': 'approx', 'learning_rate': 0.059347546511264074, 'min_split_loss': 0.06664022196451277, 'max_bin': 225}. Best is trial 116 with value: 19281.09936198692.\n"
     ]
    },
    {
     "name": "stdout",
     "output_type": "stream",
     "text": [
      "[0]\tval-rmse:73236.33551\n",
      "[50]\tval-rmse:27111.86709\n",
      "[100]\tval-rmse:21190.71764\n",
      "[150]\tval-rmse:20228.34022\n",
      "[199]\tval-rmse:20077.65384\n"
     ]
    },
    {
     "name": "stderr",
     "output_type": "stream",
     "text": [
      "[I 2024-02-26 18:46:53,961] Trial 147 finished with value: 20077.653866770528 and parameters: {'eta': 0.212500299211149, 'max_depth': 11, 'subsample': 0.5965521918706472, 'colsample_bytree': 0.16010960552111067, 'gamma': 0.48953915868274706, 'alpha': 0.1192946023138931, 'lambda': 0.4364241752391251, 'min_child_weight': 9, 'max_delta_step': 0, 'tree_method': 'approx', 'learning_rate': 0.03724818107744715, 'min_split_loss': 0.08823742988511242, 'max_bin': 206}. Best is trial 116 with value: 19281.09936198692.\n"
     ]
    },
    {
     "name": "stdout",
     "output_type": "stream",
     "text": [
      "[0]\tval-rmse:72810.65062\n",
      "[50]\tval-rmse:24114.82135\n",
      "[100]\tval-rmse:20935.78066\n",
      "[150]\tval-rmse:20508.06214\n",
      "[165]\tval-rmse:20474.59261\n"
     ]
    },
    {
     "name": "stderr",
     "output_type": "stream",
     "text": [
      "[I 2024-02-26 18:46:54,644] Trial 148 finished with value: 20477.11557180725 and parameters: {'eta': 0.2169561018111993, 'max_depth': 11, 'subsample': 0.598253998671473, 'colsample_bytree': 0.16236653599813647, 'gamma': 0.5463933431411356, 'alpha': 0.07044234420132697, 'lambda': 0.40372428502928365, 'min_child_weight': 8, 'max_delta_step': 0, 'tree_method': 'approx', 'learning_rate': 0.04792236298678279, 'min_split_loss': 0.07262293158133848, 'max_bin': 220}. Best is trial 116 with value: 19281.09936198692.\n"
     ]
    },
    {
     "name": "stdout",
     "output_type": "stream",
     "text": [
      "[0]\tval-rmse:73443.91694\n",
      "[50]\tval-rmse:29818.39452\n",
      "[100]\tval-rmse:21601.82207\n",
      "[150]\tval-rmse:19921.55957\n",
      "[199]\tval-rmse:19585.96625\n"
     ]
    },
    {
     "name": "stderr",
     "output_type": "stream",
     "text": [
      "[I 2024-02-26 18:46:55,392] Trial 149 finished with value: 19585.966300627624 and parameters: {'eta': 0.20242942316077428, 'max_depth': 12, 'subsample': 0.564835889273774, 'colsample_bytree': 0.1681940356332226, 'gamma': 0.5034313988197706, 'alpha': 0.13139066051785392, 'lambda': 0.46215783860501203, 'min_child_weight': 9, 'max_delta_step': 0, 'tree_method': 'approx', 'learning_rate': 0.03166300301683199, 'min_split_loss': 0.08951691518366423, 'max_bin': 203}. Best is trial 116 with value: 19281.09936198692.\n"
     ]
    },
    {
     "name": "stdout",
     "output_type": "stream",
     "text": [
      "[0]\tval-rmse:74767.76611\n",
      "[50]\tval-rmse:74766.80222\n",
      "[100]\tval-rmse:74765.81963\n",
      "[150]\tval-rmse:74764.83524\n",
      "[199]\tval-rmse:74763.87632\n"
     ]
    },
    {
     "name": "stderr",
     "output_type": "stream",
     "text": [
      "[I 2024-02-26 18:46:55,791] Trial 150 finished with value: 74763.87594254267 and parameters: {'eta': 0.20261007445064239, 'max_depth': 12, 'subsample': 0.5512514043497996, 'colsample_bytree': 0.17997981026802284, 'gamma': 0.5037348319916874, 'alpha': 0.05337866140785898, 'lambda': 0.45860543818286315, 'min_child_weight': 9, 'max_delta_step': 1, 'tree_method': 'approx', 'learning_rate': 0.03091335615296597, 'min_split_loss': 0.04047066263846083, 'max_bin': 185}. Best is trial 116 with value: 19281.09936198692.\n"
     ]
    },
    {
     "name": "stdout",
     "output_type": "stream",
     "text": [
      "[0]\tval-rmse:73421.05233\n",
      "[50]\tval-rmse:29236.11603\n",
      "[100]\tval-rmse:21380.75656\n",
      "[150]\tval-rmse:19958.54644\n",
      "[199]\tval-rmse:19745.40568\n"
     ]
    },
    {
     "name": "stderr",
     "output_type": "stream",
     "text": [
      "[I 2024-02-26 18:46:56,582] Trial 151 finished with value: 19745.405661752877 and parameters: {'eta': 0.19010999848368376, 'max_depth': 12, 'subsample': 0.572468163941155, 'colsample_bytree': 0.15526863907933086, 'gamma': 0.43563218645551205, 'alpha': 0.13386880570813972, 'lambda': 0.4312021520942349, 'min_child_weight': 9, 'max_delta_step': 0, 'tree_method': 'approx', 'learning_rate': 0.033229919362377895, 'min_split_loss': 0.09153424957258209, 'max_bin': 168}. Best is trial 116 with value: 19281.09936198692.\n"
     ]
    },
    {
     "name": "stdout",
     "output_type": "stream",
     "text": [
      "[0]\tval-rmse:73212.81219\n",
      "[50]\tval-rmse:28251.50402\n",
      "[100]\tval-rmse:20864.79329\n",
      "[150]\tval-rmse:19780.41294\n",
      "[190]\tval-rmse:19663.62782\n"
     ]
    },
    {
     "name": "stderr",
     "output_type": "stream",
     "text": [
      "[I 2024-02-26 18:46:57,350] Trial 152 finished with value: 19668.55102781684 and parameters: {'eta': 0.1879382339056939, 'max_depth': 12, 'subsample': 0.5664816046697883, 'colsample_bytree': 0.1925137922798988, 'gamma': 0.43802382955536945, 'alpha': 0.13915243173546826, 'lambda': 0.51192617905289, 'min_child_weight': 9, 'max_delta_step': 0, 'tree_method': 'approx', 'learning_rate': 0.032787247732103876, 'min_split_loss': 0.08837669820089288, 'max_bin': 200}. Best is trial 116 with value: 19281.09936198692.\n"
     ]
    },
    {
     "name": "stdout",
     "output_type": "stream",
     "text": [
      "[0]\tval-rmse:73190.09447\n",
      "[50]\tval-rmse:28058.69992\n",
      "[100]\tval-rmse:20660.09846\n",
      "[150]\tval-rmse:19651.52679\n",
      "[184]\tval-rmse:19494.66518\n"
     ]
    },
    {
     "name": "stderr",
     "output_type": "stream",
     "text": [
      "[I 2024-02-26 18:46:58,051] Trial 153 finished with value: 19489.54072384805 and parameters: {'eta': 0.19129870787544076, 'max_depth': 12, 'subsample': 0.567151716783706, 'colsample_bytree': 0.19094971491244872, 'gamma': 0.4280629298947527, 'alpha': 0.12881340067970198, 'lambda': 0.5125412004966354, 'min_child_weight': 9, 'max_delta_step': 0, 'tree_method': 'approx', 'learning_rate': 0.03326354851569566, 'min_split_loss': 0.5055157686350708, 'max_bin': 173}. Best is trial 116 with value: 19281.09936198692.\n"
     ]
    },
    {
     "name": "stdout",
     "output_type": "stream",
     "text": [
      "[0]\tval-rmse:73394.55045\n",
      "[50]\tval-rmse:28351.85823\n",
      "[100]\tval-rmse:21237.06110\n",
      "[150]\tval-rmse:20181.85920\n",
      "[185]\tval-rmse:20028.34642\n"
     ]
    },
    {
     "name": "stderr",
     "output_type": "stream",
     "text": [
      "[I 2024-02-26 18:46:58,798] Trial 154 finished with value: 20004.099988305174 and parameters: {'eta': 0.19035310096948788, 'max_depth': 12, 'subsample': 0.5366040664615062, 'colsample_bytree': 0.18244881357530954, 'gamma': 0.42008780705641435, 'alpha': 0.13472148637932488, 'lambda': 0.5247303361817315, 'min_child_weight': 9, 'max_delta_step': 0, 'tree_method': 'approx', 'learning_rate': 0.033876949752345675, 'min_split_loss': 0.5116388640619953, 'max_bin': 161}. Best is trial 116 with value: 19281.09936198692.\n"
     ]
    },
    {
     "name": "stdout",
     "output_type": "stream",
     "text": [
      "[0]\tval-rmse:73531.35237\n",
      "[50]\tval-rmse:26007.04427\n",
      "[100]\tval-rmse:20857.51252\n",
      "[150]\tval-rmse:20071.99205\n",
      "[183]\tval-rmse:20111.87316\n"
     ]
    },
    {
     "name": "stderr",
     "output_type": "stream",
     "text": [
      "[I 2024-02-26 18:46:59,508] Trial 155 finished with value: 20111.873153080407 and parameters: {'eta': 0.22642899774122222, 'max_depth': 12, 'subsample': 0.567214809583402, 'colsample_bytree': 0.14609235161570822, 'gamma': 0.4516065579126524, 'alpha': 0.08373018867922602, 'lambda': 0.48197799069651337, 'min_child_weight': 9, 'max_delta_step': 0, 'tree_method': 'approx', 'learning_rate': 0.0419629231943941, 'min_split_loss': 0.5507188697861607, 'max_bin': 166}. Best is trial 116 with value: 19281.09936198692.\n"
     ]
    },
    {
     "name": "stdout",
     "output_type": "stream",
     "text": [
      "[0]\tval-rmse:72258.63698\n",
      "[50]\tval-rmse:22943.75526\n",
      "[100]\tval-rmse:20494.10136\n",
      "[150]\tval-rmse:20339.18065\n",
      "[187]\tval-rmse:20345.48931\n"
     ]
    },
    {
     "name": "stderr",
     "output_type": "stream",
     "text": [
      "[I 2024-02-26 18:47:00,243] Trial 156 finished with value: 20345.48928745361 and parameters: {'eta': 0.2003663047646145, 'max_depth': 12, 'subsample': 0.6245380770962861, 'colsample_bytree': 0.19711555755570428, 'gamma': 0.4309372732975937, 'alpha': 0.13440923614466324, 'lambda': 0.5507001026518819, 'min_child_weight': 9, 'max_delta_step': 0, 'tree_method': 'approx', 'learning_rate': 0.053430525918783264, 'min_split_loss': 0.47423885777605757, 'max_bin': 200}. Best is trial 116 with value: 19281.09936198692.\n"
     ]
    },
    {
     "name": "stdout",
     "output_type": "stream",
     "text": [
      "[0]\tval-rmse:74767.63213\n",
      "[50]\tval-rmse:74759.24592\n",
      "[100]\tval-rmse:74750.67563\n",
      "[150]\tval-rmse:74742.27749\n",
      "[199]\tval-rmse:74734.10879\n"
     ]
    },
    {
     "name": "stderr",
     "output_type": "stream",
     "text": [
      "[I 2024-02-26 18:47:00,586] Trial 157 finished with value: 74734.10826452718 and parameters: {'eta': 0.18345540242261874, 'max_depth': 13, 'subsample': 0.5235632891983946, 'colsample_bytree': 0.23296280456487978, 'gamma': 0.381565616722524, 'alpha': 0.6413998524487812, 'lambda': 0.41810829255309684, 'min_child_weight': 9, 'max_delta_step': 8, 'tree_method': 'approx', 'learning_rate': 0.03241395990522502, 'min_split_loss': 0.4889149091875817, 'max_bin': 190}. Best is trial 116 with value: 19281.09936198692.\n"
     ]
    },
    {
     "name": "stdout",
     "output_type": "stream",
     "text": [
      "[0]\tval-rmse:73509.45466\n",
      "[50]\tval-rmse:30541.74359\n",
      "[100]\tval-rmse:21864.05429\n",
      "[150]\tval-rmse:20074.96953\n",
      "[199]\tval-rmse:19738.59191\n"
     ]
    },
    {
     "name": "stderr",
     "output_type": "stream",
     "text": [
      "[I 2024-02-26 18:47:01,352] Trial 158 finished with value: 19738.591917294503 and parameters: {'eta': 0.1945838763003805, 'max_depth': 12, 'subsample': 0.5509657830874712, 'colsample_bytree': 0.169763749882244, 'gamma': 0.4016721404713127, 'alpha': 0.08727226469247637, 'lambda': 0.4504864362560145, 'min_child_weight': 9, 'max_delta_step': 0, 'tree_method': 'approx', 'learning_rate': 0.029930592494525038, 'min_split_loss': 0.41320980573730925, 'max_bin': 173}. Best is trial 116 with value: 19281.09936198692.\n"
     ]
    },
    {
     "name": "stdout",
     "output_type": "stream",
     "text": [
      "[0]\tval-rmse:73814.18584\n",
      "[50]\tval-rmse:31417.85200\n",
      "[100]\tval-rmse:22224.01286\n",
      "[150]\tval-rmse:20485.16118\n",
      "[199]\tval-rmse:20298.25942\n"
     ]
    },
    {
     "name": "stderr",
     "output_type": "stream",
     "text": [
      "[I 2024-02-26 18:47:02,033] Trial 159 finished with value: 20298.259442239407 and parameters: {'eta': 0.19281420413394715, 'max_depth': 12, 'subsample': 0.5383985412128514, 'colsample_bytree': 0.12812699322050497, 'gamma': 0.3653271712597358, 'alpha': 0.07553695074860592, 'lambda': 0.45618566679093997, 'min_child_weight': 9, 'max_delta_step': 0, 'tree_method': 'approx', 'learning_rate': 0.030494329265429904, 'min_split_loss': 0.36864324762743644, 'max_bin': 175}. Best is trial 116 with value: 19281.09936198692.\n"
     ]
    },
    {
     "name": "stdout",
     "output_type": "stream",
     "text": [
      "[0]\tval-rmse:71919.39397\n",
      "[50]\tval-rmse:22860.14998\n",
      "[100]\tval-rmse:20831.06063\n",
      "[150]\tval-rmse:20844.91525\n",
      "[153]\tval-rmse:20863.98470\n"
     ]
    },
    {
     "name": "stderr",
     "output_type": "stream",
     "text": [
      "[I 2024-02-26 18:47:02,569] Trial 160 finished with value: 20863.9846588613 and parameters: {'eta': 0.19634213668123526, 'max_depth': 12, 'subsample': 0.5527061384830897, 'colsample_bytree': 0.8765194794361678, 'gamma': 0.46288310588512027, 'alpha': 0.01638827594688569, 'lambda': 0.3926626649276037, 'min_child_weight': 9, 'max_delta_step': 0, 'tree_method': 'hist', 'learning_rate': 0.046325692116770456, 'min_split_loss': 0.4460716198013832, 'max_bin': 145}. Best is trial 116 with value: 19281.09936198692.\n"
     ]
    },
    {
     "name": "stdout",
     "output_type": "stream",
     "text": [
      "[0]\tval-rmse:73200.06748\n",
      "[50]\tval-rmse:26903.69195\n",
      "[100]\tval-rmse:20654.03232\n",
      "[150]\tval-rmse:19814.47878\n",
      "[186]\tval-rmse:19777.38872\n"
     ]
    },
    {
     "name": "stderr",
     "output_type": "stream",
     "text": [
      "[I 2024-02-26 18:47:03,285] Trial 161 finished with value: 19777.388690366544 and parameters: {'eta': 0.2052927886523399, 'max_depth': 12, 'subsample': 0.5737118381997205, 'colsample_bytree': 0.1796633797911947, 'gamma': 0.43027665730126047, 'alpha': 0.09215942075348398, 'lambda': 0.48026003855706756, 'min_child_weight': 9, 'max_delta_step': 0, 'tree_method': 'approx', 'learning_rate': 0.037523603943191965, 'min_split_loss': 0.0607011169756641, 'max_bin': 213}. Best is trial 116 with value: 19281.09936198692.\n"
     ]
    },
    {
     "name": "stdout",
     "output_type": "stream",
     "text": [
      "[0]\tval-rmse:73215.10917\n",
      "[50]\tval-rmse:26889.32676\n",
      "[100]\tval-rmse:21184.60987\n",
      "[150]\tval-rmse:20365.55160\n",
      "[186]\tval-rmse:20282.72677\n"
     ]
    },
    {
     "name": "stderr",
     "output_type": "stream",
     "text": [
      "[I 2024-02-26 18:47:04,011] Trial 162 finished with value: 20282.726750103393 and parameters: {'eta': 0.20779701488652738, 'max_depth': 12, 'subsample': 0.5851093227715412, 'colsample_bytree': 0.155172890649225, 'gamma': 0.4045915124090061, 'alpha': 0.1137998283308029, 'lambda': 0.49136904264912973, 'min_child_weight': 9, 'max_delta_step': 0, 'tree_method': 'approx', 'learning_rate': 0.03806765132884848, 'min_split_loss': 0.09259678256704137, 'max_bin': 215}. Best is trial 116 with value: 19281.09936198692.\n"
     ]
    },
    {
     "name": "stdout",
     "output_type": "stream",
     "text": [
      "[0]\tval-rmse:74767.69354\n",
      "[50]\tval-rmse:74762.85517\n",
      "[100]\tval-rmse:74757.91114\n",
      "[150]\tval-rmse:74753.02798\n",
      "[199]\tval-rmse:74748.25501\n"
     ]
    },
    {
     "name": "stderr",
     "output_type": "stream",
     "text": [
      "[I 2024-02-26 18:47:04,364] Trial 163 finished with value: 74748.25454493597 and parameters: {'eta': 0.18856470167487127, 'max_depth': 13, 'subsample': 0.5662647623860095, 'colsample_bytree': 0.19383109455156752, 'gamma': 0.3606017009670824, 'alpha': 0.14075861302963724, 'lambda': 0.5170480691942819, 'min_child_weight': 9, 'max_delta_step': 4, 'tree_method': 'approx', 'learning_rate': 0.04074672945486865, 'min_split_loss': 0.5490984539652634, 'max_bin': 195}. Best is trial 116 with value: 19281.09936198692.\n"
     ]
    },
    {
     "name": "stdout",
     "output_type": "stream",
     "text": [
      "[0]\tval-rmse:73525.45833\n",
      "[50]\tval-rmse:31542.45317\n",
      "[100]\tval-rmse:22742.12369\n",
      "[150]\tval-rmse:20759.88121\n",
      "[199]\tval-rmse:20335.42539\n"
     ]
    },
    {
     "name": "stderr",
     "output_type": "stream",
     "text": [
      "[I 2024-02-26 18:47:05,120] Trial 164 finished with value: 20335.42538865049 and parameters: {'eta': 0.2047432718749164, 'max_depth': 12, 'subsample': 0.6110376376606375, 'colsample_bytree': 0.17117843276836042, 'gamma': 0.43193984840697364, 'alpha': 0.053774485348236645, 'lambda': 0.4745715498087336, 'min_child_weight': 9, 'max_delta_step': 0, 'tree_method': 'approx', 'learning_rate': 0.02879805841004581, 'min_split_loss': 0.5141435366417522, 'max_bin': 182}. Best is trial 116 with value: 19281.09936198692.\n"
     ]
    },
    {
     "name": "stdout",
     "output_type": "stream",
     "text": [
      "[0]\tval-rmse:73100.50496\n",
      "[50]\tval-rmse:25426.86113\n",
      "[100]\tval-rmse:21416.81971\n",
      "[150]\tval-rmse:20754.61035\n",
      "[184]\tval-rmse:20720.88449\n"
     ]
    },
    {
     "name": "stderr",
     "output_type": "stream",
     "text": [
      "[I 2024-02-26 18:47:05,857] Trial 165 finished with value: 20720.884551448282 and parameters: {'eta': 0.1807716605808806, 'max_depth': 12, 'subsample': 0.6431674898656649, 'colsample_bytree': 0.1407842506038468, 'gamma': 0.4723538633316422, 'alpha': 0.0910377955057934, 'lambda': 0.41758497166608355, 'min_child_weight': 8, 'max_delta_step': 0, 'tree_method': 'approx', 'learning_rate': 0.04401265739322455, 'min_split_loss': 0.06052770222190726, 'max_bin': 234}. Best is trial 116 with value: 19281.09936198692.\n"
     ]
    },
    {
     "name": "stdout",
     "output_type": "stream",
     "text": [
      "[0]\tval-rmse:71348.53695\n",
      "[50]\tval-rmse:22775.24017\n",
      "[100]\tval-rmse:21798.07512\n",
      "[134]\tval-rmse:21997.77852\n"
     ]
    },
    {
     "name": "stderr",
     "output_type": "stream",
     "text": [
      "[I 2024-02-26 18:47:06,371] Trial 166 finished with value: 21997.778562460484 and parameters: {'eta': 0.19836369469331497, 'max_depth': 12, 'subsample': 0.5466721099674834, 'colsample_bytree': 0.22314940385889123, 'gamma': 0.5531232880294068, 'alpha': 0.06614310406923239, 'lambda': 0.441656299923445, 'min_child_weight': 9, 'max_delta_step': 0, 'tree_method': 'exact', 'learning_rate': 0.08219865311917834, 'min_split_loss': 0.8974187770035627, 'max_bin': 211}. Best is trial 116 with value: 19281.09936198692.\n"
     ]
    },
    {
     "name": "stdout",
     "output_type": "stream",
     "text": [
      "[0]\tval-rmse:73284.20583\n",
      "[50]\tval-rmse:27059.54436\n",
      "[100]\tval-rmse:20532.02594\n",
      "[150]\tval-rmse:20014.62141\n",
      "[199]\tval-rmse:19764.83365\n"
     ]
    },
    {
     "name": "stderr",
     "output_type": "stream",
     "text": [
      "[I 2024-02-26 18:47:07,088] Trial 167 finished with value: 19764.833691535885 and parameters: {'eta': 0.1867754149512472, 'max_depth': 12, 'subsample': 0.5214680377099704, 'colsample_bytree': 0.20289719258399952, 'gamma': 0.5244587755298673, 'alpha': 0.17190430962375644, 'lambda': 0.3887684019093876, 'min_child_weight': 9, 'max_delta_step': 0, 'tree_method': 'approx', 'learning_rate': 0.03452441348714471, 'min_split_loss': 0.08575669014352849, 'max_bin': 221}. Best is trial 116 with value: 19281.09936198692.\n"
     ]
    },
    {
     "name": "stdout",
     "output_type": "stream",
     "text": [
      "[0]\tval-rmse:74767.76382\n",
      "[50]\tval-rmse:74766.78671\n",
      "[100]\tval-rmse:74765.78911\n",
      "[150]\tval-rmse:74764.81224\n",
      "[199]\tval-rmse:74763.85224\n"
     ]
    },
    {
     "name": "stderr",
     "output_type": "stream",
     "text": [
      "[I 2024-02-26 18:47:07,466] Trial 168 finished with value: 74763.85176397968 and parameters: {'eta': 0.18617223522596063, 'max_depth': 12, 'subsample': 0.5105585485494517, 'colsample_bytree': 0.20580567262424776, 'gamma': 0.513473830192292, 'alpha': 0.17479745341156183, 'lambda': 0.4498846889473848, 'min_child_weight': 9, 'max_delta_step': 1, 'tree_method': 'approx', 'learning_rate': 0.03370252125724888, 'min_split_loss': 0.1220207508265655, 'max_bin': 224}. Best is trial 116 with value: 19281.09936198692.\n"
     ]
    },
    {
     "name": "stdout",
     "output_type": "stream",
     "text": [
      "[0]\tval-rmse:73468.03670\n",
      "[50]\tval-rmse:29764.27771\n",
      "[100]\tval-rmse:21297.17401\n",
      "[150]\tval-rmse:20014.61610\n",
      "[199]\tval-rmse:19588.97958\n"
     ]
    },
    {
     "name": "stderr",
     "output_type": "stream",
     "text": [
      "[I 2024-02-26 18:47:08,185] Trial 169 finished with value: 19588.979595180117 and parameters: {'eta': 0.17189222844518218, 'max_depth': 11, 'subsample': 0.5959408034166332, 'colsample_bytree': 0.24013546253334178, 'gamma': 0.4425622331810243, 'alpha': 0.12888417664429797, 'lambda': 0.3803148929962481, 'min_child_weight': 9, 'max_delta_step': 0, 'tree_method': 'approx', 'learning_rate': 0.028817736254462364, 'min_split_loss': 0.09636827726479139, 'max_bin': 233}. Best is trial 116 with value: 19281.09936198692.\n"
     ]
    },
    {
     "name": "stdout",
     "output_type": "stream",
     "text": [
      "[0]\tval-rmse:73599.76156\n",
      "[50]\tval-rmse:32854.04333\n",
      "[100]\tval-rmse:22306.64448\n",
      "[150]\tval-rmse:20604.50738\n",
      "[199]\tval-rmse:20187.14768\n"
     ]
    },
    {
     "name": "stderr",
     "output_type": "stream",
     "text": [
      "[I 2024-02-26 18:47:08,915] Trial 170 finished with value: 20187.147708736225 and parameters: {'eta': 0.1741849546858993, 'max_depth': 12, 'subsample': 0.528125954780479, 'colsample_bytree': 0.2409558520158184, 'gamma': 0.4393803817979835, 'alpha': 0.16282823396407156, 'lambda': 0.3715368213741014, 'min_child_weight': 9, 'max_delta_step': 0, 'tree_method': 'approx', 'learning_rate': 0.025350641845053236, 'min_split_loss': 0.5979521354686743, 'max_bin': 226}. Best is trial 116 with value: 19281.09936198692.\n"
     ]
    },
    {
     "name": "stdout",
     "output_type": "stream",
     "text": [
      "[0]\tval-rmse:73481.35408\n",
      "[50]\tval-rmse:31302.00045\n",
      "[100]\tval-rmse:22185.19506\n",
      "[150]\tval-rmse:20202.52148\n",
      "[199]\tval-rmse:19812.11133\n"
     ]
    },
    {
     "name": "stderr",
     "output_type": "stream",
     "text": [
      "[I 2024-02-26 18:47:09,634] Trial 171 finished with value: 19812.111324575075 and parameters: {'eta': 0.1910830246666605, 'max_depth': 11, 'subsample': 0.5992138843906446, 'colsample_bytree': 0.1932074473650254, 'gamma': 0.40770113417819576, 'alpha': 0.12987506568022714, 'lambda': 0.5366659089980247, 'min_child_weight': 9, 'max_delta_step': 0, 'tree_method': 'approx', 'learning_rate': 0.028250880342919185, 'min_split_loss': 0.10073297252911081, 'max_bin': 170}. Best is trial 116 with value: 19281.09936198692.\n"
     ]
    },
    {
     "name": "stdout",
     "output_type": "stream",
     "text": [
      "[0]\tval-rmse:73373.57580\n",
      "[50]\tval-rmse:31004.60541\n",
      "[100]\tval-rmse:22280.33702\n",
      "[150]\tval-rmse:20491.67108\n",
      "[199]\tval-rmse:20076.73965\n"
     ]
    },
    {
     "name": "stderr",
     "output_type": "stream",
     "text": [
      "[I 2024-02-26 18:47:10,325] Trial 172 finished with value: 20076.739630687323 and parameters: {'eta': 0.19561076464217791, 'max_depth': 11, 'subsample': 0.616989261093706, 'colsample_bytree': 0.1924004852271705, 'gamma': 0.4133696016236291, 'alpha': 0.14562725814928315, 'lambda': 0.56744996498845, 'min_child_weight': 9, 'max_delta_step': 0, 'tree_method': 'approx', 'learning_rate': 0.02971564355541975, 'min_split_loss': 0.08975182609367838, 'max_bin': 172}. Best is trial 116 with value: 19281.09936198692.\n"
     ]
    },
    {
     "name": "stdout",
     "output_type": "stream",
     "text": [
      "[0]\tval-rmse:73054.06333\n",
      "[50]\tval-rmse:26517.77159\n",
      "[100]\tval-rmse:20620.56712\n",
      "[150]\tval-rmse:19933.77829\n",
      "[186]\tval-rmse:19842.87230\n"
     ]
    },
    {
     "name": "stderr",
     "output_type": "stream",
     "text": [
      "[I 2024-02-26 18:47:11,038] Trial 173 finished with value: 19887.13743808355 and parameters: {'eta': 0.19080289660918745, 'max_depth': 13, 'subsample': 0.5777289430666639, 'colsample_bytree': 0.22635149012713554, 'gamma': 0.454402504978796, 'alpha': 0.11329202834591114, 'lambda': 0.49835522873604854, 'min_child_weight': 9, 'max_delta_step': 0, 'tree_method': 'approx', 'learning_rate': 0.03626849458088171, 'min_split_loss': 0.11016638772915133, 'max_bin': 158}. Best is trial 116 with value: 19281.09936198692.\n"
     ]
    },
    {
     "name": "stdout",
     "output_type": "stream",
     "text": [
      "[0]\tval-rmse:73449.22805\n",
      "[50]\tval-rmse:30695.02063\n",
      "[100]\tval-rmse:21594.49205\n",
      "[150]\tval-rmse:19819.83902\n",
      "[199]\tval-rmse:19381.07004\n"
     ]
    },
    {
     "name": "stderr",
     "output_type": "stream",
     "text": [
      "[I 2024-02-26 18:47:11,736] Trial 174 finished with value: 19381.07007363895 and parameters: {'eta': 0.21405884901138178, 'max_depth': 11, 'subsample': 0.5991430514673967, 'colsample_bytree': 0.21155751745301005, 'gamma': 0.38378905305129185, 'alpha': 0.18101461942939195, 'lambda': 0.5370821451924888, 'min_child_weight': 9, 'max_delta_step': 0, 'tree_method': 'approx', 'learning_rate': 0.028667678173275795, 'min_split_loss': 0.07676173324691803, 'max_bin': 167}. Best is trial 116 with value: 19281.09936198692.\n"
     ]
    },
    {
     "name": "stdout",
     "output_type": "stream",
     "text": [
      "[0]\tval-rmse:73227.14295\n",
      "[50]\tval-rmse:28259.79776\n",
      "[100]\tval-rmse:21004.07389\n",
      "[150]\tval-rmse:19912.94898\n",
      "[199]\tval-rmse:19757.31173\n"
     ]
    },
    {
     "name": "stderr",
     "output_type": "stream",
     "text": [
      "[I 2024-02-26 18:47:12,451] Trial 175 finished with value: 19757.311697033856 and parameters: {'eta': 0.21499777126596215, 'max_depth': 11, 'subsample': 0.5634068852087426, 'colsample_bytree': 0.20762037184368504, 'gamma': 0.3348143258180066, 'alpha': 0.19104522823319942, 'lambda': 0.46482096377068655, 'min_child_weight': 9, 'max_delta_step': 0, 'tree_method': 'approx', 'learning_rate': 0.03285480681282169, 'min_split_loss': 0.0714798110566847, 'max_bin': 231}. Best is trial 116 with value: 19281.09936198692.\n"
     ]
    },
    {
     "name": "stdout",
     "output_type": "stream",
     "text": [
      "[0]\tval-rmse:73270.07727\n",
      "[50]\tval-rmse:28491.63749\n",
      "[100]\tval-rmse:20836.69629\n",
      "[150]\tval-rmse:19659.36254\n",
      "[187]\tval-rmse:19510.90991\n"
     ]
    },
    {
     "name": "stderr",
     "output_type": "stream",
     "text": [
      "[I 2024-02-26 18:47:13,116] Trial 176 finished with value: 19510.90996783128 and parameters: {'eta': 0.21312836266832608, 'max_depth': 11, 'subsample': 0.5666306700098203, 'colsample_bytree': 0.21281109320474612, 'gamma': 0.334503012092257, 'alpha': 0.18092203347741445, 'lambda': 0.47558917045750493, 'min_child_weight': 9, 'max_delta_step': 0, 'tree_method': 'approx', 'learning_rate': 0.031961497445833556, 'min_split_loss': 0.07651102911091023, 'max_bin': 233}. Best is trial 116 with value: 19281.09936198692.\n"
     ]
    },
    {
     "name": "stdout",
     "output_type": "stream",
     "text": [
      "[0]\tval-rmse:73853.83630\n",
      "[50]\tval-rmse:33998.88053\n",
      "[100]\tval-rmse:23422.51688\n",
      "[150]\tval-rmse:21288.19830\n",
      "[199]\tval-rmse:20550.71309\n"
     ]
    },
    {
     "name": "stderr",
     "output_type": "stream",
     "text": [
      "[I 2024-02-26 18:47:13,828] Trial 177 finished with value: 20550.713114159174 and parameters: {'eta': 0.23804113981572064, 'max_depth': 11, 'subsample': 0.6219374436918186, 'colsample_bytree': 0.24737619096103314, 'gamma': 0.28117300096007125, 'alpha': 0.18342411492496727, 'lambda': 0.6033057610618089, 'min_child_weight': 9, 'max_delta_step': 0, 'tree_method': 'approx', 'learning_rate': 0.024108585138670563, 'min_split_loss': 0.7210176351051226, 'max_bin': 232}. Best is trial 116 with value: 19281.09936198692.\n"
     ]
    },
    {
     "name": "stdout",
     "output_type": "stream",
     "text": [
      "[0]\tval-rmse:73226.52333\n",
      "[50]\tval-rmse:28287.39751\n",
      "[100]\tval-rmse:21239.30117\n",
      "[150]\tval-rmse:20187.57772\n",
      "[199]\tval-rmse:19945.49860\n"
     ]
    },
    {
     "name": "stderr",
     "output_type": "stream",
     "text": [
      "[I 2024-02-26 18:47:14,549] Trial 178 finished with value: 19945.498503178216 and parameters: {'eta': 0.21492998751266496, 'max_depth': 11, 'subsample': 0.5607181249355295, 'colsample_bytree': 0.2110924296092712, 'gamma': 0.3561883676007396, 'alpha': 0.19123067976899363, 'lambda': 0.4349175660759283, 'min_child_weight': 9, 'max_delta_step': 0, 'tree_method': 'approx', 'learning_rate': 0.0328314970083609, 'min_split_loss': 0.08176303900809401, 'max_bin': 196}. Best is trial 116 with value: 19281.09936198692.\n"
     ]
    },
    {
     "name": "stdout",
     "output_type": "stream",
     "text": [
      "[0]\tval-rmse:73589.28192\n",
      "[50]\tval-rmse:31682.03840\n",
      "[100]\tval-rmse:22566.91483\n",
      "[150]\tval-rmse:21071.80696\n",
      "[199]\tval-rmse:20620.70349\n"
     ]
    },
    {
     "name": "stderr",
     "output_type": "stream",
     "text": [
      "[I 2024-02-26 18:47:15,345] Trial 179 finished with value: 20620.703528360973 and parameters: {'eta': 0.21783535376575974, 'max_depth': 11, 'subsample': 0.5990935713776454, 'colsample_bytree': 0.22635698947906438, 'gamma': 0.2879281805408178, 'alpha': 0.16946660304622752, 'lambda': 0.45896778500494895, 'min_child_weight': 4, 'max_delta_step': 0, 'tree_method': 'approx', 'learning_rate': 0.028121636463470472, 'min_split_loss': 0.07858535910887421, 'max_bin': 139}. Best is trial 116 with value: 19281.09936198692.\n"
     ]
    },
    {
     "name": "stdout",
     "output_type": "stream",
     "text": [
      "[0]\tval-rmse:74767.76261\n",
      "[50]\tval-rmse:74766.77694\n",
      "[100]\tval-rmse:74765.76451\n",
      "[150]\tval-rmse:74764.77444\n",
      "[199]\tval-rmse:74763.80113\n"
     ]
    },
    {
     "name": "stderr",
     "output_type": "stream",
     "text": [
      "[I 2024-02-26 18:47:15,763] Trial 180 finished with value: 74763.80064697888 and parameters: {'eta': 0.2248393751045683, 'max_depth': 11, 'subsample': 0.6518905776340482, 'colsample_bytree': 0.2152682731855886, 'gamma': 0.4916399035535589, 'alpha': 0.1546050656685483, 'lambda': 0.38903704943896456, 'min_child_weight': 9, 'max_delta_step': 1, 'tree_method': 'approx', 'learning_rate': 0.03197890574684332, 'min_split_loss': 0.7740461010967181, 'max_bin': 153}. Best is trial 116 with value: 19281.09936198692.\n"
     ]
    },
    {
     "name": "stdout",
     "output_type": "stream",
     "text": [
      "[0]\tval-rmse:73298.78304\n",
      "[50]\tval-rmse:27495.97739\n",
      "[100]\tval-rmse:20649.07254\n",
      "[150]\tval-rmse:19613.39987\n",
      "[185]\tval-rmse:19611.72187\n"
     ]
    },
    {
     "name": "stderr",
     "output_type": "stream",
     "text": [
      "[I 2024-02-26 18:47:16,454] Trial 181 finished with value: 19611.721863074366 and parameters: {'eta': 0.20495504051730348, 'max_depth': 12, 'subsample': 0.5791288114920653, 'colsample_bytree': 0.1802332290560366, 'gamma': 0.3239017817644253, 'alpha': 0.1443849025009249, 'lambda': 0.4775954991018113, 'min_child_weight': 9, 'max_delta_step': 0, 'tree_method': 'approx', 'learning_rate': 0.03531038992125484, 'min_split_loss': 0.06949032987372372, 'max_bin': 219}. Best is trial 116 with value: 19281.09936198692.\n"
     ]
    },
    {
     "name": "stdout",
     "output_type": "stream",
     "text": [
      "[0]\tval-rmse:73442.77341\n",
      "[50]\tval-rmse:27436.15166\n",
      "[100]\tval-rmse:20776.05322\n",
      "[150]\tval-rmse:20046.79950\n",
      "[199]\tval-rmse:19727.06686\n"
     ]
    },
    {
     "name": "stderr",
     "output_type": "stream",
     "text": [
      "[I 2024-02-26 18:47:17,157] Trial 182 finished with value: 19727.066909882687 and parameters: {'eta': 0.2027753002200875, 'max_depth': 11, 'subsample': 0.5801945869064467, 'colsample_bytree': 0.24124261849783593, 'gamma': 0.3231768878801202, 'alpha': 0.1752859179423574, 'lambda': 0.5147024631877284, 'min_child_weight': 9, 'max_delta_step': 0, 'tree_method': 'approx', 'learning_rate': 0.033686772832386, 'min_split_loss': 0.4089259299420821, 'max_bin': 221}. Best is trial 116 with value: 19281.09936198692.\n"
     ]
    },
    {
     "name": "stdout",
     "output_type": "stream",
     "text": [
      "[0]\tval-rmse:73666.52276\n",
      "[50]\tval-rmse:34192.51191\n",
      "[100]\tval-rmse:23461.80385\n",
      "[150]\tval-rmse:21095.41517\n",
      "[199]\tval-rmse:20320.81152\n"
     ]
    },
    {
     "name": "stderr",
     "output_type": "stream",
     "text": [
      "[I 2024-02-26 18:47:17,891] Trial 183 finished with value: 20320.811449387515 and parameters: {'eta': 0.2104670234282636, 'max_depth': 11, 'subsample': 0.584280182608055, 'colsample_bytree': 0.2583397666907664, 'gamma': 0.34371453438430133, 'alpha': 0.19611596439044185, 'lambda': 0.5036685126956135, 'min_child_weight': 9, 'max_delta_step': 0, 'tree_method': 'approx', 'learning_rate': 0.023576542335604717, 'min_split_loss': 0.4082198173367105, 'max_bin': 234}. Best is trial 116 with value: 19281.09936198692.\n"
     ]
    },
    {
     "name": "stdout",
     "output_type": "stream",
     "text": [
      "[0]\tval-rmse:73565.26830\n",
      "[50]\tval-rmse:28932.56445\n",
      "[100]\tval-rmse:21020.83834\n",
      "[150]\tval-rmse:20003.31162\n",
      "[199]\tval-rmse:19675.89423\n"
     ]
    },
    {
     "name": "stderr",
     "output_type": "stream",
     "text": [
      "[I 2024-02-26 18:47:18,637] Trial 184 finished with value: 19675.894222087096 and parameters: {'eta': 0.20110656769646965, 'max_depth': 11, 'subsample': 0.5703678351752077, 'colsample_bytree': 0.23152641500768711, 'gamma': 0.31721577547734375, 'alpha': 0.14780036296482743, 'lambda': 0.5289983512072074, 'min_child_weight': 9, 'max_delta_step': 0, 'tree_method': 'approx', 'learning_rate': 0.03006905227565162, 'min_split_loss': 0.6835607902150971, 'max_bin': 246}. Best is trial 116 with value: 19281.09936198692.\n"
     ]
    },
    {
     "name": "stdout",
     "output_type": "stream",
     "text": [
      "[0]\tval-rmse:73500.27978\n",
      "[50]\tval-rmse:30849.21070\n",
      "[100]\tval-rmse:21821.93247\n",
      "[150]\tval-rmse:20184.12508\n",
      "[199]\tval-rmse:19670.35067\n"
     ]
    },
    {
     "name": "stderr",
     "output_type": "stream",
     "text": [
      "[I 2024-02-26 18:47:19,361] Trial 185 finished with value: 19670.350634703354 and parameters: {'eta': 0.2017019439779983, 'max_depth': 11, 'subsample': 0.606660552992619, 'colsample_bytree': 0.24018907786152444, 'gamma': 0.25917430047768164, 'alpha': 0.14060430708177624, 'lambda': 0.5312421433256598, 'min_child_weight': 9, 'max_delta_step': 0, 'tree_method': 'approx', 'learning_rate': 0.027823199757127923, 'min_split_loss': 0.3624007857658161, 'max_bin': 245}. Best is trial 116 with value: 19281.09936198692.\n"
     ]
    },
    {
     "name": "stdout",
     "output_type": "stream",
     "text": [
      "[0]\tval-rmse:73735.13087\n",
      "[50]\tval-rmse:31573.85091\n",
      "[100]\tval-rmse:22343.29765\n",
      "[150]\tval-rmse:20772.40721\n",
      "[199]\tval-rmse:20295.41260\n"
     ]
    },
    {
     "name": "stderr",
     "output_type": "stream",
     "text": [
      "[I 2024-02-26 18:47:20,130] Trial 186 finished with value: 20295.412652864936 and parameters: {'eta': 0.1980767769106726, 'max_depth': 11, 'subsample': 0.6348628974778812, 'colsample_bytree': 0.23592781924444833, 'gamma': 0.25305606377419665, 'alpha': 0.1458314163376576, 'lambda': 0.5408314295218839, 'min_child_weight': 9, 'max_delta_step': 0, 'tree_method': 'approx', 'learning_rate': 0.026879976755865304, 'min_split_loss': 0.3500736883865717, 'max_bin': 243}. Best is trial 116 with value: 19281.09936198692.\n"
     ]
    },
    {
     "name": "stdout",
     "output_type": "stream",
     "text": [
      "[0]\tval-rmse:73372.41139\n",
      "[50]\tval-rmse:30437.51507\n",
      "[100]\tval-rmse:21669.11017\n",
      "[150]\tval-rmse:20338.59691\n",
      "[199]\tval-rmse:20308.23706\n"
     ]
    },
    {
     "name": "stderr",
     "output_type": "stream",
     "text": [
      "[I 2024-02-26 18:47:20,866] Trial 187 finished with value: 20308.23700800713 and parameters: {'eta': 0.2008829572973331, 'max_depth': 11, 'subsample': 0.601803878494739, 'colsample_bytree': 0.24180694039627038, 'gamma': 0.30465406269729506, 'alpha': 0.12912811199365348, 'lambda': 0.5646425417218063, 'min_child_weight': 9, 'max_delta_step': 0, 'tree_method': 'hist', 'learning_rate': 0.0298309503547098, 'min_split_loss': 0.4368685472038121, 'max_bin': 247}. Best is trial 116 with value: 19281.09936198692.\n"
     ]
    },
    {
     "name": "stdout",
     "output_type": "stream",
     "text": [
      "[0]\tval-rmse:74035.88619\n",
      "[50]\tval-rmse:38850.76517\n",
      "[100]\tval-rmse:25702.87919\n",
      "[150]\tval-rmse:22021.01399\n",
      "[199]\tval-rmse:20721.61599\n"
     ]
    },
    {
     "name": "stderr",
     "output_type": "stream",
     "text": [
      "[I 2024-02-26 18:47:21,602] Trial 188 finished with value: 20721.615946048583 and parameters: {'eta': 0.20389502100479448, 'max_depth': 11, 'subsample': 0.620421885610315, 'colsample_bytree': 0.2652598156647567, 'gamma': 0.319115695377669, 'alpha': 0.17106956461978118, 'lambda': 0.5290662024285939, 'min_child_weight': 9, 'max_delta_step': 0, 'tree_method': 'approx', 'learning_rate': 0.018865252529887185, 'min_split_loss': 0.46499921260245936, 'max_bin': 218}. Best is trial 116 with value: 19281.09936198692.\n"
     ]
    },
    {
     "name": "stdout",
     "output_type": "stream",
     "text": [
      "[0]\tval-rmse:74767.76611\n",
      "[50]\tval-rmse:74766.79697\n",
      "[100]\tval-rmse:74765.81956\n",
      "[150]\tval-rmse:74764.84813\n",
      "[199]\tval-rmse:74763.89383\n"
     ]
    },
    {
     "name": "stderr",
     "output_type": "stream",
     "text": [
      "[I 2024-02-26 18:47:21,986] Trial 189 finished with value: 74763.89341218922 and parameters: {'eta': 0.20924193970741317, 'max_depth': 14, 'subsample': 0.5826611829260812, 'colsample_bytree': 0.17408125887656503, 'gamma': 0.21415380259837358, 'alpha': 0.15698298201097383, 'lambda': 0.5933869856023216, 'min_child_weight': 9, 'max_delta_step': 1, 'tree_method': 'approx', 'learning_rate': 0.024235633178002106, 'min_split_loss': 0.4174061559723483, 'max_bin': 183}. Best is trial 116 with value: 19281.09936198692.\n"
     ]
    },
    {
     "name": "stdout",
     "output_type": "stream",
     "text": [
      "[0]\tval-rmse:73462.12845\n",
      "[50]\tval-rmse:30285.39499\n",
      "[100]\tval-rmse:21810.93863\n",
      "[150]\tval-rmse:20376.54018\n",
      "[199]\tval-rmse:19897.09914\n"
     ]
    },
    {
     "name": "stderr",
     "output_type": "stream",
     "text": [
      "[I 2024-02-26 18:47:22,689] Trial 190 finished with value: 19897.099160867077 and parameters: {'eta': 0.1788444150312926, 'max_depth': 11, 'subsample': 0.6064693424320817, 'colsample_bytree': 0.22435860802101387, 'gamma': 0.2355226646911393, 'alpha': 0.14001740468815654, 'lambda': 0.5101529174467262, 'min_child_weight': 9, 'max_delta_step': 0, 'tree_method': 'approx', 'learning_rate': 0.029056895206682587, 'min_split_loss': 0.29837262821469784, 'max_bin': 257}. Best is trial 116 with value: 19281.09936198692.\n"
     ]
    },
    {
     "name": "stdout",
     "output_type": "stream",
     "text": [
      "[0]\tval-rmse:73038.26997\n",
      "[50]\tval-rmse:26264.16660\n",
      "[100]\tval-rmse:20202.62749\n",
      "[150]\tval-rmse:19472.33628\n",
      "[186]\tval-rmse:19405.31336\n"
     ]
    },
    {
     "name": "stderr",
     "output_type": "stream",
     "text": [
      "[I 2024-02-26 18:47:23,318] Trial 191 finished with value: 19405.313376140213 and parameters: {'eta': 0.20136367218657708, 'max_depth': 11, 'subsample': 0.571260150521405, 'colsample_bytree': 0.19265694086303134, 'gamma': 0.299308261980042, 'alpha': 0.10949780762446837, 'lambda': 0.4893645272528701, 'min_child_weight': 9, 'max_delta_step': 0, 'tree_method': 'approx', 'learning_rate': 0.03636862785063641, 'min_split_loss': 0.38376971325842435, 'max_bin': 205}. Best is trial 116 with value: 19281.09936198692.\n"
     ]
    },
    {
     "name": "stdout",
     "output_type": "stream",
     "text": [
      "[0]\tval-rmse:73348.19382\n",
      "[50]\tval-rmse:28519.02655\n",
      "[100]\tval-rmse:20693.61890\n",
      "[150]\tval-rmse:19571.09273\n",
      "[199]\tval-rmse:19251.91997\n"
     ]
    },
    {
     "name": "stderr",
     "output_type": "stream",
     "text": [
      "[I 2024-02-26 18:47:24,063] Trial 192 finished with value: 19251.91995886111 and parameters: {'eta': 0.20183112706432677, 'max_depth': 11, 'subsample': 0.5740482749808947, 'colsample_bytree': 0.18710431996403096, 'gamma': 0.37969068750603013, 'alpha': 0.45541552381124745, 'lambda': 0.48724690613063715, 'min_child_weight': 9, 'max_delta_step': 0, 'tree_method': 'approx', 'learning_rate': 0.03394218245392183, 'min_split_loss': 0.3820798571114978, 'max_bin': 226}. Best is trial 192 with value: 19251.91995886111.\n"
     ]
    },
    {
     "name": "stdout",
     "output_type": "stream",
     "text": [
      "[0]\tval-rmse:73137.60185\n",
      "[50]\tval-rmse:25906.19042\n",
      "[100]\tval-rmse:20488.44102\n",
      "[150]\tval-rmse:19741.52093\n",
      "[199]\tval-rmse:19573.51695\n"
     ]
    },
    {
     "name": "stderr",
     "output_type": "stream",
     "text": [
      "[I 2024-02-26 18:47:24,801] Trial 193 finished with value: 19573.516970795787 and parameters: {'eta': 0.20018178800422276, 'max_depth': 11, 'subsample': 0.5894057004689793, 'colsample_bytree': 0.18300529207197344, 'gamma': 0.38057892069276333, 'alpha': 0.10409799324515258, 'lambda': 0.48851545050129624, 'min_child_weight': 9, 'max_delta_step': 0, 'tree_method': 'approx', 'learning_rate': 0.038460060386673, 'min_split_loss': 0.37170682929111065, 'max_bin': 222}. Best is trial 192 with value: 19251.91995886111.\n"
     ]
    },
    {
     "name": "stdout",
     "output_type": "stream",
     "text": [
      "[0]\tval-rmse:73117.42448\n",
      "[50]\tval-rmse:26118.42300\n",
      "[100]\tval-rmse:20492.51783\n",
      "[150]\tval-rmse:19899.67933\n",
      "[199]\tval-rmse:19747.58173\n"
     ]
    },
    {
     "name": "stderr",
     "output_type": "stream",
     "text": [
      "[I 2024-02-26 18:47:25,522] Trial 194 finished with value: 19747.58168707958 and parameters: {'eta': 0.22329347426438492, 'max_depth': 11, 'subsample': 0.5937632110390781, 'colsample_bytree': 0.24845160010101447, 'gamma': 0.3756637836118904, 'alpha': 0.5864781872338931, 'lambda': 0.49355862842076004, 'min_child_weight': 9, 'max_delta_step': 0, 'tree_method': 'approx', 'learning_rate': 0.03668318265493675, 'min_split_loss': 0.36190240671575336, 'max_bin': 225}. Best is trial 192 with value: 19251.91995886111.\n"
     ]
    },
    {
     "name": "stdout",
     "output_type": "stream",
     "text": [
      "[0]\tval-rmse:74767.66735\n",
      "[50]\tval-rmse:74761.35377\n",
      "[100]\tval-rmse:74754.87369\n",
      "[150]\tval-rmse:74748.46979\n",
      "[199]\tval-rmse:74742.20709\n"
     ]
    },
    {
     "name": "stderr",
     "output_type": "stream",
     "text": [
      "[I 2024-02-26 18:47:25,895] Trial 195 finished with value: 74742.20671091187 and parameters: {'eta': 0.20457354935710287, 'max_depth': 11, 'subsample': 0.5841988272737046, 'colsample_bytree': 0.21292399786283203, 'gamma': 0.30979206364581835, 'alpha': 0.4930537579513616, 'lambda': 0.5463475785225053, 'min_child_weight': 9, 'max_delta_step': 5, 'tree_method': 'approx', 'learning_rate': 0.03950080407553048, 'min_split_loss': 0.38303517624093014, 'max_bin': 209}. Best is trial 192 with value: 19251.91995886111.\n"
     ]
    },
    {
     "name": "stdout",
     "output_type": "stream",
     "text": [
      "[0]\tval-rmse:73255.00071\n",
      "[50]\tval-rmse:27624.10399\n",
      "[100]\tval-rmse:21314.79569\n",
      "[150]\tval-rmse:20290.51996\n",
      "[185]\tval-rmse:20186.79360\n"
     ]
    },
    {
     "name": "stderr",
     "output_type": "stream",
     "text": [
      "[I 2024-02-26 18:47:26,614] Trial 196 finished with value: 20177.074955792097 and parameters: {'eta': 0.20193642066651762, 'max_depth': 11, 'subsample': 0.6107357063036534, 'colsample_bytree': 0.18826068852827033, 'gamma': 0.33414540190934156, 'alpha': 0.1120363278025162, 'lambda': 0.5212455458303917, 'min_child_weight': 9, 'max_delta_step': 0, 'tree_method': 'approx', 'learning_rate': 0.03529022875738658, 'min_split_loss': 0.3158822028095552, 'max_bin': 236}. Best is trial 192 with value: 19251.91995886111.\n"
     ]
    },
    {
     "name": "stdout",
     "output_type": "stream",
     "text": [
      "[0]\tval-rmse:67641.03315\n",
      "[50]\tval-rmse:23432.93903\n",
      "[63]\tval-rmse:23890.07657\n"
     ]
    },
    {
     "name": "stderr",
     "output_type": "stream",
     "text": [
      "[I 2024-02-26 18:47:26,868] Trial 197 finished with value: 23890.076627041733 and parameters: {'eta': 0.21053696748040224, 'max_depth': 11, 'subsample': 0.638864112383654, 'colsample_bytree': 0.22707187265788145, 'gamma': 0.28421521229118574, 'alpha': 0.21916540352226319, 'lambda': 0.48620153012969763, 'min_child_weight': 9, 'max_delta_step': 0, 'tree_method': 'approx', 'learning_rate': 0.15561553839277886, 'min_split_loss': 0.39530402138502946, 'max_bin': 217}. Best is trial 192 with value: 19251.91995886111.\n"
     ]
    },
    {
     "name": "stdout",
     "output_type": "stream",
     "text": [
      "[0]\tval-rmse:70093.63838\n",
      "[50]\tval-rmse:22448.23796\n",
      "[97]\tval-rmse:21817.30770\n"
     ]
    },
    {
     "name": "stderr",
     "output_type": "stream",
     "text": [
      "[I 2024-02-26 18:47:27,219] Trial 198 finished with value: 21841.90659779551 and parameters: {'eta': 0.19809526453923001, 'max_depth': 11, 'subsample': 0.5687418697508843, 'colsample_bytree': 0.20245803359704195, 'gamma': 0.3836807844866327, 'alpha': 0.4229770265718623, 'lambda': 0.5241921536293922, 'min_child_weight': 9, 'max_delta_step': 0, 'tree_method': 'exact', 'learning_rate': 0.11637044988856088, 'min_split_loss': 0.689646665600057, 'max_bin': 227}. Best is trial 192 with value: 19251.91995886111.\n"
     ]
    },
    {
     "name": "stdout",
     "output_type": "stream",
     "text": [
      "[0]\tval-rmse:73689.42045\n",
      "[50]\tval-rmse:33471.24377\n",
      "[100]\tval-rmse:23051.85823\n",
      "[150]\tval-rmse:20876.26053\n",
      "[199]\tval-rmse:20386.18453\n"
     ]
    },
    {
     "name": "stderr",
     "output_type": "stream",
     "text": [
      "[I 2024-02-26 18:47:27,988] Trial 199 finished with value: 20386.184505629655 and parameters: {'eta': 0.23161394665794338, 'max_depth': 11, 'subsample': 0.6221646022998276, 'colsample_bytree': 0.18258121945355305, 'gamma': 0.3408519375441892, 'alpha': 0.6967840043531114, 'lambda': 0.4739127793583613, 'min_child_weight': 8, 'max_delta_step': 0, 'tree_method': 'approx', 'learning_rate': 0.025984498281458372, 'min_split_loss': 0.36732189720553166, 'max_bin': 201}. Best is trial 192 with value: 19251.91995886111.\n"
     ]
    }
   ],
   "source": [
    "var_n_trials = var_n_boost_round\n",
    "\n",
    "# Create Optuna study and optimize the objective function\n",
    "# Change the direction to 'minimize' since we want to minimize the RMSE\n",
    "study = optuna.create_study(direction='minimize')\n",
    "study.optimize(objective, n_trials=var_n_trials)\n",
    "\n",
    "# Get the best hyperparameters and best RMSE score\n",
    "best_params = study.best_params\n",
    "best_score = study.best_value  # This will be the lowest RMSE achieved\n",
    "\n"
   ]
  },
  {
   "cell_type": "code",
   "execution_count": 63,
   "id": "91730f36",
   "metadata": {},
   "outputs": [],
   "source": [
    "# Train the best model with all the training data and the best hyperparameters\n",
    "best_trial = study.best_trial\n",
    "best_params = best_trial.params\n",
    "\n",
    "# Ensure that the 'objective' and 'eval_metric' are set correctly for regression\n",
    "best_params['objective'] = 'reg:squarederror'\n",
    "best_params['eval_metric'] = 'rmse'\n",
    "\n",
    "best_model = xgb.train(best_params, D_train, num_boost_round=var_n_boost_round)\n"
   ]
  },
  {
   "cell_type": "code",
   "execution_count": 64,
   "id": "7c7a6db7",
   "metadata": {},
   "outputs": [
    {
     "name": "stdout",
     "output_type": "stream",
     "text": [
      "{'eta': 0.20183112706432677, 'max_depth': 11, 'subsample': 0.5740482749808947, 'colsample_bytree': 0.18710431996403096, 'gamma': 0.37969068750603013, 'alpha': 0.45541552381124745, 'lambda': 0.48724690613063715, 'min_child_weight': 9, 'max_delta_step': 0, 'tree_method': 'approx', 'learning_rate': 0.03394218245392183, 'min_split_loss': 0.3820798571114978, 'max_bin': 226, 'objective': 'reg:squarederror', 'eval_metric': 'rmse'}\n"
     ]
    }
   ],
   "source": [
    "# show the best parameters\n",
    "print(best_params)"
   ]
  },
  {
   "cell_type": "code",
   "execution_count": 65,
   "id": "1d9ab1d6",
   "metadata": {},
   "outputs": [
    {
     "name": "stdout",
     "output_type": "stream",
     "text": [
      "Test RMSE: 21580.4826\n",
      "Test MAE: 14452.4596\n",
      "Test R-squared: 0.9166\n"
     ]
    }
   ],
   "source": [
    "\n",
    "# Evaluate the best model on the test data\n",
    "y_pred = best_model.predict(D_test)\n",
    "\n",
    "# Calculate RMSE\n",
    "rmse = root_mean_squared_error(y_test, y_pred)\n",
    "print(f'Test RMSE: {rmse:.4f}')\n",
    "\n",
    "# Calculate MAE\n",
    "mae = mean_absolute_error(y_test, y_pred)\n",
    "print(f'Test MAE: {mae:.4f}')\n",
    "\n",
    "# Calculate R-squared\n",
    "r2 = r2_score(y_test, y_pred)\n",
    "print(f'Test R-squared: {r2:.4f}')\n"
   ]
  },
  {
   "cell_type": "markdown",
   "id": "d16c7cfe-31a0-43a9-a835-c84fedcde20a",
   "metadata": {},
   "source": [
    "In this code:\n",
    "\n",
    "mean_squared_error is used with squared=False to calculate the RMSE, which is a common metric for regression that measures the average magnitude of the errors in a set of predictions, without considering their direction.\n",
    "\n",
    "mean_absolute_error calculates the MAE, which is the average of the absolute differences between predicted values and actual values.\n",
    "\n",
    "r2_score computes the R-squared (coefficient of determination), which is a statistical measure of how well the regression predictions approximate the real data points.\n",
    "\n",
    "These metrics are more appropriate for evaluating the performance of a regression model."
   ]
  },
  {
   "cell_type": "code",
   "execution_count": 66,
   "id": "858454e5",
   "metadata": {
    "scrolled": true
   },
   "outputs": [],
   "source": [
    "import pickle\n",
    "# set the path for the pickel file\n",
    "path_model = var_path_model + var_model_name_full + \"_model_stored.pkl\"\n",
    "path_model_json = var_path_model + var_model_name_full + \"_model_stored.json\"\n",
    "# Save object as pickle file\n",
    "pickle.dump(best_model, open(path_model, 'wb'), pickle.HIGHEST_PROTOCOL)\n",
    "\n",
    "best_model.save_model(path_model_json)"
   ]
  },
  {
   "cell_type": "code",
   "execution_count": 67,
   "id": "1b08c26c",
   "metadata": {},
   "outputs": [],
   "source": [
    "# Assuming 'var_path_model' is the directory and 'var_model_name_full' is the filename prefix\n",
    "# Ensure these variables are defined and the directory exists\n",
    "\n",
    "# Path for Image\n",
    "var_path_opt_history_png = var_path_model + var_model_name_full + \"_opt_history.png\"\n",
    "var_path_param_importances_png = var_path_model + var_model_name_full + \"_param_importances.png\"\n",
    "\n",
    "# Plot the optimization history and save to a file\n",
    "fig_history = plot_optimization_history(study)\n",
    "fig_history.write_image(var_path_opt_history_png)  # Requires 'kaleido' package to export static images\n",
    "\n",
    "# Plot the hyperparameter importances and save to a file\n",
    "fig_importances = plot_param_importances(study)\n",
    "fig_importances.write_image(var_path_param_importances_png)  # Requires 'kaleido' package to export static images\n"
   ]
  },
  {
   "cell_type": "code",
   "execution_count": 68,
   "id": "f02b99e5",
   "metadata": {},
   "outputs": [],
   "source": [
    "# Path for Image\n",
    "var_path_param_importances_png = var_path_model + var_model_name_full + \"_param_importances.png\"\n",
    "\n",
    "# Plot the hyperparameter importances and save to a file\n",
    "fig_para = plot_param_importances(study)\n",
    "fig_para.write_image(var_path_param_importances_png)\n",
    "\n",
    "# Plot the hyperparameter importances - this pictures might get large so maybe look at them in the PNG file\n",
    "# plot_param_importances(study)"
   ]
  },
  {
   "cell_type": "code",
   "execution_count": 69,
   "id": "90e278e1",
   "metadata": {},
   "outputs": [],
   "source": [
    "# Get feature importance based on weight\n",
    "importance_type = 'weight'\n",
    "scores_weight = best_model.get_score(importance_type=importance_type)\n",
    "\n",
    "# Get feature importance based on gain\n",
    "importance_type = 'gain'\n",
    "scores_gain = best_model.get_score(importance_type=importance_type)\n",
    "\n",
    "# Get feature importance based on cover\n",
    "importance_type = 'cover'\n",
    "scores_cover = best_model.get_score(importance_type=importance_type)\n",
    "\n",
    "# Create a pandas dataframe with feature importance information\n",
    "# Ensure all features are represented in each importance type\n",
    "all_features = set(scores_weight.keys()) | set(scores_gain.keys()) | set(scores_cover.keys())\n",
    "feature_imp = pd.DataFrame({\n",
    "    'Feature': list(all_features),\n",
    "    'Weight': [scores_weight.get(f, 0) for f in all_features],\n",
    "    'Gain': [scores_gain.get(f, 0) for f in all_features],\n",
    "    'Cover': [scores_cover.get(f, 0) for f in all_features]\n",
    "})\n",
    "\n",
    "# Now the DataFrame 'feature_imp' contains all features with their respective importance scores\n"
   ]
  },
  {
   "cell_type": "markdown",
   "id": "8e6264a6",
   "metadata": {},
   "source": [
    "ChatGPT says: In a machine learning model that uses decision trees, feature importance measures help us to understand which features have the greatest impact on the model's predictions. Here are explanations of the three feature importance measures used in the code you provided:\n",
    "\n",
    "**Weight**: The weight of a feature is the number of times it is used to split the data across all trees in the ensemble model. Features with higher weight values are more important because they are used more frequently to make decisions and split the data.\n",
    "\n",
    "**Gain**: The gain of a feature measures the improvement in the model's performance that results from splitting the data based on that feature. Specifically, the gain of a feature is calculated by summing the reduction in impurity (e.g., entropy or Gini index) that results from splitting the data on that feature over all trees in the ensemble. Features with higher gain values are more important because they contribute more to the model's ability to distinguish between classes.\n",
    "\n",
    "**Cover**: The cover of a feature is the average number of samples that pass through the splits that use that feature. Features with higher cover values are more important because they have a greater influence on the model's predictions by affecting a larger number of samples.\n",
    "\n",
    "By considering all three feature importance measures, the code you provided is able to obtain a more comprehensive ranking of feature importance that takes into account different aspects of the decision-making process in the model."
   ]
  },
  {
   "cell_type": "code",
   "execution_count": 70,
   "id": "eb093ae6",
   "metadata": {},
   "outputs": [],
   "source": [
    "# Assuming feature_imp is already defined as per previous steps\n",
    "\n",
    "# Calculate the average importance rank across all methods\n",
    "feature_imp['Feature_Rank'] = feature_imp[['Weight', 'Gain', 'Cover']].rank(method='min', ascending=False).mean(axis=1)\n",
    "\n",
    "# Sort the DataFrame by the average rank\n",
    "feature_imp = feature_imp.sort_values(by='Feature_Rank', ascending=True, na_position='last')\n",
    "\n",
    "# Reset the index to get the final ranking\n",
    "feature_imp = feature_imp.reset_index(drop=True)\n",
    "\n",
    "# Assign the new rank as a column\n",
    "feature_imp['Feature_Rank'] = feature_imp.index + 1  # Adding 1 so that ranks start from 1 instead of 0\n",
    "\n",
    "# Now feature_imp DataFrame will have the features sorted by their average importance rank\n",
    "\n"
   ]
  },
  {
   "cell_type": "code",
   "execution_count": 71,
   "id": "9a44784d",
   "metadata": {
    "scrolled": true
   },
   "outputs": [
    {
     "data": {
      "text/html": [
       "<div>\n",
       "<style scoped>\n",
       "    .dataframe tbody tr th:only-of-type {\n",
       "        vertical-align: middle;\n",
       "    }\n",
       "\n",
       "    .dataframe tbody tr th {\n",
       "        vertical-align: top;\n",
       "    }\n",
       "\n",
       "    .dataframe thead th {\n",
       "        text-align: right;\n",
       "    }\n",
       "</style>\n",
       "<table border=\"1\" class=\"dataframe\">\n",
       "  <thead>\n",
       "    <tr style=\"text-align: right;\">\n",
       "      <th></th>\n",
       "      <th>Feature</th>\n",
       "      <th>Weight</th>\n",
       "      <th>Gain</th>\n",
       "      <th>Cover</th>\n",
       "      <th>Feature_Rank</th>\n",
       "    </tr>\n",
       "  </thead>\n",
       "  <tbody>\n",
       "    <tr>\n",
       "      <th>0</th>\n",
       "      <td>OverallQual</td>\n",
       "      <td>112.0</td>\n",
       "      <td>2.106373e+10</td>\n",
       "      <td>225.553574</td>\n",
       "      <td>1</td>\n",
       "    </tr>\n",
       "    <tr>\n",
       "      <th>1</th>\n",
       "      <td>Neighborhood</td>\n",
       "      <td>215.0</td>\n",
       "      <td>1.716206e+10</td>\n",
       "      <td>133.693024</td>\n",
       "      <td>2</td>\n",
       "    </tr>\n",
       "    <tr>\n",
       "      <th>2</th>\n",
       "      <td>GrLivArea</td>\n",
       "      <td>271.0</td>\n",
       "      <td>2.451592e+10</td>\n",
       "      <td>121.697418</td>\n",
       "      <td>3</td>\n",
       "    </tr>\n",
       "    <tr>\n",
       "      <th>3</th>\n",
       "      <td>BsmtQual</td>\n",
       "      <td>62.0</td>\n",
       "      <td>5.143099e+10</td>\n",
       "      <td>172.516129</td>\n",
       "      <td>4</td>\n",
       "    </tr>\n",
       "    <tr>\n",
       "      <th>4</th>\n",
       "      <td>2ndFlrSF</td>\n",
       "      <td>167.0</td>\n",
       "      <td>1.272660e+10</td>\n",
       "      <td>145.299408</td>\n",
       "      <td>5</td>\n",
       "    </tr>\n",
       "    <tr>\n",
       "      <th>5</th>\n",
       "      <td>TotalBsmtSF</td>\n",
       "      <td>337.0</td>\n",
       "      <td>1.052987e+10</td>\n",
       "      <td>120.041542</td>\n",
       "      <td>6</td>\n",
       "    </tr>\n",
       "    <tr>\n",
       "      <th>6</th>\n",
       "      <td>FullBath</td>\n",
       "      <td>81.0</td>\n",
       "      <td>2.531120e+10</td>\n",
       "      <td>157.827164</td>\n",
       "      <td>7</td>\n",
       "    </tr>\n",
       "    <tr>\n",
       "      <th>7</th>\n",
       "      <td>ExterQual</td>\n",
       "      <td>36.0</td>\n",
       "      <td>7.777717e+10</td>\n",
       "      <td>260.972229</td>\n",
       "      <td>8</td>\n",
       "    </tr>\n",
       "    <tr>\n",
       "      <th>8</th>\n",
       "      <td>BsmtFinSF1</td>\n",
       "      <td>286.0</td>\n",
       "      <td>1.459229e+10</td>\n",
       "      <td>110.356644</td>\n",
       "      <td>9</td>\n",
       "    </tr>\n",
       "    <tr>\n",
       "      <th>9</th>\n",
       "      <td>KitchenQual</td>\n",
       "      <td>54.0</td>\n",
       "      <td>3.542064e+10</td>\n",
       "      <td>170.611115</td>\n",
       "      <td>10</td>\n",
       "    </tr>\n",
       "    <tr>\n",
       "      <th>10</th>\n",
       "      <td>BsmtExposure</td>\n",
       "      <td>62.0</td>\n",
       "      <td>9.050335e+09</td>\n",
       "      <td>172.290329</td>\n",
       "      <td>11</td>\n",
       "    </tr>\n",
       "    <tr>\n",
       "      <th>11</th>\n",
       "      <td>GarageCars</td>\n",
       "      <td>43.0</td>\n",
       "      <td>4.287058e+10</td>\n",
       "      <td>186.186050</td>\n",
       "      <td>12</td>\n",
       "    </tr>\n",
       "    <tr>\n",
       "      <th>12</th>\n",
       "      <td>TotRmsAbvGrd</td>\n",
       "      <td>131.0</td>\n",
       "      <td>8.823766e+09</td>\n",
       "      <td>127.694656</td>\n",
       "      <td>13</td>\n",
       "    </tr>\n",
       "    <tr>\n",
       "      <th>13</th>\n",
       "      <td>1stFlrSF</td>\n",
       "      <td>272.0</td>\n",
       "      <td>5.923152e+09</td>\n",
       "      <td>123.404411</td>\n",
       "      <td>14</td>\n",
       "    </tr>\n",
       "    <tr>\n",
       "      <th>14</th>\n",
       "      <td>OpenPorchSF</td>\n",
       "      <td>191.0</td>\n",
       "      <td>5.770434e+09</td>\n",
       "      <td>100.722511</td>\n",
       "      <td>15</td>\n",
       "    </tr>\n",
       "    <tr>\n",
       "      <th>15</th>\n",
       "      <td>GarageArea</td>\n",
       "      <td>348.0</td>\n",
       "      <td>5.861630e+09</td>\n",
       "      <td>84.594826</td>\n",
       "      <td>16</td>\n",
       "    </tr>\n",
       "    <tr>\n",
       "      <th>16</th>\n",
       "      <td>RoofMatl</td>\n",
       "      <td>6.0</td>\n",
       "      <td>7.875321e+09</td>\n",
       "      <td>461.166656</td>\n",
       "      <td>17</td>\n",
       "    </tr>\n",
       "    <tr>\n",
       "      <th>17</th>\n",
       "      <td>MasVnrArea</td>\n",
       "      <td>98.0</td>\n",
       "      <td>7.706280e+09</td>\n",
       "      <td>112.877548</td>\n",
       "      <td>18</td>\n",
       "    </tr>\n",
       "    <tr>\n",
       "      <th>18</th>\n",
       "      <td>Fireplaces</td>\n",
       "      <td>50.0</td>\n",
       "      <td>7.219790e+09</td>\n",
       "      <td>142.399994</td>\n",
       "      <td>19</td>\n",
       "    </tr>\n",
       "    <tr>\n",
       "      <th>19</th>\n",
       "      <td>LotArea</td>\n",
       "      <td>245.0</td>\n",
       "      <td>3.874337e+09</td>\n",
       "      <td>104.644897</td>\n",
       "      <td>20</td>\n",
       "    </tr>\n",
       "    <tr>\n",
       "      <th>20</th>\n",
       "      <td>LotFrontage</td>\n",
       "      <td>287.0</td>\n",
       "      <td>4.167869e+09</td>\n",
       "      <td>87.968643</td>\n",
       "      <td>21</td>\n",
       "    </tr>\n",
       "    <tr>\n",
       "      <th>21</th>\n",
       "      <td>OverallCond</td>\n",
       "      <td>120.0</td>\n",
       "      <td>2.265713e+09</td>\n",
       "      <td>157.108337</td>\n",
       "      <td>22</td>\n",
       "    </tr>\n",
       "    <tr>\n",
       "      <th>22</th>\n",
       "      <td>ScreenPorch</td>\n",
       "      <td>20.0</td>\n",
       "      <td>3.023427e+09</td>\n",
       "      <td>282.750000</td>\n",
       "      <td>23</td>\n",
       "    </tr>\n",
       "    <tr>\n",
       "      <th>23</th>\n",
       "      <td>GarageYrBlt</td>\n",
       "      <td>285.0</td>\n",
       "      <td>3.942197e+09</td>\n",
       "      <td>86.368423</td>\n",
       "      <td>24</td>\n",
       "    </tr>\n",
       "    <tr>\n",
       "      <th>24</th>\n",
       "      <td>Exterior1st</td>\n",
       "      <td>124.0</td>\n",
       "      <td>2.432411e+09</td>\n",
       "      <td>127.016129</td>\n",
       "      <td>25</td>\n",
       "    </tr>\n",
       "  </tbody>\n",
       "</table>\n",
       "</div>"
      ],
      "text/plain": [
       "         Feature  Weight          Gain       Cover  Feature_Rank\n",
       "0    OverallQual   112.0  2.106373e+10  225.553574             1\n",
       "1   Neighborhood   215.0  1.716206e+10  133.693024             2\n",
       "2      GrLivArea   271.0  2.451592e+10  121.697418             3\n",
       "3       BsmtQual    62.0  5.143099e+10  172.516129             4\n",
       "4       2ndFlrSF   167.0  1.272660e+10  145.299408             5\n",
       "5    TotalBsmtSF   337.0  1.052987e+10  120.041542             6\n",
       "6       FullBath    81.0  2.531120e+10  157.827164             7\n",
       "7      ExterQual    36.0  7.777717e+10  260.972229             8\n",
       "8     BsmtFinSF1   286.0  1.459229e+10  110.356644             9\n",
       "9    KitchenQual    54.0  3.542064e+10  170.611115            10\n",
       "10  BsmtExposure    62.0  9.050335e+09  172.290329            11\n",
       "11    GarageCars    43.0  4.287058e+10  186.186050            12\n",
       "12  TotRmsAbvGrd   131.0  8.823766e+09  127.694656            13\n",
       "13      1stFlrSF   272.0  5.923152e+09  123.404411            14\n",
       "14   OpenPorchSF   191.0  5.770434e+09  100.722511            15\n",
       "15    GarageArea   348.0  5.861630e+09   84.594826            16\n",
       "16      RoofMatl     6.0  7.875321e+09  461.166656            17\n",
       "17    MasVnrArea    98.0  7.706280e+09  112.877548            18\n",
       "18    Fireplaces    50.0  7.219790e+09  142.399994            19\n",
       "19       LotArea   245.0  3.874337e+09  104.644897            20\n",
       "20   LotFrontage   287.0  4.167869e+09   87.968643            21\n",
       "21   OverallCond   120.0  2.265713e+09  157.108337            22\n",
       "22   ScreenPorch    20.0  3.023427e+09  282.750000            23\n",
       "23   GarageYrBlt   285.0  3.942197e+09   86.368423            24\n",
       "24   Exterior1st   124.0  2.432411e+09  127.016129            25"
      ]
     },
     "execution_count": 71,
     "metadata": {},
     "output_type": "execute_result"
    }
   ],
   "source": [
    "feature_imp.head(25)"
   ]
  },
  {
   "cell_type": "code",
   "execution_count": 72,
   "id": "3ec7ba0b",
   "metadata": {},
   "outputs": [],
   "source": [
    "feature_imp.to_parquet(var_path_model + var_model_name_full + \"_feature_importance.parquet\", compression='gzip')"
   ]
  },
  {
   "cell_type": "code",
   "execution_count": 73,
   "id": "0d004e1f",
   "metadata": {
    "scrolled": true
   },
   "outputs": [
    {
     "data": {
      "text/plain": [
       "numpy.ndarray"
      ]
     },
     "execution_count": 73,
     "metadata": {},
     "output_type": "execute_result"
    }
   ],
   "source": [
    "type(y_pred)"
   ]
  },
  {
   "cell_type": "code",
   "execution_count": 74,
   "id": "873e723f",
   "metadata": {
    "scrolled": true
   },
   "outputs": [],
   "source": [
    "# store the variales list as dictionary in a JSON file to read back later\n",
    "\n",
    "v_variable_list = {\n",
    "    \"var_model_name\": var_model_name,\n",
    "    \"var_model_name_full\": var_model_name_full,\n",
    "    \"num_cols\": num_cols,\n",
    "    \"cat_cols\": cat_cols,\n",
    "    \"rest_cols\": rest_cols,\n",
    "    \"label\": label,\n",
    "    \"features\": features,\n",
    "    \"excluded_features\": excluded_features,\n",
    "    \"Test_RMSE\": f'{rmse:.5f}',\n",
    "    \"Test_MAE\": f'{mae:.5f}',\n",
    "    \"Test_R2\": f'{r2:.5f}'\n",
    "}\n"
   ]
  },
  {
   "cell_type": "code",
   "execution_count": 75,
   "id": "802c0b03",
   "metadata": {},
   "outputs": [
    {
     "name": "stdout",
     "output_type": "stream",
     "text": [
      "{'var_model_name': 'XGBoost_Optuna_Regression', 'var_model_name_full': 'XGBoost_Optuna_Regression_20240226_1814h_jupyter', 'num_cols': ['MSSubClass', 'LotFrontage', 'LotArea', 'OverallQual', 'OverallCond', 'YearBuilt', 'YearRemodAdd', 'MasVnrArea', 'BsmtFinSF1', 'BsmtFinSF2', 'BsmtUnfSF', 'TotalBsmtSF', '1stFlrSF', '2ndFlrSF', 'LowQualFinSF', 'GrLivArea', 'BsmtFullBath', 'BsmtHalfBath', 'FullBath', 'HalfBath', 'BedroomAbvGr', 'KitchenAbvGr', 'TotRmsAbvGrd', 'Fireplaces', 'GarageYrBlt', 'GarageCars', 'GarageArea', 'WoodDeckSF', 'OpenPorchSF', 'EnclosedPorch', '3SsnPorch', 'ScreenPorch', 'PoolArea', 'MiscVal', 'MoSold', 'YrSold'], 'cat_cols': ['MSZoning', 'Street', 'Alley', 'LotShape', 'LandContour', 'Utilities', 'LotConfig', 'LandSlope', 'Neighborhood', 'Condition1', 'Condition2', 'BldgType', 'HouseStyle', 'RoofStyle', 'RoofMatl', 'Exterior1st', 'Exterior2nd', 'MasVnrType', 'ExterQual', 'ExterCond', 'Foundation', 'BsmtQual', 'BsmtCond', 'BsmtExposure', 'BsmtFinType1', 'BsmtFinType2', 'Heating', 'HeatingQC', 'CentralAir', 'Electrical', 'KitchenQual', 'Functional', 'FireplaceQu', 'GarageType', 'GarageFinish', 'GarageQual', 'GarageCond', 'PavedDrive', 'PoolQC', 'Fence', 'MiscFeature', 'SaleType', 'SaleCondition'], 'rest_cols': ['MSSubClass', 'LotFrontage', 'LotArea', 'OverallQual', 'OverallCond', 'YearBuilt', 'YearRemodAdd', 'MasVnrArea', 'BsmtFinSF1', 'BsmtFinSF2', 'BsmtUnfSF', 'TotalBsmtSF', '1stFlrSF', '2ndFlrSF', 'LowQualFinSF', 'GrLivArea', 'BsmtFullBath', 'BsmtHalfBath', 'FullBath', 'HalfBath', 'BedroomAbvGr', 'KitchenAbvGr', 'TotRmsAbvGrd', 'Fireplaces', 'GarageYrBlt', 'GarageCars', 'GarageArea', 'WoodDeckSF', 'OpenPorchSF', 'EnclosedPorch', '3SsnPorch', 'ScreenPorch', 'PoolArea', 'MiscVal', 'MoSold', 'YrSold', 'Target'], 'label': ['Target'], 'features': ['MSSubClass', 'MSZoning', 'LotFrontage', 'LotArea', 'Street', 'Alley', 'LotShape', 'LandContour', 'Utilities', 'LotConfig', 'LandSlope', 'Neighborhood', 'Condition1', 'Condition2', 'BldgType', 'HouseStyle', 'OverallQual', 'OverallCond', 'YearBuilt', 'YearRemodAdd', 'RoofStyle', 'RoofMatl', 'Exterior1st', 'Exterior2nd', 'MasVnrType', 'MasVnrArea', 'ExterQual', 'ExterCond', 'Foundation', 'BsmtQual', 'BsmtCond', 'BsmtExposure', 'BsmtFinType1', 'BsmtFinSF1', 'BsmtFinType2', 'BsmtFinSF2', 'BsmtUnfSF', 'TotalBsmtSF', 'Heating', 'HeatingQC', 'CentralAir', 'Electrical', '1stFlrSF', '2ndFlrSF', 'LowQualFinSF', 'GrLivArea', 'BsmtFullBath', 'BsmtHalfBath', 'FullBath', 'HalfBath', 'BedroomAbvGr', 'KitchenAbvGr', 'KitchenQual', 'TotRmsAbvGrd', 'Functional', 'Fireplaces', 'FireplaceQu', 'GarageType', 'GarageYrBlt', 'GarageFinish', 'GarageCars', 'GarageArea', 'GarageQual', 'GarageCond', 'PavedDrive', 'WoodDeckSF', 'OpenPorchSF', 'EnclosedPorch', '3SsnPorch', 'ScreenPorch', 'PoolArea', 'PoolQC', 'Fence', 'MiscFeature', 'MiscVal', 'MoSold', 'YrSold', 'SaleType', 'SaleCondition'], 'excluded_features': ['row_id'], 'Test_RMSE': '21580.48263', 'Test_MAE': '14452.45960', 'Test_R2': '0.91663'}\n"
     ]
    }
   ],
   "source": [
    "print(v_variable_list)"
   ]
  },
  {
   "cell_type": "code",
   "execution_count": 76,
   "id": "fdbce94d",
   "metadata": {
    "scrolled": true
   },
   "outputs": [
    {
     "data": {
      "text/plain": [
       "dict"
      ]
     },
     "execution_count": 76,
     "metadata": {},
     "output_type": "execute_result"
    }
   ],
   "source": [
    "type(v_variable_list)"
   ]
  },
  {
   "cell_type": "code",
   "execution_count": 77,
   "id": "51902450",
   "metadata": {
    "scrolled": true
   },
   "outputs": [],
   "source": [
    "# Write the dictionary to a JSON file\n",
    "with open(var_path_model + var_model_name_full + \"_variable_list.json\", \"w\") as f:\n",
    "    json.dump(v_variable_list, f, indent=4)"
   ]
  },
  {
   "cell_type": "code",
   "execution_count": 78,
   "id": "d0206df0",
   "metadata": {},
   "outputs": [
    {
     "name": "stdout",
     "output_type": "stream",
     "text": [
      "{'eta': 0.20183112706432677, 'max_depth': 11, 'subsample': 0.5740482749808947, 'colsample_bytree': 0.18710431996403096, 'gamma': 0.37969068750603013, 'alpha': 0.45541552381124745, 'lambda': 0.48724690613063715, 'min_child_weight': 9, 'max_delta_step': 0, 'tree_method': 'approx', 'learning_rate': 0.03394218245392183, 'min_split_loss': 0.3820798571114978, 'max_bin': 226, 'objective': 'reg:squarederror', 'eval_metric': 'rmse'}\n"
     ]
    }
   ],
   "source": [
    "# show the best parameters\n",
    "print(best_params)"
   ]
  },
  {
   "cell_type": "code",
   "execution_count": 79,
   "id": "6823b9a4",
   "metadata": {},
   "outputs": [],
   "source": [
    "with open(var_path_model + var_model_name_full + \"_model_parameters.txt\", \"w\") as file:\n",
    "    print(best_params, file=file)"
   ]
  },
  {
   "cell_type": "code",
   "execution_count": 80,
   "id": "85a0d5e0",
   "metadata": {},
   "outputs": [],
   "source": [
    "df_best_parameters = pd.read_csv(var_path_model + var_model_name_full + \"_model_parameters.txt\", sep = \"@\",header = None, names=[\"xgboost_parameters\"])"
   ]
  },
  {
   "cell_type": "code",
   "execution_count": 81,
   "id": "1550e077",
   "metadata": {},
   "outputs": [
    {
     "data": {
      "text/html": [
       "<div>\n",
       "<style scoped>\n",
       "    .dataframe tbody tr th:only-of-type {\n",
       "        vertical-align: middle;\n",
       "    }\n",
       "\n",
       "    .dataframe tbody tr th {\n",
       "        vertical-align: top;\n",
       "    }\n",
       "\n",
       "    .dataframe thead th {\n",
       "        text-align: right;\n",
       "    }\n",
       "</style>\n",
       "<table border=\"1\" class=\"dataframe\">\n",
       "  <thead>\n",
       "    <tr style=\"text-align: right;\">\n",
       "      <th></th>\n",
       "      <th>xgboost_parameters</th>\n",
       "    </tr>\n",
       "  </thead>\n",
       "  <tbody>\n",
       "    <tr>\n",
       "      <th>0</th>\n",
       "      <td>{'eta': 0.20183112706432677, 'max_depth': 11, ...</td>\n",
       "    </tr>\n",
       "  </tbody>\n",
       "</table>\n",
       "</div>"
      ],
      "text/plain": [
       "                                  xgboost_parameters\n",
       "0  {'eta': 0.20183112706432677, 'max_depth': 11, ..."
      ]
     },
     "execution_count": 81,
     "metadata": {},
     "output_type": "execute_result"
    }
   ],
   "source": [
    "df_best_parameters.head()"
   ]
  },
  {
   "cell_type": "markdown",
   "id": "1840771a",
   "metadata": {},
   "source": [
    "## Apply the XGBoost model with all the settings"
   ]
  },
  {
   "cell_type": "code",
   "execution_count": 82,
   "id": "27f52ff0",
   "metadata": {
    "scrolled": true
   },
   "outputs": [],
   "source": [
    "# Load XGBoost model from the JSON file\n",
    "path_apply_model = var_path_model + var_model_name_full + \"_model_stored.json\"\n",
    "\n",
    "xgboost_apply = xgb.Booster()\n",
    "xgboost_apply.load_model(path_apply_model)"
   ]
  },
  {
   "cell_type": "code",
   "execution_count": 83,
   "id": "96fb22dd",
   "metadata": {},
   "outputs": [],
   "source": [
    "import json\n",
    "\n",
    "# Read the JSON file back into a Python dictionary\n",
    "with open(var_path_model + var_model_name_full + \"_variable_list.json\", \"r\") as f:\n",
    "    loaded_dict = json.load(f)\n",
    "\n",
    "# fill the list of categorical columns\n",
    "new_cat_cols = loaded_dict['cat_cols']\n",
    "new_features = loaded_dict['features']"
   ]
  },
  {
   "cell_type": "code",
   "execution_count": 84,
   "id": "3941a371",
   "metadata": {},
   "outputs": [
    {
     "name": "stdout",
     "output_type": "stream",
     "text": [
      "['MSZoning', 'Street', 'Alley', 'LotShape', 'LandContour', 'Utilities', 'LotConfig', 'LandSlope', 'Neighborhood', 'Condition1', 'Condition2', 'BldgType', 'HouseStyle', 'RoofStyle', 'RoofMatl', 'Exterior1st', 'Exterior2nd', 'MasVnrType', 'ExterQual', 'ExterCond', 'Foundation', 'BsmtQual', 'BsmtCond', 'BsmtExposure', 'BsmtFinType1', 'BsmtFinType2', 'Heating', 'HeatingQC', 'CentralAir', 'Electrical', 'KitchenQual', 'Functional', 'FireplaceQu', 'GarageType', 'GarageFinish', 'GarageQual', 'GarageCond', 'PavedDrive', 'PoolQC', 'Fence', 'MiscFeature', 'SaleType', 'SaleCondition']\n"
     ]
    }
   ],
   "source": [
    "print(new_cat_cols)"
   ]
  },
  {
   "cell_type": "code",
   "execution_count": 85,
   "id": "636830e2",
   "metadata": {
    "scrolled": true
   },
   "outputs": [],
   "source": [
    "df_test_apply = data_test[new_features].copy()\n",
    "df_test_apply[new_cat_cols] = df_test_apply[new_cat_cols].astype('category')"
   ]
  },
  {
   "cell_type": "code",
   "execution_count": 86,
   "id": "65c8e890",
   "metadata": {},
   "outputs": [],
   "source": [
    "# Create DMatrix for new data\n",
    "D_new = xgb.DMatrix(df_test_apply, enable_categorical=True)"
   ]
  },
  {
   "cell_type": "code",
   "execution_count": 87,
   "id": "02c00066",
   "metadata": {
    "scrolled": true
   },
   "outputs": [],
   "source": [
    "# Assuming 'best_model' is your trained XGBoost model\n",
    "# and 'D_new' is an xgboost.DMatrix containing the new data\n",
    "\n",
    "# Get the predicted values\n",
    "predictions = best_model.predict(D_new)\n",
    "\n",
    "# If you need to convert these predictions to a pandas DataFrame or any other format, you can do so\n",
    "# For example, to convert to a pandas DataFrame:\n",
    "predictions_df = pd.DataFrame(predictions, columns=['Predicted_Value'])\n",
    "\n",
    "# Now, predictions_df contains the predicted values for your input data"
   ]
  },
  {
   "cell_type": "code",
   "execution_count": 88,
   "id": "319944ca",
   "metadata": {},
   "outputs": [
    {
     "data": {
      "text/html": [
       "<div>\n",
       "<style scoped>\n",
       "    .dataframe tbody tr th:only-of-type {\n",
       "        vertical-align: middle;\n",
       "    }\n",
       "\n",
       "    .dataframe tbody tr th {\n",
       "        vertical-align: top;\n",
       "    }\n",
       "\n",
       "    .dataframe thead th {\n",
       "        text-align: right;\n",
       "    }\n",
       "</style>\n",
       "<table border=\"1\" class=\"dataframe\">\n",
       "  <thead>\n",
       "    <tr style=\"text-align: right;\">\n",
       "      <th></th>\n",
       "      <th>Predicted_Value</th>\n",
       "    </tr>\n",
       "  </thead>\n",
       "  <tbody>\n",
       "    <tr>\n",
       "      <th>0</th>\n",
       "      <td>222757.187500</td>\n",
       "    </tr>\n",
       "    <tr>\n",
       "      <th>1</th>\n",
       "      <td>158539.140625</td>\n",
       "    </tr>\n",
       "    <tr>\n",
       "      <th>2</th>\n",
       "      <td>126726.390625</td>\n",
       "    </tr>\n",
       "    <tr>\n",
       "      <th>3</th>\n",
       "      <td>125210.359375</td>\n",
       "    </tr>\n",
       "    <tr>\n",
       "      <th>4</th>\n",
       "      <td>347833.406250</td>\n",
       "    </tr>\n",
       "  </tbody>\n",
       "</table>\n",
       "</div>"
      ],
      "text/plain": [
       "   Predicted_Value\n",
       "0    222757.187500\n",
       "1    158539.140625\n",
       "2    126726.390625\n",
       "3    125210.359375\n",
       "4    347833.406250"
      ]
     },
     "execution_count": 88,
     "metadata": {},
     "output_type": "execute_result"
    }
   ],
   "source": [
    "predictions_df.head()"
   ]
  },
  {
   "cell_type": "code",
   "execution_count": 89,
   "id": "dab9064a",
   "metadata": {
    "scrolled": true
   },
   "outputs": [],
   "source": [
    "# Join the original target column with the predicted probabilities\n",
    "result = pd.concat([data_test, predictions_df], axis=1)"
   ]
  },
  {
   "cell_type": "code",
   "execution_count": 90,
   "id": "dd897cf7",
   "metadata": {},
   "outputs": [
    {
     "data": {
      "text/html": [
       "<div>\n",
       "<style scoped>\n",
       "    .dataframe tbody tr th:only-of-type {\n",
       "        vertical-align: middle;\n",
       "    }\n",
       "\n",
       "    .dataframe tbody tr th {\n",
       "        vertical-align: top;\n",
       "    }\n",
       "\n",
       "    .dataframe thead th {\n",
       "        text-align: right;\n",
       "    }\n",
       "</style>\n",
       "<table border=\"1\" class=\"dataframe\">\n",
       "  <thead>\n",
       "    <tr style=\"text-align: right;\">\n",
       "      <th></th>\n",
       "      <th>MSSubClass</th>\n",
       "      <th>MSZoning</th>\n",
       "      <th>LotFrontage</th>\n",
       "      <th>LotArea</th>\n",
       "      <th>Street</th>\n",
       "      <th>Alley</th>\n",
       "      <th>LotShape</th>\n",
       "      <th>LandContour</th>\n",
       "      <th>Utilities</th>\n",
       "      <th>LotConfig</th>\n",
       "      <th>...</th>\n",
       "      <th>PoolQC</th>\n",
       "      <th>Fence</th>\n",
       "      <th>MiscFeature</th>\n",
       "      <th>MiscVal</th>\n",
       "      <th>MoSold</th>\n",
       "      <th>YrSold</th>\n",
       "      <th>SaleType</th>\n",
       "      <th>SaleCondition</th>\n",
       "      <th>Target</th>\n",
       "      <th>Predicted_Value</th>\n",
       "    </tr>\n",
       "  </thead>\n",
       "  <tbody>\n",
       "    <tr>\n",
       "      <th>0</th>\n",
       "      <td>60</td>\n",
       "      <td>RL</td>\n",
       "      <td>NaN</td>\n",
       "      <td>10382</td>\n",
       "      <td>Pave</td>\n",
       "      <td>NA</td>\n",
       "      <td>IR1</td>\n",
       "      <td>Lvl</td>\n",
       "      <td>AllPub</td>\n",
       "      <td>Corner</td>\n",
       "      <td>...</td>\n",
       "      <td>NA</td>\n",
       "      <td>NA</td>\n",
       "      <td>Shed</td>\n",
       "      <td>350</td>\n",
       "      <td>11</td>\n",
       "      <td>2009</td>\n",
       "      <td>WD</td>\n",
       "      <td>Normal</td>\n",
       "      <td>200000</td>\n",
       "      <td>222757.187500</td>\n",
       "    </tr>\n",
       "    <tr>\n",
       "      <th>1</th>\n",
       "      <td>50</td>\n",
       "      <td>RM</td>\n",
       "      <td>51.0</td>\n",
       "      <td>6120</td>\n",
       "      <td>Pave</td>\n",
       "      <td>NA</td>\n",
       "      <td>Reg</td>\n",
       "      <td>Lvl</td>\n",
       "      <td>AllPub</td>\n",
       "      <td>Inside</td>\n",
       "      <td>...</td>\n",
       "      <td>NA</td>\n",
       "      <td>NA</td>\n",
       "      <td>NA</td>\n",
       "      <td>0</td>\n",
       "      <td>4</td>\n",
       "      <td>2008</td>\n",
       "      <td>WD</td>\n",
       "      <td>Abnorml</td>\n",
       "      <td>129900</td>\n",
       "      <td>158539.140625</td>\n",
       "    </tr>\n",
       "    <tr>\n",
       "      <th>2</th>\n",
       "      <td>190</td>\n",
       "      <td>RL</td>\n",
       "      <td>50.0</td>\n",
       "      <td>7420</td>\n",
       "      <td>Pave</td>\n",
       "      <td>NA</td>\n",
       "      <td>Reg</td>\n",
       "      <td>Lvl</td>\n",
       "      <td>AllPub</td>\n",
       "      <td>Corner</td>\n",
       "      <td>...</td>\n",
       "      <td>NA</td>\n",
       "      <td>NA</td>\n",
       "      <td>NA</td>\n",
       "      <td>0</td>\n",
       "      <td>1</td>\n",
       "      <td>2008</td>\n",
       "      <td>WD</td>\n",
       "      <td>Normal</td>\n",
       "      <td>118000</td>\n",
       "      <td>126726.390625</td>\n",
       "    </tr>\n",
       "    <tr>\n",
       "      <th>3</th>\n",
       "      <td>45</td>\n",
       "      <td>RM</td>\n",
       "      <td>51.0</td>\n",
       "      <td>6120</td>\n",
       "      <td>Pave</td>\n",
       "      <td>NA</td>\n",
       "      <td>Reg</td>\n",
       "      <td>Lvl</td>\n",
       "      <td>AllPub</td>\n",
       "      <td>Corner</td>\n",
       "      <td>...</td>\n",
       "      <td>NA</td>\n",
       "      <td>GdPrv</td>\n",
       "      <td>NA</td>\n",
       "      <td>0</td>\n",
       "      <td>7</td>\n",
       "      <td>2007</td>\n",
       "      <td>WD</td>\n",
       "      <td>Normal</td>\n",
       "      <td>132000</td>\n",
       "      <td>125210.359375</td>\n",
       "    </tr>\n",
       "    <tr>\n",
       "      <th>4</th>\n",
       "      <td>60</td>\n",
       "      <td>RL</td>\n",
       "      <td>101.0</td>\n",
       "      <td>14215</td>\n",
       "      <td>Pave</td>\n",
       "      <td>NA</td>\n",
       "      <td>IR1</td>\n",
       "      <td>Lvl</td>\n",
       "      <td>AllPub</td>\n",
       "      <td>Corner</td>\n",
       "      <td>...</td>\n",
       "      <td>NA</td>\n",
       "      <td>NA</td>\n",
       "      <td>NA</td>\n",
       "      <td>0</td>\n",
       "      <td>11</td>\n",
       "      <td>2006</td>\n",
       "      <td>New</td>\n",
       "      <td>Partial</td>\n",
       "      <td>325300</td>\n",
       "      <td>347833.406250</td>\n",
       "    </tr>\n",
       "  </tbody>\n",
       "</table>\n",
       "<p>5 rows × 81 columns</p>\n",
       "</div>"
      ],
      "text/plain": [
       "   MSSubClass MSZoning  LotFrontage  LotArea Street Alley LotShape  \\\n",
       "0          60       RL          NaN    10382   Pave    NA      IR1   \n",
       "1          50       RM         51.0     6120   Pave    NA      Reg   \n",
       "2         190       RL         50.0     7420   Pave    NA      Reg   \n",
       "3          45       RM         51.0     6120   Pave    NA      Reg   \n",
       "4          60       RL        101.0    14215   Pave    NA      IR1   \n",
       "\n",
       "  LandContour Utilities LotConfig  ... PoolQC  Fence MiscFeature MiscVal  \\\n",
       "0         Lvl    AllPub    Corner  ...     NA     NA        Shed     350   \n",
       "1         Lvl    AllPub    Inside  ...     NA     NA          NA       0   \n",
       "2         Lvl    AllPub    Corner  ...     NA     NA          NA       0   \n",
       "3         Lvl    AllPub    Corner  ...     NA  GdPrv          NA       0   \n",
       "4         Lvl    AllPub    Corner  ...     NA     NA          NA       0   \n",
       "\n",
       "  MoSold YrSold  SaleType  SaleCondition  Target  Predicted_Value  \n",
       "0     11   2009        WD         Normal  200000    222757.187500  \n",
       "1      4   2008        WD        Abnorml  129900    158539.140625  \n",
       "2      1   2008        WD         Normal  118000    126726.390625  \n",
       "3      7   2007        WD         Normal  132000    125210.359375  \n",
       "4     11   2006       New        Partial  325300    347833.406250  \n",
       "\n",
       "[5 rows x 81 columns]"
      ]
     },
     "execution_count": 90,
     "metadata": {},
     "output_type": "execute_result"
    }
   ],
   "source": [
    "result.head()"
   ]
  },
  {
   "cell_type": "code",
   "execution_count": 91,
   "id": "d4a5938d",
   "metadata": {
    "scrolled": true
   },
   "outputs": [],
   "source": [
    "result.to_parquet(var_path_data + var_model_name_full + \"_scored_test_data.parquet\", compression='gzip')"
   ]
  },
  {
   "cell_type": "code",
   "execution_count": 92,
   "id": "42d12475",
   "metadata": {
    "scrolled": true
   },
   "outputs": [
    {
     "name": "stdout",
     "output_type": "stream",
     "text": [
      "Test RMSE: 33720.2999\n",
      "Test MAE: 18624.5171\n",
      "Test R-squared: 0.7795\n"
     ]
    }
   ],
   "source": [
    "# Assuming 'result' is a DataFrame with the actual targets and the predicted values\n",
    "\n",
    "# Calculate RMSE using root_mean_squared_error\n",
    "rmse = root_mean_squared_error(result['Target'], result['Predicted_Value'])\n",
    "print(f'Test RMSE: {rmse:.4f}')\n",
    "\n",
    "# Calculate MAE\n",
    "mae = mean_absolute_error(result['Target'], result['Predicted_Value'])\n",
    "print(f'Test MAE: {mae:.4f}')\n",
    "\n",
    "# Calculate R-squared\n",
    "r2 = r2_score(result['Target'], result['Predicted_Value'])\n",
    "print(f'Test R-squared: {r2:.4f}')\n",
    "\n"
   ]
  },
  {
   "cell_type": "code",
   "execution_count": 93,
   "id": "307a5f47",
   "metadata": {},
   "outputs": [
    {
     "data": {
      "image/png": "[encoded data removed]",
      "text/plain": [
       "<Figure size 1000x600 with 1 Axes>"
      ]
     },
     "metadata": {},
     "output_type": "display_data"
    }
   ],
   "source": [
    "import matplotlib.pyplot as plt\n",
    "\n",
    "# Assuming 'result' is a DataFrame with the actual targets ('Target') and the predicted values ('Predicted_Value')\n",
    "\n",
    "# Scatter plot of Predicted vs. Actual values\n",
    "plt.figure(figsize=(10, 6))\n",
    "plt.scatter(result['Target'], result['Predicted_Value'], alpha=0.3)\n",
    "plt.plot([result['Target'].min(), result['Target'].max()], [result['Target'].min(), result['Target'].max()], '--r', linewidth=2)\n",
    "plt.xlabel('Actual Value')\n",
    "plt.ylabel('Predicted Value')\n",
    "plt.title('Scatter Plot of Actual vs. Predicted Values')\n",
    "plt.show()\n"
   ]
  },
  {
   "cell_type": "markdown",
   "id": "04c334cd-10c2-4284-835a-d63c93931aec",
   "metadata": {},
   "source": [
    "### Scatter Plot of Predicted vs. Actual Values\n",
    "\n",
    "This plot displays each predicted value against its corresponding actual value.\n",
    "\n",
    "- **Ideal Scenario**: In a perfect model, all points would lie on the diagonal line, indicating that predictions are exactly the same as the actual values.\n",
    "- **Good Fit**: Points clustered around the diagonal line suggest a good fit; the closer they are to the line, the better the predictions.\n",
    "- **Systematic Bias**: Systematic deviations above or below the diagonal line might indicate a bias in the predictions.\n",
    "- **Variance**: A wide spread of points around the diagonal line suggests high variance and inconsistent prediction accuracy.\n"
   ]
  },
  {
   "cell_type": "code",
   "execution_count": 94,
   "id": "976c8d9b-1d60-43db-8f2e-397d3fe486b0",
   "metadata": {},
   "outputs": [
    {
     "data": {
      "image/png": "[encoded data removed]",
      "text/plain": [
       "<Figure size 1000x600 with 1 Axes>"
      ]
     },
     "metadata": {},
     "output_type": "display_data"
    }
   ],
   "source": [
    "# Residual Plot\n",
    "residuals = result['Predicted_Value'] - result['Target']\n",
    "plt.figure(figsize=(10, 6))\n",
    "plt.scatter(result['Predicted_Value'], residuals, alpha=0.3)\n",
    "plt.hlines(y=0, xmin=result['Predicted_Value'].min(), xmax=result['Predicted_Value'].max(), colors='r', linestyles='--')\n",
    "plt.xlabel('Predicted Value')\n",
    "plt.ylabel('Residuals')\n",
    "plt.title('Residual Plot')\n",
    "plt.show()"
   ]
  },
  {
   "cell_type": "markdown",
   "id": "72ece825-6b9c-4ec6-a0b8-e81fb52c4324",
   "metadata": {},
   "source": [
    "### Residual Plot\n",
    "\n",
    "The residual plot shows the residuals (the differences between actual and predicted values) against the predicted values.\n",
    "\n",
    "- **Random Distribution**: Ideally, residuals should be randomly distributed around the horizontal line at zero, with no discernible pattern.\n",
    "- **Patterns or Trends**: Structured patterns, such as curves or clustered groups, suggest that the model is not capturing some aspect of the data's structure.\n",
    "- **Homoscedasticity**: The spread of residuals should be roughly constant across all levels of predicted values. A spread that increases or decreases with predicted value indicates heteroscedasticity.\n"
   ]
  },
  {
   "cell_type": "code",
   "execution_count": 95,
   "id": "ddb24265",
   "metadata": {},
   "outputs": [
    {
     "data": {
      "image/png": "[encoded data removed]",
      "text/plain": [
       "<Figure size 1000x600 with 1 Axes>"
      ]
     },
     "metadata": {},
     "output_type": "display_data"
    }
   ],
   "source": [
    "# Histogram of the Residuals\n",
    "plt.figure(figsize=(10, 6))\n",
    "plt.hist(residuals, bins=20, edgecolor='black', alpha=0.7)\n",
    "plt.xlabel('Residuals')\n",
    "plt.ylabel('Frequency')\n",
    "plt.title('Histogram of Residuals')\n",
    "plt.show()"
   ]
  },
  {
   "cell_type": "markdown",
   "id": "0a1468d2-3311-480e-8cb9-b1b045fe28d2",
   "metadata": {},
   "source": [
    "### Histogram of the Residuals\n",
    "\n",
    "The histogram of residuals shows the frequency of each range of residual values.\n",
    "\n",
    "- **Normal Distribution**: A well-fitting model should have residuals normally distributed around zero, indicated by a bell-shaped curve with the peak at zero.\n",
    "- **Skewness**: A non-symmetrical histogram suggests systematic over or under-prediction.\n",
    "- **Outliers**: Bars on the far left or right indicate the presence of outliers where the model's predictions were significantly off.\n"
   ]
  },
  {
   "cell_type": "markdown",
   "id": "5f2c7c65-5c4b-4f99-84f3-eaa5da579bca",
   "metadata": {},
   "source": [
    "## SHAP"
   ]
  },
  {
   "cell_type": "code",
   "execution_count": null,
   "id": "198f00dc-37ac-4d0f-b67c-958bc23b723f",
   "metadata": {},
   "outputs": [],
   "source": []
  },
  {
   "cell_type": "code",
   "execution_count": null,
   "id": "c33f5b54-b103-4b10-9fd0-3acd75942765",
   "metadata": {},
   "outputs": [],
   "source": []
  }
 ],
 "metadata": {
  "kernelspec": {
   "display_name": "Python 3 (ipykernel)",
   "language": "python",
   "name": "python3"
  },
  "language_info": {
   "codemirror_mode": {
    "name": "ipython",
    "version": 3
   },
   "file_extension": ".py",
   "mimetype": "text/x-python",
   "name": "python",
   "nbconvert_exporter": "python",
   "pygments_lexer": "ipython3",
   "version": "3.9.15"
  }
 },
 "nbformat": 4,
 "nbformat_minor": 5
}
